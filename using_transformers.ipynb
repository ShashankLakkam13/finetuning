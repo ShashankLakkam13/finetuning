{
  "nbformat": 4,
  "nbformat_minor": 0,
  "metadata": {
    "colab": {
      "provenance": []
    },
    "kernelspec": {
      "name": "python3",
      "display_name": "Python 3"
    },
    "language_info": {
      "name": "python"
    },
    "widgets": {
      "application/vnd.jupyter.widget-state+json": {
        "4da4383d6d0b481798c497dcdd7fb707": {
          "model_module": "@jupyter-widgets/controls",
          "model_name": "HBoxModel",
          "model_module_version": "1.5.0",
          "state": {
            "_dom_classes": [],
            "_model_module": "@jupyter-widgets/controls",
            "_model_module_version": "1.5.0",
            "_model_name": "HBoxModel",
            "_view_count": null,
            "_view_module": "@jupyter-widgets/controls",
            "_view_module_version": "1.5.0",
            "_view_name": "HBoxView",
            "box_style": "",
            "children": [
              "IPY_MODEL_cdf3b371fcf44f5f8f7cf3073a56efce",
              "IPY_MODEL_72066acca9b64f3f9e5e5ff53736b6d5",
              "IPY_MODEL_7a17d03a6ab14d638dfdfa68b35687bf"
            ],
            "layout": "IPY_MODEL_7488fa7f78f74e0bad3f0fc2bee76629"
          }
        },
        "cdf3b371fcf44f5f8f7cf3073a56efce": {
          "model_module": "@jupyter-widgets/controls",
          "model_name": "HTMLModel",
          "model_module_version": "1.5.0",
          "state": {
            "_dom_classes": [],
            "_model_module": "@jupyter-widgets/controls",
            "_model_module_version": "1.5.0",
            "_model_name": "HTMLModel",
            "_view_count": null,
            "_view_module": "@jupyter-widgets/controls",
            "_view_module_version": "1.5.0",
            "_view_name": "HTMLView",
            "description": "",
            "description_tooltip": null,
            "layout": "IPY_MODEL_97b2724883e8482b91f4b9dea96621b6",
            "placeholder": "​",
            "style": "IPY_MODEL_6a56a499fab84af1bb9072f77e6443f5",
            "value": "config.json: 100%"
          }
        },
        "72066acca9b64f3f9e5e5ff53736b6d5": {
          "model_module": "@jupyter-widgets/controls",
          "model_name": "FloatProgressModel",
          "model_module_version": "1.5.0",
          "state": {
            "_dom_classes": [],
            "_model_module": "@jupyter-widgets/controls",
            "_model_module_version": "1.5.0",
            "_model_name": "FloatProgressModel",
            "_view_count": null,
            "_view_module": "@jupyter-widgets/controls",
            "_view_module_version": "1.5.0",
            "_view_name": "ProgressView",
            "bar_style": "success",
            "description": "",
            "description_tooltip": null,
            "layout": "IPY_MODEL_13ad5fc7af914bc3807dab84b5039a1e",
            "max": 629,
            "min": 0,
            "orientation": "horizontal",
            "style": "IPY_MODEL_93d12c6e5e2d4203883b9a0862c6459e",
            "value": 629
          }
        },
        "7a17d03a6ab14d638dfdfa68b35687bf": {
          "model_module": "@jupyter-widgets/controls",
          "model_name": "HTMLModel",
          "model_module_version": "1.5.0",
          "state": {
            "_dom_classes": [],
            "_model_module": "@jupyter-widgets/controls",
            "_model_module_version": "1.5.0",
            "_model_name": "HTMLModel",
            "_view_count": null,
            "_view_module": "@jupyter-widgets/controls",
            "_view_module_version": "1.5.0",
            "_view_name": "HTMLView",
            "description": "",
            "description_tooltip": null,
            "layout": "IPY_MODEL_f162577a6efe4972900ee6afb7652120",
            "placeholder": "​",
            "style": "IPY_MODEL_225070bf15a54682a7d0c1acf9d71f22",
            "value": " 629/629 [00:00&lt;00:00, 12.9kB/s]"
          }
        },
        "7488fa7f78f74e0bad3f0fc2bee76629": {
          "model_module": "@jupyter-widgets/base",
          "model_name": "LayoutModel",
          "model_module_version": "1.2.0",
          "state": {
            "_model_module": "@jupyter-widgets/base",
            "_model_module_version": "1.2.0",
            "_model_name": "LayoutModel",
            "_view_count": null,
            "_view_module": "@jupyter-widgets/base",
            "_view_module_version": "1.2.0",
            "_view_name": "LayoutView",
            "align_content": null,
            "align_items": null,
            "align_self": null,
            "border": null,
            "bottom": null,
            "display": null,
            "flex": null,
            "flex_flow": null,
            "grid_area": null,
            "grid_auto_columns": null,
            "grid_auto_flow": null,
            "grid_auto_rows": null,
            "grid_column": null,
            "grid_gap": null,
            "grid_row": null,
            "grid_template_areas": null,
            "grid_template_columns": null,
            "grid_template_rows": null,
            "height": null,
            "justify_content": null,
            "justify_items": null,
            "left": null,
            "margin": null,
            "max_height": null,
            "max_width": null,
            "min_height": null,
            "min_width": null,
            "object_fit": null,
            "object_position": null,
            "order": null,
            "overflow": null,
            "overflow_x": null,
            "overflow_y": null,
            "padding": null,
            "right": null,
            "top": null,
            "visibility": null,
            "width": null
          }
        },
        "97b2724883e8482b91f4b9dea96621b6": {
          "model_module": "@jupyter-widgets/base",
          "model_name": "LayoutModel",
          "model_module_version": "1.2.0",
          "state": {
            "_model_module": "@jupyter-widgets/base",
            "_model_module_version": "1.2.0",
            "_model_name": "LayoutModel",
            "_view_count": null,
            "_view_module": "@jupyter-widgets/base",
            "_view_module_version": "1.2.0",
            "_view_name": "LayoutView",
            "align_content": null,
            "align_items": null,
            "align_self": null,
            "border": null,
            "bottom": null,
            "display": null,
            "flex": null,
            "flex_flow": null,
            "grid_area": null,
            "grid_auto_columns": null,
            "grid_auto_flow": null,
            "grid_auto_rows": null,
            "grid_column": null,
            "grid_gap": null,
            "grid_row": null,
            "grid_template_areas": null,
            "grid_template_columns": null,
            "grid_template_rows": null,
            "height": null,
            "justify_content": null,
            "justify_items": null,
            "left": null,
            "margin": null,
            "max_height": null,
            "max_width": null,
            "min_height": null,
            "min_width": null,
            "object_fit": null,
            "object_position": null,
            "order": null,
            "overflow": null,
            "overflow_x": null,
            "overflow_y": null,
            "padding": null,
            "right": null,
            "top": null,
            "visibility": null,
            "width": null
          }
        },
        "6a56a499fab84af1bb9072f77e6443f5": {
          "model_module": "@jupyter-widgets/controls",
          "model_name": "DescriptionStyleModel",
          "model_module_version": "1.5.0",
          "state": {
            "_model_module": "@jupyter-widgets/controls",
            "_model_module_version": "1.5.0",
            "_model_name": "DescriptionStyleModel",
            "_view_count": null,
            "_view_module": "@jupyter-widgets/base",
            "_view_module_version": "1.2.0",
            "_view_name": "StyleView",
            "description_width": ""
          }
        },
        "13ad5fc7af914bc3807dab84b5039a1e": {
          "model_module": "@jupyter-widgets/base",
          "model_name": "LayoutModel",
          "model_module_version": "1.2.0",
          "state": {
            "_model_module": "@jupyter-widgets/base",
            "_model_module_version": "1.2.0",
            "_model_name": "LayoutModel",
            "_view_count": null,
            "_view_module": "@jupyter-widgets/base",
            "_view_module_version": "1.2.0",
            "_view_name": "LayoutView",
            "align_content": null,
            "align_items": null,
            "align_self": null,
            "border": null,
            "bottom": null,
            "display": null,
            "flex": null,
            "flex_flow": null,
            "grid_area": null,
            "grid_auto_columns": null,
            "grid_auto_flow": null,
            "grid_auto_rows": null,
            "grid_column": null,
            "grid_gap": null,
            "grid_row": null,
            "grid_template_areas": null,
            "grid_template_columns": null,
            "grid_template_rows": null,
            "height": null,
            "justify_content": null,
            "justify_items": null,
            "left": null,
            "margin": null,
            "max_height": null,
            "max_width": null,
            "min_height": null,
            "min_width": null,
            "object_fit": null,
            "object_position": null,
            "order": null,
            "overflow": null,
            "overflow_x": null,
            "overflow_y": null,
            "padding": null,
            "right": null,
            "top": null,
            "visibility": null,
            "width": null
          }
        },
        "93d12c6e5e2d4203883b9a0862c6459e": {
          "model_module": "@jupyter-widgets/controls",
          "model_name": "ProgressStyleModel",
          "model_module_version": "1.5.0",
          "state": {
            "_model_module": "@jupyter-widgets/controls",
            "_model_module_version": "1.5.0",
            "_model_name": "ProgressStyleModel",
            "_view_count": null,
            "_view_module": "@jupyter-widgets/base",
            "_view_module_version": "1.2.0",
            "_view_name": "StyleView",
            "bar_color": null,
            "description_width": ""
          }
        },
        "f162577a6efe4972900ee6afb7652120": {
          "model_module": "@jupyter-widgets/base",
          "model_name": "LayoutModel",
          "model_module_version": "1.2.0",
          "state": {
            "_model_module": "@jupyter-widgets/base",
            "_model_module_version": "1.2.0",
            "_model_name": "LayoutModel",
            "_view_count": null,
            "_view_module": "@jupyter-widgets/base",
            "_view_module_version": "1.2.0",
            "_view_name": "LayoutView",
            "align_content": null,
            "align_items": null,
            "align_self": null,
            "border": null,
            "bottom": null,
            "display": null,
            "flex": null,
            "flex_flow": null,
            "grid_area": null,
            "grid_auto_columns": null,
            "grid_auto_flow": null,
            "grid_auto_rows": null,
            "grid_column": null,
            "grid_gap": null,
            "grid_row": null,
            "grid_template_areas": null,
            "grid_template_columns": null,
            "grid_template_rows": null,
            "height": null,
            "justify_content": null,
            "justify_items": null,
            "left": null,
            "margin": null,
            "max_height": null,
            "max_width": null,
            "min_height": null,
            "min_width": null,
            "object_fit": null,
            "object_position": null,
            "order": null,
            "overflow": null,
            "overflow_x": null,
            "overflow_y": null,
            "padding": null,
            "right": null,
            "top": null,
            "visibility": null,
            "width": null
          }
        },
        "225070bf15a54682a7d0c1acf9d71f22": {
          "model_module": "@jupyter-widgets/controls",
          "model_name": "DescriptionStyleModel",
          "model_module_version": "1.5.0",
          "state": {
            "_model_module": "@jupyter-widgets/controls",
            "_model_module_version": "1.5.0",
            "_model_name": "DescriptionStyleModel",
            "_view_count": null,
            "_view_module": "@jupyter-widgets/base",
            "_view_module_version": "1.2.0",
            "_view_name": "StyleView",
            "description_width": ""
          }
        },
        "3963e43295bb48efa27e566cd3f4efd7": {
          "model_module": "@jupyter-widgets/controls",
          "model_name": "HBoxModel",
          "model_module_version": "1.5.0",
          "state": {
            "_dom_classes": [],
            "_model_module": "@jupyter-widgets/controls",
            "_model_module_version": "1.5.0",
            "_model_name": "HBoxModel",
            "_view_count": null,
            "_view_module": "@jupyter-widgets/controls",
            "_view_module_version": "1.5.0",
            "_view_name": "HBoxView",
            "box_style": "",
            "children": [
              "IPY_MODEL_9b3af55961714ff5b5b811eafb4205e3",
              "IPY_MODEL_032c91e4c7dc4c8e9b6a2396c51947e8",
              "IPY_MODEL_dabdbce121a04c2199cc09ac2719585c"
            ],
            "layout": "IPY_MODEL_e35ae53caaae442b8d474f150edc1b6f"
          }
        },
        "9b3af55961714ff5b5b811eafb4205e3": {
          "model_module": "@jupyter-widgets/controls",
          "model_name": "HTMLModel",
          "model_module_version": "1.5.0",
          "state": {
            "_dom_classes": [],
            "_model_module": "@jupyter-widgets/controls",
            "_model_module_version": "1.5.0",
            "_model_name": "HTMLModel",
            "_view_count": null,
            "_view_module": "@jupyter-widgets/controls",
            "_view_module_version": "1.5.0",
            "_view_name": "HTMLView",
            "description": "",
            "description_tooltip": null,
            "layout": "IPY_MODEL_424a50f45ff04c6f99f7cda4c514b018",
            "placeholder": "​",
            "style": "IPY_MODEL_28e4ebd741554ea8ae2b068a376649d8",
            "value": "model.safetensors: 100%"
          }
        },
        "032c91e4c7dc4c8e9b6a2396c51947e8": {
          "model_module": "@jupyter-widgets/controls",
          "model_name": "FloatProgressModel",
          "model_module_version": "1.5.0",
          "state": {
            "_dom_classes": [],
            "_model_module": "@jupyter-widgets/controls",
            "_model_module_version": "1.5.0",
            "_model_name": "FloatProgressModel",
            "_view_count": null,
            "_view_module": "@jupyter-widgets/controls",
            "_view_module_version": "1.5.0",
            "_view_name": "ProgressView",
            "bar_style": "success",
            "description": "",
            "description_tooltip": null,
            "layout": "IPY_MODEL_2c7351f7642b4bb5bdaae6f53fa45bba",
            "max": 267832558,
            "min": 0,
            "orientation": "horizontal",
            "style": "IPY_MODEL_e319c8c24adf4adc81bef10da6b6af34",
            "value": 267832558
          }
        },
        "dabdbce121a04c2199cc09ac2719585c": {
          "model_module": "@jupyter-widgets/controls",
          "model_name": "HTMLModel",
          "model_module_version": "1.5.0",
          "state": {
            "_dom_classes": [],
            "_model_module": "@jupyter-widgets/controls",
            "_model_module_version": "1.5.0",
            "_model_name": "HTMLModel",
            "_view_count": null,
            "_view_module": "@jupyter-widgets/controls",
            "_view_module_version": "1.5.0",
            "_view_name": "HTMLView",
            "description": "",
            "description_tooltip": null,
            "layout": "IPY_MODEL_1c434c9337104b1881c841b5709b81ea",
            "placeholder": "​",
            "style": "IPY_MODEL_a20b67f94eef42d5804193625bf29b3c",
            "value": " 268M/268M [00:01&lt;00:00, 159MB/s]"
          }
        },
        "e35ae53caaae442b8d474f150edc1b6f": {
          "model_module": "@jupyter-widgets/base",
          "model_name": "LayoutModel",
          "model_module_version": "1.2.0",
          "state": {
            "_model_module": "@jupyter-widgets/base",
            "_model_module_version": "1.2.0",
            "_model_name": "LayoutModel",
            "_view_count": null,
            "_view_module": "@jupyter-widgets/base",
            "_view_module_version": "1.2.0",
            "_view_name": "LayoutView",
            "align_content": null,
            "align_items": null,
            "align_self": null,
            "border": null,
            "bottom": null,
            "display": null,
            "flex": null,
            "flex_flow": null,
            "grid_area": null,
            "grid_auto_columns": null,
            "grid_auto_flow": null,
            "grid_auto_rows": null,
            "grid_column": null,
            "grid_gap": null,
            "grid_row": null,
            "grid_template_areas": null,
            "grid_template_columns": null,
            "grid_template_rows": null,
            "height": null,
            "justify_content": null,
            "justify_items": null,
            "left": null,
            "margin": null,
            "max_height": null,
            "max_width": null,
            "min_height": null,
            "min_width": null,
            "object_fit": null,
            "object_position": null,
            "order": null,
            "overflow": null,
            "overflow_x": null,
            "overflow_y": null,
            "padding": null,
            "right": null,
            "top": null,
            "visibility": null,
            "width": null
          }
        },
        "424a50f45ff04c6f99f7cda4c514b018": {
          "model_module": "@jupyter-widgets/base",
          "model_name": "LayoutModel",
          "model_module_version": "1.2.0",
          "state": {
            "_model_module": "@jupyter-widgets/base",
            "_model_module_version": "1.2.0",
            "_model_name": "LayoutModel",
            "_view_count": null,
            "_view_module": "@jupyter-widgets/base",
            "_view_module_version": "1.2.0",
            "_view_name": "LayoutView",
            "align_content": null,
            "align_items": null,
            "align_self": null,
            "border": null,
            "bottom": null,
            "display": null,
            "flex": null,
            "flex_flow": null,
            "grid_area": null,
            "grid_auto_columns": null,
            "grid_auto_flow": null,
            "grid_auto_rows": null,
            "grid_column": null,
            "grid_gap": null,
            "grid_row": null,
            "grid_template_areas": null,
            "grid_template_columns": null,
            "grid_template_rows": null,
            "height": null,
            "justify_content": null,
            "justify_items": null,
            "left": null,
            "margin": null,
            "max_height": null,
            "max_width": null,
            "min_height": null,
            "min_width": null,
            "object_fit": null,
            "object_position": null,
            "order": null,
            "overflow": null,
            "overflow_x": null,
            "overflow_y": null,
            "padding": null,
            "right": null,
            "top": null,
            "visibility": null,
            "width": null
          }
        },
        "28e4ebd741554ea8ae2b068a376649d8": {
          "model_module": "@jupyter-widgets/controls",
          "model_name": "DescriptionStyleModel",
          "model_module_version": "1.5.0",
          "state": {
            "_model_module": "@jupyter-widgets/controls",
            "_model_module_version": "1.5.0",
            "_model_name": "DescriptionStyleModel",
            "_view_count": null,
            "_view_module": "@jupyter-widgets/base",
            "_view_module_version": "1.2.0",
            "_view_name": "StyleView",
            "description_width": ""
          }
        },
        "2c7351f7642b4bb5bdaae6f53fa45bba": {
          "model_module": "@jupyter-widgets/base",
          "model_name": "LayoutModel",
          "model_module_version": "1.2.0",
          "state": {
            "_model_module": "@jupyter-widgets/base",
            "_model_module_version": "1.2.0",
            "_model_name": "LayoutModel",
            "_view_count": null,
            "_view_module": "@jupyter-widgets/base",
            "_view_module_version": "1.2.0",
            "_view_name": "LayoutView",
            "align_content": null,
            "align_items": null,
            "align_self": null,
            "border": null,
            "bottom": null,
            "display": null,
            "flex": null,
            "flex_flow": null,
            "grid_area": null,
            "grid_auto_columns": null,
            "grid_auto_flow": null,
            "grid_auto_rows": null,
            "grid_column": null,
            "grid_gap": null,
            "grid_row": null,
            "grid_template_areas": null,
            "grid_template_columns": null,
            "grid_template_rows": null,
            "height": null,
            "justify_content": null,
            "justify_items": null,
            "left": null,
            "margin": null,
            "max_height": null,
            "max_width": null,
            "min_height": null,
            "min_width": null,
            "object_fit": null,
            "object_position": null,
            "order": null,
            "overflow": null,
            "overflow_x": null,
            "overflow_y": null,
            "padding": null,
            "right": null,
            "top": null,
            "visibility": null,
            "width": null
          }
        },
        "e319c8c24adf4adc81bef10da6b6af34": {
          "model_module": "@jupyter-widgets/controls",
          "model_name": "ProgressStyleModel",
          "model_module_version": "1.5.0",
          "state": {
            "_model_module": "@jupyter-widgets/controls",
            "_model_module_version": "1.5.0",
            "_model_name": "ProgressStyleModel",
            "_view_count": null,
            "_view_module": "@jupyter-widgets/base",
            "_view_module_version": "1.2.0",
            "_view_name": "StyleView",
            "bar_color": null,
            "description_width": ""
          }
        },
        "1c434c9337104b1881c841b5709b81ea": {
          "model_module": "@jupyter-widgets/base",
          "model_name": "LayoutModel",
          "model_module_version": "1.2.0",
          "state": {
            "_model_module": "@jupyter-widgets/base",
            "_model_module_version": "1.2.0",
            "_model_name": "LayoutModel",
            "_view_count": null,
            "_view_module": "@jupyter-widgets/base",
            "_view_module_version": "1.2.0",
            "_view_name": "LayoutView",
            "align_content": null,
            "align_items": null,
            "align_self": null,
            "border": null,
            "bottom": null,
            "display": null,
            "flex": null,
            "flex_flow": null,
            "grid_area": null,
            "grid_auto_columns": null,
            "grid_auto_flow": null,
            "grid_auto_rows": null,
            "grid_column": null,
            "grid_gap": null,
            "grid_row": null,
            "grid_template_areas": null,
            "grid_template_columns": null,
            "grid_template_rows": null,
            "height": null,
            "justify_content": null,
            "justify_items": null,
            "left": null,
            "margin": null,
            "max_height": null,
            "max_width": null,
            "min_height": null,
            "min_width": null,
            "object_fit": null,
            "object_position": null,
            "order": null,
            "overflow": null,
            "overflow_x": null,
            "overflow_y": null,
            "padding": null,
            "right": null,
            "top": null,
            "visibility": null,
            "width": null
          }
        },
        "a20b67f94eef42d5804193625bf29b3c": {
          "model_module": "@jupyter-widgets/controls",
          "model_name": "DescriptionStyleModel",
          "model_module_version": "1.5.0",
          "state": {
            "_model_module": "@jupyter-widgets/controls",
            "_model_module_version": "1.5.0",
            "_model_name": "DescriptionStyleModel",
            "_view_count": null,
            "_view_module": "@jupyter-widgets/base",
            "_view_module_version": "1.2.0",
            "_view_name": "StyleView",
            "description_width": ""
          }
        },
        "c6fb0ce10e5749fd80190dcd1af559da": {
          "model_module": "@jupyter-widgets/controls",
          "model_name": "HBoxModel",
          "model_module_version": "1.5.0",
          "state": {
            "_dom_classes": [],
            "_model_module": "@jupyter-widgets/controls",
            "_model_module_version": "1.5.0",
            "_model_name": "HBoxModel",
            "_view_count": null,
            "_view_module": "@jupyter-widgets/controls",
            "_view_module_version": "1.5.0",
            "_view_name": "HBoxView",
            "box_style": "",
            "children": [
              "IPY_MODEL_c670551407c74bcba1bd990dab285447",
              "IPY_MODEL_2248d3e638324de583de4e943dd344cd",
              "IPY_MODEL_b9f48a37dbe849aca10837121ed3bad2"
            ],
            "layout": "IPY_MODEL_ba879b085b1d48eb8ce071e9e13d2f0d"
          }
        },
        "c670551407c74bcba1bd990dab285447": {
          "model_module": "@jupyter-widgets/controls",
          "model_name": "HTMLModel",
          "model_module_version": "1.5.0",
          "state": {
            "_dom_classes": [],
            "_model_module": "@jupyter-widgets/controls",
            "_model_module_version": "1.5.0",
            "_model_name": "HTMLModel",
            "_view_count": null,
            "_view_module": "@jupyter-widgets/controls",
            "_view_module_version": "1.5.0",
            "_view_name": "HTMLView",
            "description": "",
            "description_tooltip": null,
            "layout": "IPY_MODEL_fe7cee6489e9488aa3f4e75b6470e6a3",
            "placeholder": "​",
            "style": "IPY_MODEL_0999c2d143374f399f7f51c7ea79ebdc",
            "value": "tokenizer_config.json: 100%"
          }
        },
        "2248d3e638324de583de4e943dd344cd": {
          "model_module": "@jupyter-widgets/controls",
          "model_name": "FloatProgressModel",
          "model_module_version": "1.5.0",
          "state": {
            "_dom_classes": [],
            "_model_module": "@jupyter-widgets/controls",
            "_model_module_version": "1.5.0",
            "_model_name": "FloatProgressModel",
            "_view_count": null,
            "_view_module": "@jupyter-widgets/controls",
            "_view_module_version": "1.5.0",
            "_view_name": "ProgressView",
            "bar_style": "success",
            "description": "",
            "description_tooltip": null,
            "layout": "IPY_MODEL_325890ee640c491293f46ea0c5dc40b4",
            "max": 48,
            "min": 0,
            "orientation": "horizontal",
            "style": "IPY_MODEL_b593fc4643ff4e0bbfd19cb5a3362511",
            "value": 48
          }
        },
        "b9f48a37dbe849aca10837121ed3bad2": {
          "model_module": "@jupyter-widgets/controls",
          "model_name": "HTMLModel",
          "model_module_version": "1.5.0",
          "state": {
            "_dom_classes": [],
            "_model_module": "@jupyter-widgets/controls",
            "_model_module_version": "1.5.0",
            "_model_name": "HTMLModel",
            "_view_count": null,
            "_view_module": "@jupyter-widgets/controls",
            "_view_module_version": "1.5.0",
            "_view_name": "HTMLView",
            "description": "",
            "description_tooltip": null,
            "layout": "IPY_MODEL_fe89500f9b9e4670b2aed09a39ce2d46",
            "placeholder": "​",
            "style": "IPY_MODEL_e12bb80479894e4186394055d03e6b69",
            "value": " 48.0/48.0 [00:00&lt;00:00, 1.18kB/s]"
          }
        },
        "ba879b085b1d48eb8ce071e9e13d2f0d": {
          "model_module": "@jupyter-widgets/base",
          "model_name": "LayoutModel",
          "model_module_version": "1.2.0",
          "state": {
            "_model_module": "@jupyter-widgets/base",
            "_model_module_version": "1.2.0",
            "_model_name": "LayoutModel",
            "_view_count": null,
            "_view_module": "@jupyter-widgets/base",
            "_view_module_version": "1.2.0",
            "_view_name": "LayoutView",
            "align_content": null,
            "align_items": null,
            "align_self": null,
            "border": null,
            "bottom": null,
            "display": null,
            "flex": null,
            "flex_flow": null,
            "grid_area": null,
            "grid_auto_columns": null,
            "grid_auto_flow": null,
            "grid_auto_rows": null,
            "grid_column": null,
            "grid_gap": null,
            "grid_row": null,
            "grid_template_areas": null,
            "grid_template_columns": null,
            "grid_template_rows": null,
            "height": null,
            "justify_content": null,
            "justify_items": null,
            "left": null,
            "margin": null,
            "max_height": null,
            "max_width": null,
            "min_height": null,
            "min_width": null,
            "object_fit": null,
            "object_position": null,
            "order": null,
            "overflow": null,
            "overflow_x": null,
            "overflow_y": null,
            "padding": null,
            "right": null,
            "top": null,
            "visibility": null,
            "width": null
          }
        },
        "fe7cee6489e9488aa3f4e75b6470e6a3": {
          "model_module": "@jupyter-widgets/base",
          "model_name": "LayoutModel",
          "model_module_version": "1.2.0",
          "state": {
            "_model_module": "@jupyter-widgets/base",
            "_model_module_version": "1.2.0",
            "_model_name": "LayoutModel",
            "_view_count": null,
            "_view_module": "@jupyter-widgets/base",
            "_view_module_version": "1.2.0",
            "_view_name": "LayoutView",
            "align_content": null,
            "align_items": null,
            "align_self": null,
            "border": null,
            "bottom": null,
            "display": null,
            "flex": null,
            "flex_flow": null,
            "grid_area": null,
            "grid_auto_columns": null,
            "grid_auto_flow": null,
            "grid_auto_rows": null,
            "grid_column": null,
            "grid_gap": null,
            "grid_row": null,
            "grid_template_areas": null,
            "grid_template_columns": null,
            "grid_template_rows": null,
            "height": null,
            "justify_content": null,
            "justify_items": null,
            "left": null,
            "margin": null,
            "max_height": null,
            "max_width": null,
            "min_height": null,
            "min_width": null,
            "object_fit": null,
            "object_position": null,
            "order": null,
            "overflow": null,
            "overflow_x": null,
            "overflow_y": null,
            "padding": null,
            "right": null,
            "top": null,
            "visibility": null,
            "width": null
          }
        },
        "0999c2d143374f399f7f51c7ea79ebdc": {
          "model_module": "@jupyter-widgets/controls",
          "model_name": "DescriptionStyleModel",
          "model_module_version": "1.5.0",
          "state": {
            "_model_module": "@jupyter-widgets/controls",
            "_model_module_version": "1.5.0",
            "_model_name": "DescriptionStyleModel",
            "_view_count": null,
            "_view_module": "@jupyter-widgets/base",
            "_view_module_version": "1.2.0",
            "_view_name": "StyleView",
            "description_width": ""
          }
        },
        "325890ee640c491293f46ea0c5dc40b4": {
          "model_module": "@jupyter-widgets/base",
          "model_name": "LayoutModel",
          "model_module_version": "1.2.0",
          "state": {
            "_model_module": "@jupyter-widgets/base",
            "_model_module_version": "1.2.0",
            "_model_name": "LayoutModel",
            "_view_count": null,
            "_view_module": "@jupyter-widgets/base",
            "_view_module_version": "1.2.0",
            "_view_name": "LayoutView",
            "align_content": null,
            "align_items": null,
            "align_self": null,
            "border": null,
            "bottom": null,
            "display": null,
            "flex": null,
            "flex_flow": null,
            "grid_area": null,
            "grid_auto_columns": null,
            "grid_auto_flow": null,
            "grid_auto_rows": null,
            "grid_column": null,
            "grid_gap": null,
            "grid_row": null,
            "grid_template_areas": null,
            "grid_template_columns": null,
            "grid_template_rows": null,
            "height": null,
            "justify_content": null,
            "justify_items": null,
            "left": null,
            "margin": null,
            "max_height": null,
            "max_width": null,
            "min_height": null,
            "min_width": null,
            "object_fit": null,
            "object_position": null,
            "order": null,
            "overflow": null,
            "overflow_x": null,
            "overflow_y": null,
            "padding": null,
            "right": null,
            "top": null,
            "visibility": null,
            "width": null
          }
        },
        "b593fc4643ff4e0bbfd19cb5a3362511": {
          "model_module": "@jupyter-widgets/controls",
          "model_name": "ProgressStyleModel",
          "model_module_version": "1.5.0",
          "state": {
            "_model_module": "@jupyter-widgets/controls",
            "_model_module_version": "1.5.0",
            "_model_name": "ProgressStyleModel",
            "_view_count": null,
            "_view_module": "@jupyter-widgets/base",
            "_view_module_version": "1.2.0",
            "_view_name": "StyleView",
            "bar_color": null,
            "description_width": ""
          }
        },
        "fe89500f9b9e4670b2aed09a39ce2d46": {
          "model_module": "@jupyter-widgets/base",
          "model_name": "LayoutModel",
          "model_module_version": "1.2.0",
          "state": {
            "_model_module": "@jupyter-widgets/base",
            "_model_module_version": "1.2.0",
            "_model_name": "LayoutModel",
            "_view_count": null,
            "_view_module": "@jupyter-widgets/base",
            "_view_module_version": "1.2.0",
            "_view_name": "LayoutView",
            "align_content": null,
            "align_items": null,
            "align_self": null,
            "border": null,
            "bottom": null,
            "display": null,
            "flex": null,
            "flex_flow": null,
            "grid_area": null,
            "grid_auto_columns": null,
            "grid_auto_flow": null,
            "grid_auto_rows": null,
            "grid_column": null,
            "grid_gap": null,
            "grid_row": null,
            "grid_template_areas": null,
            "grid_template_columns": null,
            "grid_template_rows": null,
            "height": null,
            "justify_content": null,
            "justify_items": null,
            "left": null,
            "margin": null,
            "max_height": null,
            "max_width": null,
            "min_height": null,
            "min_width": null,
            "object_fit": null,
            "object_position": null,
            "order": null,
            "overflow": null,
            "overflow_x": null,
            "overflow_y": null,
            "padding": null,
            "right": null,
            "top": null,
            "visibility": null,
            "width": null
          }
        },
        "e12bb80479894e4186394055d03e6b69": {
          "model_module": "@jupyter-widgets/controls",
          "model_name": "DescriptionStyleModel",
          "model_module_version": "1.5.0",
          "state": {
            "_model_module": "@jupyter-widgets/controls",
            "_model_module_version": "1.5.0",
            "_model_name": "DescriptionStyleModel",
            "_view_count": null,
            "_view_module": "@jupyter-widgets/base",
            "_view_module_version": "1.2.0",
            "_view_name": "StyleView",
            "description_width": ""
          }
        },
        "33e7990f5f9a4382bfb85b831b0630bb": {
          "model_module": "@jupyter-widgets/controls",
          "model_name": "HBoxModel",
          "model_module_version": "1.5.0",
          "state": {
            "_dom_classes": [],
            "_model_module": "@jupyter-widgets/controls",
            "_model_module_version": "1.5.0",
            "_model_name": "HBoxModel",
            "_view_count": null,
            "_view_module": "@jupyter-widgets/controls",
            "_view_module_version": "1.5.0",
            "_view_name": "HBoxView",
            "box_style": "",
            "children": [
              "IPY_MODEL_3385886199234adab7241c5cb63a982f",
              "IPY_MODEL_36623e39ed2d4dd0a60577e2875ff9f8",
              "IPY_MODEL_ca2dac33158246d3b8586561a1a74e8e"
            ],
            "layout": "IPY_MODEL_d215a1a3fe024144a2f79e1c049b560d"
          }
        },
        "3385886199234adab7241c5cb63a982f": {
          "model_module": "@jupyter-widgets/controls",
          "model_name": "HTMLModel",
          "model_module_version": "1.5.0",
          "state": {
            "_dom_classes": [],
            "_model_module": "@jupyter-widgets/controls",
            "_model_module_version": "1.5.0",
            "_model_name": "HTMLModel",
            "_view_count": null,
            "_view_module": "@jupyter-widgets/controls",
            "_view_module_version": "1.5.0",
            "_view_name": "HTMLView",
            "description": "",
            "description_tooltip": null,
            "layout": "IPY_MODEL_72db41422575496497d729220f571969",
            "placeholder": "​",
            "style": "IPY_MODEL_de83329e02e54d9584311e69aea76a15",
            "value": "vocab.txt: 100%"
          }
        },
        "36623e39ed2d4dd0a60577e2875ff9f8": {
          "model_module": "@jupyter-widgets/controls",
          "model_name": "FloatProgressModel",
          "model_module_version": "1.5.0",
          "state": {
            "_dom_classes": [],
            "_model_module": "@jupyter-widgets/controls",
            "_model_module_version": "1.5.0",
            "_model_name": "FloatProgressModel",
            "_view_count": null,
            "_view_module": "@jupyter-widgets/controls",
            "_view_module_version": "1.5.0",
            "_view_name": "ProgressView",
            "bar_style": "success",
            "description": "",
            "description_tooltip": null,
            "layout": "IPY_MODEL_b88fdfceea5742049d7507989351c456",
            "max": 231508,
            "min": 0,
            "orientation": "horizontal",
            "style": "IPY_MODEL_d92f2dcbd0c14aa784618f97abe90c87",
            "value": 231508
          }
        },
        "ca2dac33158246d3b8586561a1a74e8e": {
          "model_module": "@jupyter-widgets/controls",
          "model_name": "HTMLModel",
          "model_module_version": "1.5.0",
          "state": {
            "_dom_classes": [],
            "_model_module": "@jupyter-widgets/controls",
            "_model_module_version": "1.5.0",
            "_model_name": "HTMLModel",
            "_view_count": null,
            "_view_module": "@jupyter-widgets/controls",
            "_view_module_version": "1.5.0",
            "_view_name": "HTMLView",
            "description": "",
            "description_tooltip": null,
            "layout": "IPY_MODEL_323ffcc8ba784642967931d73ddd5df6",
            "placeholder": "​",
            "style": "IPY_MODEL_bd5496c674bf4926b7d0f7cb476a7869",
            "value": " 232k/232k [00:00&lt;00:00, 1.75MB/s]"
          }
        },
        "d215a1a3fe024144a2f79e1c049b560d": {
          "model_module": "@jupyter-widgets/base",
          "model_name": "LayoutModel",
          "model_module_version": "1.2.0",
          "state": {
            "_model_module": "@jupyter-widgets/base",
            "_model_module_version": "1.2.0",
            "_model_name": "LayoutModel",
            "_view_count": null,
            "_view_module": "@jupyter-widgets/base",
            "_view_module_version": "1.2.0",
            "_view_name": "LayoutView",
            "align_content": null,
            "align_items": null,
            "align_self": null,
            "border": null,
            "bottom": null,
            "display": null,
            "flex": null,
            "flex_flow": null,
            "grid_area": null,
            "grid_auto_columns": null,
            "grid_auto_flow": null,
            "grid_auto_rows": null,
            "grid_column": null,
            "grid_gap": null,
            "grid_row": null,
            "grid_template_areas": null,
            "grid_template_columns": null,
            "grid_template_rows": null,
            "height": null,
            "justify_content": null,
            "justify_items": null,
            "left": null,
            "margin": null,
            "max_height": null,
            "max_width": null,
            "min_height": null,
            "min_width": null,
            "object_fit": null,
            "object_position": null,
            "order": null,
            "overflow": null,
            "overflow_x": null,
            "overflow_y": null,
            "padding": null,
            "right": null,
            "top": null,
            "visibility": null,
            "width": null
          }
        },
        "72db41422575496497d729220f571969": {
          "model_module": "@jupyter-widgets/base",
          "model_name": "LayoutModel",
          "model_module_version": "1.2.0",
          "state": {
            "_model_module": "@jupyter-widgets/base",
            "_model_module_version": "1.2.0",
            "_model_name": "LayoutModel",
            "_view_count": null,
            "_view_module": "@jupyter-widgets/base",
            "_view_module_version": "1.2.0",
            "_view_name": "LayoutView",
            "align_content": null,
            "align_items": null,
            "align_self": null,
            "border": null,
            "bottom": null,
            "display": null,
            "flex": null,
            "flex_flow": null,
            "grid_area": null,
            "grid_auto_columns": null,
            "grid_auto_flow": null,
            "grid_auto_rows": null,
            "grid_column": null,
            "grid_gap": null,
            "grid_row": null,
            "grid_template_areas": null,
            "grid_template_columns": null,
            "grid_template_rows": null,
            "height": null,
            "justify_content": null,
            "justify_items": null,
            "left": null,
            "margin": null,
            "max_height": null,
            "max_width": null,
            "min_height": null,
            "min_width": null,
            "object_fit": null,
            "object_position": null,
            "order": null,
            "overflow": null,
            "overflow_x": null,
            "overflow_y": null,
            "padding": null,
            "right": null,
            "top": null,
            "visibility": null,
            "width": null
          }
        },
        "de83329e02e54d9584311e69aea76a15": {
          "model_module": "@jupyter-widgets/controls",
          "model_name": "DescriptionStyleModel",
          "model_module_version": "1.5.0",
          "state": {
            "_model_module": "@jupyter-widgets/controls",
            "_model_module_version": "1.5.0",
            "_model_name": "DescriptionStyleModel",
            "_view_count": null,
            "_view_module": "@jupyter-widgets/base",
            "_view_module_version": "1.2.0",
            "_view_name": "StyleView",
            "description_width": ""
          }
        },
        "b88fdfceea5742049d7507989351c456": {
          "model_module": "@jupyter-widgets/base",
          "model_name": "LayoutModel",
          "model_module_version": "1.2.0",
          "state": {
            "_model_module": "@jupyter-widgets/base",
            "_model_module_version": "1.2.0",
            "_model_name": "LayoutModel",
            "_view_count": null,
            "_view_module": "@jupyter-widgets/base",
            "_view_module_version": "1.2.0",
            "_view_name": "LayoutView",
            "align_content": null,
            "align_items": null,
            "align_self": null,
            "border": null,
            "bottom": null,
            "display": null,
            "flex": null,
            "flex_flow": null,
            "grid_area": null,
            "grid_auto_columns": null,
            "grid_auto_flow": null,
            "grid_auto_rows": null,
            "grid_column": null,
            "grid_gap": null,
            "grid_row": null,
            "grid_template_areas": null,
            "grid_template_columns": null,
            "grid_template_rows": null,
            "height": null,
            "justify_content": null,
            "justify_items": null,
            "left": null,
            "margin": null,
            "max_height": null,
            "max_width": null,
            "min_height": null,
            "min_width": null,
            "object_fit": null,
            "object_position": null,
            "order": null,
            "overflow": null,
            "overflow_x": null,
            "overflow_y": null,
            "padding": null,
            "right": null,
            "top": null,
            "visibility": null,
            "width": null
          }
        },
        "d92f2dcbd0c14aa784618f97abe90c87": {
          "model_module": "@jupyter-widgets/controls",
          "model_name": "ProgressStyleModel",
          "model_module_version": "1.5.0",
          "state": {
            "_model_module": "@jupyter-widgets/controls",
            "_model_module_version": "1.5.0",
            "_model_name": "ProgressStyleModel",
            "_view_count": null,
            "_view_module": "@jupyter-widgets/base",
            "_view_module_version": "1.2.0",
            "_view_name": "StyleView",
            "bar_color": null,
            "description_width": ""
          }
        },
        "323ffcc8ba784642967931d73ddd5df6": {
          "model_module": "@jupyter-widgets/base",
          "model_name": "LayoutModel",
          "model_module_version": "1.2.0",
          "state": {
            "_model_module": "@jupyter-widgets/base",
            "_model_module_version": "1.2.0",
            "_model_name": "LayoutModel",
            "_view_count": null,
            "_view_module": "@jupyter-widgets/base",
            "_view_module_version": "1.2.0",
            "_view_name": "LayoutView",
            "align_content": null,
            "align_items": null,
            "align_self": null,
            "border": null,
            "bottom": null,
            "display": null,
            "flex": null,
            "flex_flow": null,
            "grid_area": null,
            "grid_auto_columns": null,
            "grid_auto_flow": null,
            "grid_auto_rows": null,
            "grid_column": null,
            "grid_gap": null,
            "grid_row": null,
            "grid_template_areas": null,
            "grid_template_columns": null,
            "grid_template_rows": null,
            "height": null,
            "justify_content": null,
            "justify_items": null,
            "left": null,
            "margin": null,
            "max_height": null,
            "max_width": null,
            "min_height": null,
            "min_width": null,
            "object_fit": null,
            "object_position": null,
            "order": null,
            "overflow": null,
            "overflow_x": null,
            "overflow_y": null,
            "padding": null,
            "right": null,
            "top": null,
            "visibility": null,
            "width": null
          }
        },
        "bd5496c674bf4926b7d0f7cb476a7869": {
          "model_module": "@jupyter-widgets/controls",
          "model_name": "DescriptionStyleModel",
          "model_module_version": "1.5.0",
          "state": {
            "_model_module": "@jupyter-widgets/controls",
            "_model_module_version": "1.5.0",
            "_model_name": "DescriptionStyleModel",
            "_view_count": null,
            "_view_module": "@jupyter-widgets/base",
            "_view_module_version": "1.2.0",
            "_view_name": "StyleView",
            "description_width": ""
          }
        },
        "ac2154453fdf4e149fac0df3200c7cad": {
          "model_module": "@jupyter-widgets/controls",
          "model_name": "HBoxModel",
          "model_module_version": "1.5.0",
          "state": {
            "_dom_classes": [],
            "_model_module": "@jupyter-widgets/controls",
            "_model_module_version": "1.5.0",
            "_model_name": "HBoxModel",
            "_view_count": null,
            "_view_module": "@jupyter-widgets/controls",
            "_view_module_version": "1.5.0",
            "_view_name": "HBoxView",
            "box_style": "",
            "children": [
              "IPY_MODEL_13da03a025b74de0908aa7a59c0985e6",
              "IPY_MODEL_504c63acd1624e4b9ee2fb1a95965b1f",
              "IPY_MODEL_8a981fed5c45455d88e1931964ac6300"
            ],
            "layout": "IPY_MODEL_44c12281ce4e4fbc9840389616c31ea3"
          }
        },
        "13da03a025b74de0908aa7a59c0985e6": {
          "model_module": "@jupyter-widgets/controls",
          "model_name": "HTMLModel",
          "model_module_version": "1.5.0",
          "state": {
            "_dom_classes": [],
            "_model_module": "@jupyter-widgets/controls",
            "_model_module_version": "1.5.0",
            "_model_name": "HTMLModel",
            "_view_count": null,
            "_view_module": "@jupyter-widgets/controls",
            "_view_module_version": "1.5.0",
            "_view_name": "HTMLView",
            "description": "",
            "description_tooltip": null,
            "layout": "IPY_MODEL_41a0e9f40ea1481c93344173c30e9d40",
            "placeholder": "​",
            "style": "IPY_MODEL_a28d24b905ff47a7a123354e0cbc14e7",
            "value": "tokenizer_config.json: 100%"
          }
        },
        "504c63acd1624e4b9ee2fb1a95965b1f": {
          "model_module": "@jupyter-widgets/controls",
          "model_name": "FloatProgressModel",
          "model_module_version": "1.5.0",
          "state": {
            "_dom_classes": [],
            "_model_module": "@jupyter-widgets/controls",
            "_model_module_version": "1.5.0",
            "_model_name": "FloatProgressModel",
            "_view_count": null,
            "_view_module": "@jupyter-widgets/controls",
            "_view_module_version": "1.5.0",
            "_view_name": "ProgressView",
            "bar_style": "success",
            "description": "",
            "description_tooltip": null,
            "layout": "IPY_MODEL_8d2998b7f96d4f9297a9052a3448d84d",
            "max": 48,
            "min": 0,
            "orientation": "horizontal",
            "style": "IPY_MODEL_2e9de259855a4a1ea18a1952e4be7f13",
            "value": 48
          }
        },
        "8a981fed5c45455d88e1931964ac6300": {
          "model_module": "@jupyter-widgets/controls",
          "model_name": "HTMLModel",
          "model_module_version": "1.5.0",
          "state": {
            "_dom_classes": [],
            "_model_module": "@jupyter-widgets/controls",
            "_model_module_version": "1.5.0",
            "_model_name": "HTMLModel",
            "_view_count": null,
            "_view_module": "@jupyter-widgets/controls",
            "_view_module_version": "1.5.0",
            "_view_name": "HTMLView",
            "description": "",
            "description_tooltip": null,
            "layout": "IPY_MODEL_b908c1f93a3141ba911130c1c82d6697",
            "placeholder": "​",
            "style": "IPY_MODEL_d3d8ee3b0e1846cfb9617279e788e502",
            "value": " 48.0/48.0 [00:00&lt;00:00, 2.45kB/s]"
          }
        },
        "44c12281ce4e4fbc9840389616c31ea3": {
          "model_module": "@jupyter-widgets/base",
          "model_name": "LayoutModel",
          "model_module_version": "1.2.0",
          "state": {
            "_model_module": "@jupyter-widgets/base",
            "_model_module_version": "1.2.0",
            "_model_name": "LayoutModel",
            "_view_count": null,
            "_view_module": "@jupyter-widgets/base",
            "_view_module_version": "1.2.0",
            "_view_name": "LayoutView",
            "align_content": null,
            "align_items": null,
            "align_self": null,
            "border": null,
            "bottom": null,
            "display": null,
            "flex": null,
            "flex_flow": null,
            "grid_area": null,
            "grid_auto_columns": null,
            "grid_auto_flow": null,
            "grid_auto_rows": null,
            "grid_column": null,
            "grid_gap": null,
            "grid_row": null,
            "grid_template_areas": null,
            "grid_template_columns": null,
            "grid_template_rows": null,
            "height": null,
            "justify_content": null,
            "justify_items": null,
            "left": null,
            "margin": null,
            "max_height": null,
            "max_width": null,
            "min_height": null,
            "min_width": null,
            "object_fit": null,
            "object_position": null,
            "order": null,
            "overflow": null,
            "overflow_x": null,
            "overflow_y": null,
            "padding": null,
            "right": null,
            "top": null,
            "visibility": null,
            "width": null
          }
        },
        "41a0e9f40ea1481c93344173c30e9d40": {
          "model_module": "@jupyter-widgets/base",
          "model_name": "LayoutModel",
          "model_module_version": "1.2.0",
          "state": {
            "_model_module": "@jupyter-widgets/base",
            "_model_module_version": "1.2.0",
            "_model_name": "LayoutModel",
            "_view_count": null,
            "_view_module": "@jupyter-widgets/base",
            "_view_module_version": "1.2.0",
            "_view_name": "LayoutView",
            "align_content": null,
            "align_items": null,
            "align_self": null,
            "border": null,
            "bottom": null,
            "display": null,
            "flex": null,
            "flex_flow": null,
            "grid_area": null,
            "grid_auto_columns": null,
            "grid_auto_flow": null,
            "grid_auto_rows": null,
            "grid_column": null,
            "grid_gap": null,
            "grid_row": null,
            "grid_template_areas": null,
            "grid_template_columns": null,
            "grid_template_rows": null,
            "height": null,
            "justify_content": null,
            "justify_items": null,
            "left": null,
            "margin": null,
            "max_height": null,
            "max_width": null,
            "min_height": null,
            "min_width": null,
            "object_fit": null,
            "object_position": null,
            "order": null,
            "overflow": null,
            "overflow_x": null,
            "overflow_y": null,
            "padding": null,
            "right": null,
            "top": null,
            "visibility": null,
            "width": null
          }
        },
        "a28d24b905ff47a7a123354e0cbc14e7": {
          "model_module": "@jupyter-widgets/controls",
          "model_name": "DescriptionStyleModel",
          "model_module_version": "1.5.0",
          "state": {
            "_model_module": "@jupyter-widgets/controls",
            "_model_module_version": "1.5.0",
            "_model_name": "DescriptionStyleModel",
            "_view_count": null,
            "_view_module": "@jupyter-widgets/base",
            "_view_module_version": "1.2.0",
            "_view_name": "StyleView",
            "description_width": ""
          }
        },
        "8d2998b7f96d4f9297a9052a3448d84d": {
          "model_module": "@jupyter-widgets/base",
          "model_name": "LayoutModel",
          "model_module_version": "1.2.0",
          "state": {
            "_model_module": "@jupyter-widgets/base",
            "_model_module_version": "1.2.0",
            "_model_name": "LayoutModel",
            "_view_count": null,
            "_view_module": "@jupyter-widgets/base",
            "_view_module_version": "1.2.0",
            "_view_name": "LayoutView",
            "align_content": null,
            "align_items": null,
            "align_self": null,
            "border": null,
            "bottom": null,
            "display": null,
            "flex": null,
            "flex_flow": null,
            "grid_area": null,
            "grid_auto_columns": null,
            "grid_auto_flow": null,
            "grid_auto_rows": null,
            "grid_column": null,
            "grid_gap": null,
            "grid_row": null,
            "grid_template_areas": null,
            "grid_template_columns": null,
            "grid_template_rows": null,
            "height": null,
            "justify_content": null,
            "justify_items": null,
            "left": null,
            "margin": null,
            "max_height": null,
            "max_width": null,
            "min_height": null,
            "min_width": null,
            "object_fit": null,
            "object_position": null,
            "order": null,
            "overflow": null,
            "overflow_x": null,
            "overflow_y": null,
            "padding": null,
            "right": null,
            "top": null,
            "visibility": null,
            "width": null
          }
        },
        "2e9de259855a4a1ea18a1952e4be7f13": {
          "model_module": "@jupyter-widgets/controls",
          "model_name": "ProgressStyleModel",
          "model_module_version": "1.5.0",
          "state": {
            "_model_module": "@jupyter-widgets/controls",
            "_model_module_version": "1.5.0",
            "_model_name": "ProgressStyleModel",
            "_view_count": null,
            "_view_module": "@jupyter-widgets/base",
            "_view_module_version": "1.2.0",
            "_view_name": "StyleView",
            "bar_color": null,
            "description_width": ""
          }
        },
        "b908c1f93a3141ba911130c1c82d6697": {
          "model_module": "@jupyter-widgets/base",
          "model_name": "LayoutModel",
          "model_module_version": "1.2.0",
          "state": {
            "_model_module": "@jupyter-widgets/base",
            "_model_module_version": "1.2.0",
            "_model_name": "LayoutModel",
            "_view_count": null,
            "_view_module": "@jupyter-widgets/base",
            "_view_module_version": "1.2.0",
            "_view_name": "LayoutView",
            "align_content": null,
            "align_items": null,
            "align_self": null,
            "border": null,
            "bottom": null,
            "display": null,
            "flex": null,
            "flex_flow": null,
            "grid_area": null,
            "grid_auto_columns": null,
            "grid_auto_flow": null,
            "grid_auto_rows": null,
            "grid_column": null,
            "grid_gap": null,
            "grid_row": null,
            "grid_template_areas": null,
            "grid_template_columns": null,
            "grid_template_rows": null,
            "height": null,
            "justify_content": null,
            "justify_items": null,
            "left": null,
            "margin": null,
            "max_height": null,
            "max_width": null,
            "min_height": null,
            "min_width": null,
            "object_fit": null,
            "object_position": null,
            "order": null,
            "overflow": null,
            "overflow_x": null,
            "overflow_y": null,
            "padding": null,
            "right": null,
            "top": null,
            "visibility": null,
            "width": null
          }
        },
        "d3d8ee3b0e1846cfb9617279e788e502": {
          "model_module": "@jupyter-widgets/controls",
          "model_name": "DescriptionStyleModel",
          "model_module_version": "1.5.0",
          "state": {
            "_model_module": "@jupyter-widgets/controls",
            "_model_module_version": "1.5.0",
            "_model_name": "DescriptionStyleModel",
            "_view_count": null,
            "_view_module": "@jupyter-widgets/base",
            "_view_module_version": "1.2.0",
            "_view_name": "StyleView",
            "description_width": ""
          }
        },
        "b0e0e4c64d05428e9a6c39c8c571b907": {
          "model_module": "@jupyter-widgets/controls",
          "model_name": "HBoxModel",
          "model_module_version": "1.5.0",
          "state": {
            "_dom_classes": [],
            "_model_module": "@jupyter-widgets/controls",
            "_model_module_version": "1.5.0",
            "_model_name": "HBoxModel",
            "_view_count": null,
            "_view_module": "@jupyter-widgets/controls",
            "_view_module_version": "1.5.0",
            "_view_name": "HBoxView",
            "box_style": "",
            "children": [
              "IPY_MODEL_854bde875316468bb4509a5dbc0d87fb",
              "IPY_MODEL_a4f34e788b22483fade746af7fd826e5",
              "IPY_MODEL_b6da285ee911436cacfec0c37b294dfa"
            ],
            "layout": "IPY_MODEL_b1f1c4de853345ccbc6713bb9cbf9840"
          }
        },
        "854bde875316468bb4509a5dbc0d87fb": {
          "model_module": "@jupyter-widgets/controls",
          "model_name": "HTMLModel",
          "model_module_version": "1.5.0",
          "state": {
            "_dom_classes": [],
            "_model_module": "@jupyter-widgets/controls",
            "_model_module_version": "1.5.0",
            "_model_name": "HTMLModel",
            "_view_count": null,
            "_view_module": "@jupyter-widgets/controls",
            "_view_module_version": "1.5.0",
            "_view_name": "HTMLView",
            "description": "",
            "description_tooltip": null,
            "layout": "IPY_MODEL_df0debe7f19b406d9da706892787fa1a",
            "placeholder": "​",
            "style": "IPY_MODEL_390b9f17b5cc496a80fb19a70f16a9e3",
            "value": "vocab.txt: 100%"
          }
        },
        "a4f34e788b22483fade746af7fd826e5": {
          "model_module": "@jupyter-widgets/controls",
          "model_name": "FloatProgressModel",
          "model_module_version": "1.5.0",
          "state": {
            "_dom_classes": [],
            "_model_module": "@jupyter-widgets/controls",
            "_model_module_version": "1.5.0",
            "_model_name": "FloatProgressModel",
            "_view_count": null,
            "_view_module": "@jupyter-widgets/controls",
            "_view_module_version": "1.5.0",
            "_view_name": "ProgressView",
            "bar_style": "success",
            "description": "",
            "description_tooltip": null,
            "layout": "IPY_MODEL_dfefda12e73d4fa8b0528c4f56759891",
            "max": 231508,
            "min": 0,
            "orientation": "horizontal",
            "style": "IPY_MODEL_80d92f01a3544ff5b4eccdbd06e81761",
            "value": 231508
          }
        },
        "b6da285ee911436cacfec0c37b294dfa": {
          "model_module": "@jupyter-widgets/controls",
          "model_name": "HTMLModel",
          "model_module_version": "1.5.0",
          "state": {
            "_dom_classes": [],
            "_model_module": "@jupyter-widgets/controls",
            "_model_module_version": "1.5.0",
            "_model_name": "HTMLModel",
            "_view_count": null,
            "_view_module": "@jupyter-widgets/controls",
            "_view_module_version": "1.5.0",
            "_view_name": "HTMLView",
            "description": "",
            "description_tooltip": null,
            "layout": "IPY_MODEL_699eae810c3247b39efe1cead0e69852",
            "placeholder": "​",
            "style": "IPY_MODEL_d38976a6a7524d4a93d1569c3183c102",
            "value": " 232k/232k [00:00&lt;00:00, 3.08MB/s]"
          }
        },
        "b1f1c4de853345ccbc6713bb9cbf9840": {
          "model_module": "@jupyter-widgets/base",
          "model_name": "LayoutModel",
          "model_module_version": "1.2.0",
          "state": {
            "_model_module": "@jupyter-widgets/base",
            "_model_module_version": "1.2.0",
            "_model_name": "LayoutModel",
            "_view_count": null,
            "_view_module": "@jupyter-widgets/base",
            "_view_module_version": "1.2.0",
            "_view_name": "LayoutView",
            "align_content": null,
            "align_items": null,
            "align_self": null,
            "border": null,
            "bottom": null,
            "display": null,
            "flex": null,
            "flex_flow": null,
            "grid_area": null,
            "grid_auto_columns": null,
            "grid_auto_flow": null,
            "grid_auto_rows": null,
            "grid_column": null,
            "grid_gap": null,
            "grid_row": null,
            "grid_template_areas": null,
            "grid_template_columns": null,
            "grid_template_rows": null,
            "height": null,
            "justify_content": null,
            "justify_items": null,
            "left": null,
            "margin": null,
            "max_height": null,
            "max_width": null,
            "min_height": null,
            "min_width": null,
            "object_fit": null,
            "object_position": null,
            "order": null,
            "overflow": null,
            "overflow_x": null,
            "overflow_y": null,
            "padding": null,
            "right": null,
            "top": null,
            "visibility": null,
            "width": null
          }
        },
        "df0debe7f19b406d9da706892787fa1a": {
          "model_module": "@jupyter-widgets/base",
          "model_name": "LayoutModel",
          "model_module_version": "1.2.0",
          "state": {
            "_model_module": "@jupyter-widgets/base",
            "_model_module_version": "1.2.0",
            "_model_name": "LayoutModel",
            "_view_count": null,
            "_view_module": "@jupyter-widgets/base",
            "_view_module_version": "1.2.0",
            "_view_name": "LayoutView",
            "align_content": null,
            "align_items": null,
            "align_self": null,
            "border": null,
            "bottom": null,
            "display": null,
            "flex": null,
            "flex_flow": null,
            "grid_area": null,
            "grid_auto_columns": null,
            "grid_auto_flow": null,
            "grid_auto_rows": null,
            "grid_column": null,
            "grid_gap": null,
            "grid_row": null,
            "grid_template_areas": null,
            "grid_template_columns": null,
            "grid_template_rows": null,
            "height": null,
            "justify_content": null,
            "justify_items": null,
            "left": null,
            "margin": null,
            "max_height": null,
            "max_width": null,
            "min_height": null,
            "min_width": null,
            "object_fit": null,
            "object_position": null,
            "order": null,
            "overflow": null,
            "overflow_x": null,
            "overflow_y": null,
            "padding": null,
            "right": null,
            "top": null,
            "visibility": null,
            "width": null
          }
        },
        "390b9f17b5cc496a80fb19a70f16a9e3": {
          "model_module": "@jupyter-widgets/controls",
          "model_name": "DescriptionStyleModel",
          "model_module_version": "1.5.0",
          "state": {
            "_model_module": "@jupyter-widgets/controls",
            "_model_module_version": "1.5.0",
            "_model_name": "DescriptionStyleModel",
            "_view_count": null,
            "_view_module": "@jupyter-widgets/base",
            "_view_module_version": "1.2.0",
            "_view_name": "StyleView",
            "description_width": ""
          }
        },
        "dfefda12e73d4fa8b0528c4f56759891": {
          "model_module": "@jupyter-widgets/base",
          "model_name": "LayoutModel",
          "model_module_version": "1.2.0",
          "state": {
            "_model_module": "@jupyter-widgets/base",
            "_model_module_version": "1.2.0",
            "_model_name": "LayoutModel",
            "_view_count": null,
            "_view_module": "@jupyter-widgets/base",
            "_view_module_version": "1.2.0",
            "_view_name": "LayoutView",
            "align_content": null,
            "align_items": null,
            "align_self": null,
            "border": null,
            "bottom": null,
            "display": null,
            "flex": null,
            "flex_flow": null,
            "grid_area": null,
            "grid_auto_columns": null,
            "grid_auto_flow": null,
            "grid_auto_rows": null,
            "grid_column": null,
            "grid_gap": null,
            "grid_row": null,
            "grid_template_areas": null,
            "grid_template_columns": null,
            "grid_template_rows": null,
            "height": null,
            "justify_content": null,
            "justify_items": null,
            "left": null,
            "margin": null,
            "max_height": null,
            "max_width": null,
            "min_height": null,
            "min_width": null,
            "object_fit": null,
            "object_position": null,
            "order": null,
            "overflow": null,
            "overflow_x": null,
            "overflow_y": null,
            "padding": null,
            "right": null,
            "top": null,
            "visibility": null,
            "width": null
          }
        },
        "80d92f01a3544ff5b4eccdbd06e81761": {
          "model_module": "@jupyter-widgets/controls",
          "model_name": "ProgressStyleModel",
          "model_module_version": "1.5.0",
          "state": {
            "_model_module": "@jupyter-widgets/controls",
            "_model_module_version": "1.5.0",
            "_model_name": "ProgressStyleModel",
            "_view_count": null,
            "_view_module": "@jupyter-widgets/base",
            "_view_module_version": "1.2.0",
            "_view_name": "StyleView",
            "bar_color": null,
            "description_width": ""
          }
        },
        "699eae810c3247b39efe1cead0e69852": {
          "model_module": "@jupyter-widgets/base",
          "model_name": "LayoutModel",
          "model_module_version": "1.2.0",
          "state": {
            "_model_module": "@jupyter-widgets/base",
            "_model_module_version": "1.2.0",
            "_model_name": "LayoutModel",
            "_view_count": null,
            "_view_module": "@jupyter-widgets/base",
            "_view_module_version": "1.2.0",
            "_view_name": "LayoutView",
            "align_content": null,
            "align_items": null,
            "align_self": null,
            "border": null,
            "bottom": null,
            "display": null,
            "flex": null,
            "flex_flow": null,
            "grid_area": null,
            "grid_auto_columns": null,
            "grid_auto_flow": null,
            "grid_auto_rows": null,
            "grid_column": null,
            "grid_gap": null,
            "grid_row": null,
            "grid_template_areas": null,
            "grid_template_columns": null,
            "grid_template_rows": null,
            "height": null,
            "justify_content": null,
            "justify_items": null,
            "left": null,
            "margin": null,
            "max_height": null,
            "max_width": null,
            "min_height": null,
            "min_width": null,
            "object_fit": null,
            "object_position": null,
            "order": null,
            "overflow": null,
            "overflow_x": null,
            "overflow_y": null,
            "padding": null,
            "right": null,
            "top": null,
            "visibility": null,
            "width": null
          }
        },
        "d38976a6a7524d4a93d1569c3183c102": {
          "model_module": "@jupyter-widgets/controls",
          "model_name": "DescriptionStyleModel",
          "model_module_version": "1.5.0",
          "state": {
            "_model_module": "@jupyter-widgets/controls",
            "_model_module_version": "1.5.0",
            "_model_name": "DescriptionStyleModel",
            "_view_count": null,
            "_view_module": "@jupyter-widgets/base",
            "_view_module_version": "1.2.0",
            "_view_name": "StyleView",
            "description_width": ""
          }
        },
        "9beaf1b4a2f948ee97ac52f1d2e59aff": {
          "model_module": "@jupyter-widgets/controls",
          "model_name": "HBoxModel",
          "model_module_version": "1.5.0",
          "state": {
            "_dom_classes": [],
            "_model_module": "@jupyter-widgets/controls",
            "_model_module_version": "1.5.0",
            "_model_name": "HBoxModel",
            "_view_count": null,
            "_view_module": "@jupyter-widgets/controls",
            "_view_module_version": "1.5.0",
            "_view_name": "HBoxView",
            "box_style": "",
            "children": [
              "IPY_MODEL_5d4fd4be94474c689e099db05b415391",
              "IPY_MODEL_82493b3b017f4e96a91994a2746321aa",
              "IPY_MODEL_e0c0dcddb558406a85b14cd3c47f36d9"
            ],
            "layout": "IPY_MODEL_8d45b5248bc746c6ad5d7a1cb8b28bec"
          }
        },
        "5d4fd4be94474c689e099db05b415391": {
          "model_module": "@jupyter-widgets/controls",
          "model_name": "HTMLModel",
          "model_module_version": "1.5.0",
          "state": {
            "_dom_classes": [],
            "_model_module": "@jupyter-widgets/controls",
            "_model_module_version": "1.5.0",
            "_model_name": "HTMLModel",
            "_view_count": null,
            "_view_module": "@jupyter-widgets/controls",
            "_view_module_version": "1.5.0",
            "_view_name": "HTMLView",
            "description": "",
            "description_tooltip": null,
            "layout": "IPY_MODEL_e35e2700bb5c458c95f411dc89d57da7",
            "placeholder": "​",
            "style": "IPY_MODEL_9a306ed3fbe3441fbc6e8148d5b992a0",
            "value": "config.json: 100%"
          }
        },
        "82493b3b017f4e96a91994a2746321aa": {
          "model_module": "@jupyter-widgets/controls",
          "model_name": "FloatProgressModel",
          "model_module_version": "1.5.0",
          "state": {
            "_dom_classes": [],
            "_model_module": "@jupyter-widgets/controls",
            "_model_module_version": "1.5.0",
            "_model_name": "FloatProgressModel",
            "_view_count": null,
            "_view_module": "@jupyter-widgets/controls",
            "_view_module_version": "1.5.0",
            "_view_name": "ProgressView",
            "bar_style": "success",
            "description": "",
            "description_tooltip": null,
            "layout": "IPY_MODEL_431991e6c4d240dcb844a1294d385bad",
            "max": 570,
            "min": 0,
            "orientation": "horizontal",
            "style": "IPY_MODEL_5e65710390d047138a7ab528229b60f7",
            "value": 570
          }
        },
        "e0c0dcddb558406a85b14cd3c47f36d9": {
          "model_module": "@jupyter-widgets/controls",
          "model_name": "HTMLModel",
          "model_module_version": "1.5.0",
          "state": {
            "_dom_classes": [],
            "_model_module": "@jupyter-widgets/controls",
            "_model_module_version": "1.5.0",
            "_model_name": "HTMLModel",
            "_view_count": null,
            "_view_module": "@jupyter-widgets/controls",
            "_view_module_version": "1.5.0",
            "_view_name": "HTMLView",
            "description": "",
            "description_tooltip": null,
            "layout": "IPY_MODEL_7cfd73d6ab1249c3a03f7e3e1a614f30",
            "placeholder": "​",
            "style": "IPY_MODEL_891a78229dad457ea35845786b5d857c",
            "value": " 570/570 [00:00&lt;00:00, 10.7kB/s]"
          }
        },
        "8d45b5248bc746c6ad5d7a1cb8b28bec": {
          "model_module": "@jupyter-widgets/base",
          "model_name": "LayoutModel",
          "model_module_version": "1.2.0",
          "state": {
            "_model_module": "@jupyter-widgets/base",
            "_model_module_version": "1.2.0",
            "_model_name": "LayoutModel",
            "_view_count": null,
            "_view_module": "@jupyter-widgets/base",
            "_view_module_version": "1.2.0",
            "_view_name": "LayoutView",
            "align_content": null,
            "align_items": null,
            "align_self": null,
            "border": null,
            "bottom": null,
            "display": null,
            "flex": null,
            "flex_flow": null,
            "grid_area": null,
            "grid_auto_columns": null,
            "grid_auto_flow": null,
            "grid_auto_rows": null,
            "grid_column": null,
            "grid_gap": null,
            "grid_row": null,
            "grid_template_areas": null,
            "grid_template_columns": null,
            "grid_template_rows": null,
            "height": null,
            "justify_content": null,
            "justify_items": null,
            "left": null,
            "margin": null,
            "max_height": null,
            "max_width": null,
            "min_height": null,
            "min_width": null,
            "object_fit": null,
            "object_position": null,
            "order": null,
            "overflow": null,
            "overflow_x": null,
            "overflow_y": null,
            "padding": null,
            "right": null,
            "top": null,
            "visibility": null,
            "width": null
          }
        },
        "e35e2700bb5c458c95f411dc89d57da7": {
          "model_module": "@jupyter-widgets/base",
          "model_name": "LayoutModel",
          "model_module_version": "1.2.0",
          "state": {
            "_model_module": "@jupyter-widgets/base",
            "_model_module_version": "1.2.0",
            "_model_name": "LayoutModel",
            "_view_count": null,
            "_view_module": "@jupyter-widgets/base",
            "_view_module_version": "1.2.0",
            "_view_name": "LayoutView",
            "align_content": null,
            "align_items": null,
            "align_self": null,
            "border": null,
            "bottom": null,
            "display": null,
            "flex": null,
            "flex_flow": null,
            "grid_area": null,
            "grid_auto_columns": null,
            "grid_auto_flow": null,
            "grid_auto_rows": null,
            "grid_column": null,
            "grid_gap": null,
            "grid_row": null,
            "grid_template_areas": null,
            "grid_template_columns": null,
            "grid_template_rows": null,
            "height": null,
            "justify_content": null,
            "justify_items": null,
            "left": null,
            "margin": null,
            "max_height": null,
            "max_width": null,
            "min_height": null,
            "min_width": null,
            "object_fit": null,
            "object_position": null,
            "order": null,
            "overflow": null,
            "overflow_x": null,
            "overflow_y": null,
            "padding": null,
            "right": null,
            "top": null,
            "visibility": null,
            "width": null
          }
        },
        "9a306ed3fbe3441fbc6e8148d5b992a0": {
          "model_module": "@jupyter-widgets/controls",
          "model_name": "DescriptionStyleModel",
          "model_module_version": "1.5.0",
          "state": {
            "_model_module": "@jupyter-widgets/controls",
            "_model_module_version": "1.5.0",
            "_model_name": "DescriptionStyleModel",
            "_view_count": null,
            "_view_module": "@jupyter-widgets/base",
            "_view_module_version": "1.2.0",
            "_view_name": "StyleView",
            "description_width": ""
          }
        },
        "431991e6c4d240dcb844a1294d385bad": {
          "model_module": "@jupyter-widgets/base",
          "model_name": "LayoutModel",
          "model_module_version": "1.2.0",
          "state": {
            "_model_module": "@jupyter-widgets/base",
            "_model_module_version": "1.2.0",
            "_model_name": "LayoutModel",
            "_view_count": null,
            "_view_module": "@jupyter-widgets/base",
            "_view_module_version": "1.2.0",
            "_view_name": "LayoutView",
            "align_content": null,
            "align_items": null,
            "align_self": null,
            "border": null,
            "bottom": null,
            "display": null,
            "flex": null,
            "flex_flow": null,
            "grid_area": null,
            "grid_auto_columns": null,
            "grid_auto_flow": null,
            "grid_auto_rows": null,
            "grid_column": null,
            "grid_gap": null,
            "grid_row": null,
            "grid_template_areas": null,
            "grid_template_columns": null,
            "grid_template_rows": null,
            "height": null,
            "justify_content": null,
            "justify_items": null,
            "left": null,
            "margin": null,
            "max_height": null,
            "max_width": null,
            "min_height": null,
            "min_width": null,
            "object_fit": null,
            "object_position": null,
            "order": null,
            "overflow": null,
            "overflow_x": null,
            "overflow_y": null,
            "padding": null,
            "right": null,
            "top": null,
            "visibility": null,
            "width": null
          }
        },
        "5e65710390d047138a7ab528229b60f7": {
          "model_module": "@jupyter-widgets/controls",
          "model_name": "ProgressStyleModel",
          "model_module_version": "1.5.0",
          "state": {
            "_model_module": "@jupyter-widgets/controls",
            "_model_module_version": "1.5.0",
            "_model_name": "ProgressStyleModel",
            "_view_count": null,
            "_view_module": "@jupyter-widgets/base",
            "_view_module_version": "1.2.0",
            "_view_name": "StyleView",
            "bar_color": null,
            "description_width": ""
          }
        },
        "7cfd73d6ab1249c3a03f7e3e1a614f30": {
          "model_module": "@jupyter-widgets/base",
          "model_name": "LayoutModel",
          "model_module_version": "1.2.0",
          "state": {
            "_model_module": "@jupyter-widgets/base",
            "_model_module_version": "1.2.0",
            "_model_name": "LayoutModel",
            "_view_count": null,
            "_view_module": "@jupyter-widgets/base",
            "_view_module_version": "1.2.0",
            "_view_name": "LayoutView",
            "align_content": null,
            "align_items": null,
            "align_self": null,
            "border": null,
            "bottom": null,
            "display": null,
            "flex": null,
            "flex_flow": null,
            "grid_area": null,
            "grid_auto_columns": null,
            "grid_auto_flow": null,
            "grid_auto_rows": null,
            "grid_column": null,
            "grid_gap": null,
            "grid_row": null,
            "grid_template_areas": null,
            "grid_template_columns": null,
            "grid_template_rows": null,
            "height": null,
            "justify_content": null,
            "justify_items": null,
            "left": null,
            "margin": null,
            "max_height": null,
            "max_width": null,
            "min_height": null,
            "min_width": null,
            "object_fit": null,
            "object_position": null,
            "order": null,
            "overflow": null,
            "overflow_x": null,
            "overflow_y": null,
            "padding": null,
            "right": null,
            "top": null,
            "visibility": null,
            "width": null
          }
        },
        "891a78229dad457ea35845786b5d857c": {
          "model_module": "@jupyter-widgets/controls",
          "model_name": "DescriptionStyleModel",
          "model_module_version": "1.5.0",
          "state": {
            "_model_module": "@jupyter-widgets/controls",
            "_model_module_version": "1.5.0",
            "_model_name": "DescriptionStyleModel",
            "_view_count": null,
            "_view_module": "@jupyter-widgets/base",
            "_view_module_version": "1.2.0",
            "_view_name": "StyleView",
            "description_width": ""
          }
        },
        "400f3cea732a40c7bd36ecb50326c80f": {
          "model_module": "@jupyter-widgets/controls",
          "model_name": "HBoxModel",
          "model_module_version": "1.5.0",
          "state": {
            "_dom_classes": [],
            "_model_module": "@jupyter-widgets/controls",
            "_model_module_version": "1.5.0",
            "_model_name": "HBoxModel",
            "_view_count": null,
            "_view_module": "@jupyter-widgets/controls",
            "_view_module_version": "1.5.0",
            "_view_name": "HBoxView",
            "box_style": "",
            "children": [
              "IPY_MODEL_cba1ba72f0a74cd6bc94cd3e433e65f8",
              "IPY_MODEL_586589e4b82b42a79b9da0fb6be476d1",
              "IPY_MODEL_759e015ae5ac4777a8c98c590182f42c"
            ],
            "layout": "IPY_MODEL_73f5d22428bb46e0950cafb6ecffc965"
          }
        },
        "cba1ba72f0a74cd6bc94cd3e433e65f8": {
          "model_module": "@jupyter-widgets/controls",
          "model_name": "HTMLModel",
          "model_module_version": "1.5.0",
          "state": {
            "_dom_classes": [],
            "_model_module": "@jupyter-widgets/controls",
            "_model_module_version": "1.5.0",
            "_model_name": "HTMLModel",
            "_view_count": null,
            "_view_module": "@jupyter-widgets/controls",
            "_view_module_version": "1.5.0",
            "_view_name": "HTMLView",
            "description": "",
            "description_tooltip": null,
            "layout": "IPY_MODEL_991be2f02843403e9f5687677b024585",
            "placeholder": "​",
            "style": "IPY_MODEL_8d83b696bc8644ca94bcce0375cc75b7",
            "value": "model.safetensors: 100%"
          }
        },
        "586589e4b82b42a79b9da0fb6be476d1": {
          "model_module": "@jupyter-widgets/controls",
          "model_name": "FloatProgressModel",
          "model_module_version": "1.5.0",
          "state": {
            "_dom_classes": [],
            "_model_module": "@jupyter-widgets/controls",
            "_model_module_version": "1.5.0",
            "_model_name": "FloatProgressModel",
            "_view_count": null,
            "_view_module": "@jupyter-widgets/controls",
            "_view_module_version": "1.5.0",
            "_view_name": "ProgressView",
            "bar_style": "success",
            "description": "",
            "description_tooltip": null,
            "layout": "IPY_MODEL_86babc1dceb540ee9611953c626779b4",
            "max": 435755784,
            "min": 0,
            "orientation": "horizontal",
            "style": "IPY_MODEL_e0cfa833ddf64a43ab0e6d219ebf9989",
            "value": 435755784
          }
        },
        "759e015ae5ac4777a8c98c590182f42c": {
          "model_module": "@jupyter-widgets/controls",
          "model_name": "HTMLModel",
          "model_module_version": "1.5.0",
          "state": {
            "_dom_classes": [],
            "_model_module": "@jupyter-widgets/controls",
            "_model_module_version": "1.5.0",
            "_model_name": "HTMLModel",
            "_view_count": null,
            "_view_module": "@jupyter-widgets/controls",
            "_view_module_version": "1.5.0",
            "_view_name": "HTMLView",
            "description": "",
            "description_tooltip": null,
            "layout": "IPY_MODEL_f5915985e32d45139c93c1dcba0a0178",
            "placeholder": "​",
            "style": "IPY_MODEL_dee2d3069c504324811ed27131a7c68c",
            "value": " 436M/436M [00:06&lt;00:00, 84.0MB/s]"
          }
        },
        "73f5d22428bb46e0950cafb6ecffc965": {
          "model_module": "@jupyter-widgets/base",
          "model_name": "LayoutModel",
          "model_module_version": "1.2.0",
          "state": {
            "_model_module": "@jupyter-widgets/base",
            "_model_module_version": "1.2.0",
            "_model_name": "LayoutModel",
            "_view_count": null,
            "_view_module": "@jupyter-widgets/base",
            "_view_module_version": "1.2.0",
            "_view_name": "LayoutView",
            "align_content": null,
            "align_items": null,
            "align_self": null,
            "border": null,
            "bottom": null,
            "display": null,
            "flex": null,
            "flex_flow": null,
            "grid_area": null,
            "grid_auto_columns": null,
            "grid_auto_flow": null,
            "grid_auto_rows": null,
            "grid_column": null,
            "grid_gap": null,
            "grid_row": null,
            "grid_template_areas": null,
            "grid_template_columns": null,
            "grid_template_rows": null,
            "height": null,
            "justify_content": null,
            "justify_items": null,
            "left": null,
            "margin": null,
            "max_height": null,
            "max_width": null,
            "min_height": null,
            "min_width": null,
            "object_fit": null,
            "object_position": null,
            "order": null,
            "overflow": null,
            "overflow_x": null,
            "overflow_y": null,
            "padding": null,
            "right": null,
            "top": null,
            "visibility": null,
            "width": null
          }
        },
        "991be2f02843403e9f5687677b024585": {
          "model_module": "@jupyter-widgets/base",
          "model_name": "LayoutModel",
          "model_module_version": "1.2.0",
          "state": {
            "_model_module": "@jupyter-widgets/base",
            "_model_module_version": "1.2.0",
            "_model_name": "LayoutModel",
            "_view_count": null,
            "_view_module": "@jupyter-widgets/base",
            "_view_module_version": "1.2.0",
            "_view_name": "LayoutView",
            "align_content": null,
            "align_items": null,
            "align_self": null,
            "border": null,
            "bottom": null,
            "display": null,
            "flex": null,
            "flex_flow": null,
            "grid_area": null,
            "grid_auto_columns": null,
            "grid_auto_flow": null,
            "grid_auto_rows": null,
            "grid_column": null,
            "grid_gap": null,
            "grid_row": null,
            "grid_template_areas": null,
            "grid_template_columns": null,
            "grid_template_rows": null,
            "height": null,
            "justify_content": null,
            "justify_items": null,
            "left": null,
            "margin": null,
            "max_height": null,
            "max_width": null,
            "min_height": null,
            "min_width": null,
            "object_fit": null,
            "object_position": null,
            "order": null,
            "overflow": null,
            "overflow_x": null,
            "overflow_y": null,
            "padding": null,
            "right": null,
            "top": null,
            "visibility": null,
            "width": null
          }
        },
        "8d83b696bc8644ca94bcce0375cc75b7": {
          "model_module": "@jupyter-widgets/controls",
          "model_name": "DescriptionStyleModel",
          "model_module_version": "1.5.0",
          "state": {
            "_model_module": "@jupyter-widgets/controls",
            "_model_module_version": "1.5.0",
            "_model_name": "DescriptionStyleModel",
            "_view_count": null,
            "_view_module": "@jupyter-widgets/base",
            "_view_module_version": "1.2.0",
            "_view_name": "StyleView",
            "description_width": ""
          }
        },
        "86babc1dceb540ee9611953c626779b4": {
          "model_module": "@jupyter-widgets/base",
          "model_name": "LayoutModel",
          "model_module_version": "1.2.0",
          "state": {
            "_model_module": "@jupyter-widgets/base",
            "_model_module_version": "1.2.0",
            "_model_name": "LayoutModel",
            "_view_count": null,
            "_view_module": "@jupyter-widgets/base",
            "_view_module_version": "1.2.0",
            "_view_name": "LayoutView",
            "align_content": null,
            "align_items": null,
            "align_self": null,
            "border": null,
            "bottom": null,
            "display": null,
            "flex": null,
            "flex_flow": null,
            "grid_area": null,
            "grid_auto_columns": null,
            "grid_auto_flow": null,
            "grid_auto_rows": null,
            "grid_column": null,
            "grid_gap": null,
            "grid_row": null,
            "grid_template_areas": null,
            "grid_template_columns": null,
            "grid_template_rows": null,
            "height": null,
            "justify_content": null,
            "justify_items": null,
            "left": null,
            "margin": null,
            "max_height": null,
            "max_width": null,
            "min_height": null,
            "min_width": null,
            "object_fit": null,
            "object_position": null,
            "order": null,
            "overflow": null,
            "overflow_x": null,
            "overflow_y": null,
            "padding": null,
            "right": null,
            "top": null,
            "visibility": null,
            "width": null
          }
        },
        "e0cfa833ddf64a43ab0e6d219ebf9989": {
          "model_module": "@jupyter-widgets/controls",
          "model_name": "ProgressStyleModel",
          "model_module_version": "1.5.0",
          "state": {
            "_model_module": "@jupyter-widgets/controls",
            "_model_module_version": "1.5.0",
            "_model_name": "ProgressStyleModel",
            "_view_count": null,
            "_view_module": "@jupyter-widgets/base",
            "_view_module_version": "1.2.0",
            "_view_name": "StyleView",
            "bar_color": null,
            "description_width": ""
          }
        },
        "f5915985e32d45139c93c1dcba0a0178": {
          "model_module": "@jupyter-widgets/base",
          "model_name": "LayoutModel",
          "model_module_version": "1.2.0",
          "state": {
            "_model_module": "@jupyter-widgets/base",
            "_model_module_version": "1.2.0",
            "_model_name": "LayoutModel",
            "_view_count": null,
            "_view_module": "@jupyter-widgets/base",
            "_view_module_version": "1.2.0",
            "_view_name": "LayoutView",
            "align_content": null,
            "align_items": null,
            "align_self": null,
            "border": null,
            "bottom": null,
            "display": null,
            "flex": null,
            "flex_flow": null,
            "grid_area": null,
            "grid_auto_columns": null,
            "grid_auto_flow": null,
            "grid_auto_rows": null,
            "grid_column": null,
            "grid_gap": null,
            "grid_row": null,
            "grid_template_areas": null,
            "grid_template_columns": null,
            "grid_template_rows": null,
            "height": null,
            "justify_content": null,
            "justify_items": null,
            "left": null,
            "margin": null,
            "max_height": null,
            "max_width": null,
            "min_height": null,
            "min_width": null,
            "object_fit": null,
            "object_position": null,
            "order": null,
            "overflow": null,
            "overflow_x": null,
            "overflow_y": null,
            "padding": null,
            "right": null,
            "top": null,
            "visibility": null,
            "width": null
          }
        },
        "dee2d3069c504324811ed27131a7c68c": {
          "model_module": "@jupyter-widgets/controls",
          "model_name": "DescriptionStyleModel",
          "model_module_version": "1.5.0",
          "state": {
            "_model_module": "@jupyter-widgets/controls",
            "_model_module_version": "1.5.0",
            "_model_name": "DescriptionStyleModel",
            "_view_count": null,
            "_view_module": "@jupyter-widgets/base",
            "_view_module_version": "1.2.0",
            "_view_name": "StyleView",
            "description_width": ""
          }
        },
        "7d140feb1a574f87af6e482ddb0aeef3": {
          "model_module": "@jupyter-widgets/controls",
          "model_name": "HBoxModel",
          "model_module_version": "1.5.0",
          "state": {
            "_dom_classes": [],
            "_model_module": "@jupyter-widgets/controls",
            "_model_module_version": "1.5.0",
            "_model_name": "HBoxModel",
            "_view_count": null,
            "_view_module": "@jupyter-widgets/controls",
            "_view_module_version": "1.5.0",
            "_view_name": "HBoxView",
            "box_style": "",
            "children": [
              "IPY_MODEL_0f6570ffebff4b809003fc165d81e415",
              "IPY_MODEL_08c9de11e8b845c8897bc45873bbe32d",
              "IPY_MODEL_88f3010c9d18458db2867251608ea400"
            ],
            "layout": "IPY_MODEL_6ab90169f8a045a98d99caa4c7737ae7"
          }
        },
        "0f6570ffebff4b809003fc165d81e415": {
          "model_module": "@jupyter-widgets/controls",
          "model_name": "HTMLModel",
          "model_module_version": "1.5.0",
          "state": {
            "_dom_classes": [],
            "_model_module": "@jupyter-widgets/controls",
            "_model_module_version": "1.5.0",
            "_model_name": "HTMLModel",
            "_view_count": null,
            "_view_module": "@jupyter-widgets/controls",
            "_view_module_version": "1.5.0",
            "_view_name": "HTMLView",
            "description": "",
            "description_tooltip": null,
            "layout": "IPY_MODEL_6d702b1830a44e46a11825a477db6350",
            "placeholder": "​",
            "style": "IPY_MODEL_7ade8c02a1834b3bb9d6d1551caa9f5e",
            "value": "tokenizer_config.json: 100%"
          }
        },
        "08c9de11e8b845c8897bc45873bbe32d": {
          "model_module": "@jupyter-widgets/controls",
          "model_name": "FloatProgressModel",
          "model_module_version": "1.5.0",
          "state": {
            "_dom_classes": [],
            "_model_module": "@jupyter-widgets/controls",
            "_model_module_version": "1.5.0",
            "_model_name": "FloatProgressModel",
            "_view_count": null,
            "_view_module": "@jupyter-widgets/controls",
            "_view_module_version": "1.5.0",
            "_view_name": "ProgressView",
            "bar_style": "success",
            "description": "",
            "description_tooltip": null,
            "layout": "IPY_MODEL_2cfb61201b064498b1ed4c4309080dfe",
            "max": 49,
            "min": 0,
            "orientation": "horizontal",
            "style": "IPY_MODEL_d5dace7cb2fa4be8990e1ba7c776244f",
            "value": 49
          }
        },
        "88f3010c9d18458db2867251608ea400": {
          "model_module": "@jupyter-widgets/controls",
          "model_name": "HTMLModel",
          "model_module_version": "1.5.0",
          "state": {
            "_dom_classes": [],
            "_model_module": "@jupyter-widgets/controls",
            "_model_module_version": "1.5.0",
            "_model_name": "HTMLModel",
            "_view_count": null,
            "_view_module": "@jupyter-widgets/controls",
            "_view_module_version": "1.5.0",
            "_view_name": "HTMLView",
            "description": "",
            "description_tooltip": null,
            "layout": "IPY_MODEL_42b5ce0883964b31a782eb699671c7ec",
            "placeholder": "​",
            "style": "IPY_MODEL_aca37633538d4c4782fb0831eeba53d5",
            "value": " 49.0/49.0 [00:00&lt;00:00, 912B/s]"
          }
        },
        "6ab90169f8a045a98d99caa4c7737ae7": {
          "model_module": "@jupyter-widgets/base",
          "model_name": "LayoutModel",
          "model_module_version": "1.2.0",
          "state": {
            "_model_module": "@jupyter-widgets/base",
            "_model_module_version": "1.2.0",
            "_model_name": "LayoutModel",
            "_view_count": null,
            "_view_module": "@jupyter-widgets/base",
            "_view_module_version": "1.2.0",
            "_view_name": "LayoutView",
            "align_content": null,
            "align_items": null,
            "align_self": null,
            "border": null,
            "bottom": null,
            "display": null,
            "flex": null,
            "flex_flow": null,
            "grid_area": null,
            "grid_auto_columns": null,
            "grid_auto_flow": null,
            "grid_auto_rows": null,
            "grid_column": null,
            "grid_gap": null,
            "grid_row": null,
            "grid_template_areas": null,
            "grid_template_columns": null,
            "grid_template_rows": null,
            "height": null,
            "justify_content": null,
            "justify_items": null,
            "left": null,
            "margin": null,
            "max_height": null,
            "max_width": null,
            "min_height": null,
            "min_width": null,
            "object_fit": null,
            "object_position": null,
            "order": null,
            "overflow": null,
            "overflow_x": null,
            "overflow_y": null,
            "padding": null,
            "right": null,
            "top": null,
            "visibility": null,
            "width": null
          }
        },
        "6d702b1830a44e46a11825a477db6350": {
          "model_module": "@jupyter-widgets/base",
          "model_name": "LayoutModel",
          "model_module_version": "1.2.0",
          "state": {
            "_model_module": "@jupyter-widgets/base",
            "_model_module_version": "1.2.0",
            "_model_name": "LayoutModel",
            "_view_count": null,
            "_view_module": "@jupyter-widgets/base",
            "_view_module_version": "1.2.0",
            "_view_name": "LayoutView",
            "align_content": null,
            "align_items": null,
            "align_self": null,
            "border": null,
            "bottom": null,
            "display": null,
            "flex": null,
            "flex_flow": null,
            "grid_area": null,
            "grid_auto_columns": null,
            "grid_auto_flow": null,
            "grid_auto_rows": null,
            "grid_column": null,
            "grid_gap": null,
            "grid_row": null,
            "grid_template_areas": null,
            "grid_template_columns": null,
            "grid_template_rows": null,
            "height": null,
            "justify_content": null,
            "justify_items": null,
            "left": null,
            "margin": null,
            "max_height": null,
            "max_width": null,
            "min_height": null,
            "min_width": null,
            "object_fit": null,
            "object_position": null,
            "order": null,
            "overflow": null,
            "overflow_x": null,
            "overflow_y": null,
            "padding": null,
            "right": null,
            "top": null,
            "visibility": null,
            "width": null
          }
        },
        "7ade8c02a1834b3bb9d6d1551caa9f5e": {
          "model_module": "@jupyter-widgets/controls",
          "model_name": "DescriptionStyleModel",
          "model_module_version": "1.5.0",
          "state": {
            "_model_module": "@jupyter-widgets/controls",
            "_model_module_version": "1.5.0",
            "_model_name": "DescriptionStyleModel",
            "_view_count": null,
            "_view_module": "@jupyter-widgets/base",
            "_view_module_version": "1.2.0",
            "_view_name": "StyleView",
            "description_width": ""
          }
        },
        "2cfb61201b064498b1ed4c4309080dfe": {
          "model_module": "@jupyter-widgets/base",
          "model_name": "LayoutModel",
          "model_module_version": "1.2.0",
          "state": {
            "_model_module": "@jupyter-widgets/base",
            "_model_module_version": "1.2.0",
            "_model_name": "LayoutModel",
            "_view_count": null,
            "_view_module": "@jupyter-widgets/base",
            "_view_module_version": "1.2.0",
            "_view_name": "LayoutView",
            "align_content": null,
            "align_items": null,
            "align_self": null,
            "border": null,
            "bottom": null,
            "display": null,
            "flex": null,
            "flex_flow": null,
            "grid_area": null,
            "grid_auto_columns": null,
            "grid_auto_flow": null,
            "grid_auto_rows": null,
            "grid_column": null,
            "grid_gap": null,
            "grid_row": null,
            "grid_template_areas": null,
            "grid_template_columns": null,
            "grid_template_rows": null,
            "height": null,
            "justify_content": null,
            "justify_items": null,
            "left": null,
            "margin": null,
            "max_height": null,
            "max_width": null,
            "min_height": null,
            "min_width": null,
            "object_fit": null,
            "object_position": null,
            "order": null,
            "overflow": null,
            "overflow_x": null,
            "overflow_y": null,
            "padding": null,
            "right": null,
            "top": null,
            "visibility": null,
            "width": null
          }
        },
        "d5dace7cb2fa4be8990e1ba7c776244f": {
          "model_module": "@jupyter-widgets/controls",
          "model_name": "ProgressStyleModel",
          "model_module_version": "1.5.0",
          "state": {
            "_model_module": "@jupyter-widgets/controls",
            "_model_module_version": "1.5.0",
            "_model_name": "ProgressStyleModel",
            "_view_count": null,
            "_view_module": "@jupyter-widgets/base",
            "_view_module_version": "1.2.0",
            "_view_name": "StyleView",
            "bar_color": null,
            "description_width": ""
          }
        },
        "42b5ce0883964b31a782eb699671c7ec": {
          "model_module": "@jupyter-widgets/base",
          "model_name": "LayoutModel",
          "model_module_version": "1.2.0",
          "state": {
            "_model_module": "@jupyter-widgets/base",
            "_model_module_version": "1.2.0",
            "_model_name": "LayoutModel",
            "_view_count": null,
            "_view_module": "@jupyter-widgets/base",
            "_view_module_version": "1.2.0",
            "_view_name": "LayoutView",
            "align_content": null,
            "align_items": null,
            "align_self": null,
            "border": null,
            "bottom": null,
            "display": null,
            "flex": null,
            "flex_flow": null,
            "grid_area": null,
            "grid_auto_columns": null,
            "grid_auto_flow": null,
            "grid_auto_rows": null,
            "grid_column": null,
            "grid_gap": null,
            "grid_row": null,
            "grid_template_areas": null,
            "grid_template_columns": null,
            "grid_template_rows": null,
            "height": null,
            "justify_content": null,
            "justify_items": null,
            "left": null,
            "margin": null,
            "max_height": null,
            "max_width": null,
            "min_height": null,
            "min_width": null,
            "object_fit": null,
            "object_position": null,
            "order": null,
            "overflow": null,
            "overflow_x": null,
            "overflow_y": null,
            "padding": null,
            "right": null,
            "top": null,
            "visibility": null,
            "width": null
          }
        },
        "aca37633538d4c4782fb0831eeba53d5": {
          "model_module": "@jupyter-widgets/controls",
          "model_name": "DescriptionStyleModel",
          "model_module_version": "1.5.0",
          "state": {
            "_model_module": "@jupyter-widgets/controls",
            "_model_module_version": "1.5.0",
            "_model_name": "DescriptionStyleModel",
            "_view_count": null,
            "_view_module": "@jupyter-widgets/base",
            "_view_module_version": "1.2.0",
            "_view_name": "StyleView",
            "description_width": ""
          }
        },
        "c2e0117cf15e49628fde5a6e468e4b69": {
          "model_module": "@jupyter-widgets/controls",
          "model_name": "HBoxModel",
          "model_module_version": "1.5.0",
          "state": {
            "_dom_classes": [],
            "_model_module": "@jupyter-widgets/controls",
            "_model_module_version": "1.5.0",
            "_model_name": "HBoxModel",
            "_view_count": null,
            "_view_module": "@jupyter-widgets/controls",
            "_view_module_version": "1.5.0",
            "_view_name": "HBoxView",
            "box_style": "",
            "children": [
              "IPY_MODEL_b833f46060e74a07a40fa96160af3732",
              "IPY_MODEL_c8bec085eb284c18af346c753614da9b",
              "IPY_MODEL_4346695d0f29437ab52b5acec4095b25"
            ],
            "layout": "IPY_MODEL_bda5522d4ddb4db19ee4265d60de742b"
          }
        },
        "b833f46060e74a07a40fa96160af3732": {
          "model_module": "@jupyter-widgets/controls",
          "model_name": "HTMLModel",
          "model_module_version": "1.5.0",
          "state": {
            "_dom_classes": [],
            "_model_module": "@jupyter-widgets/controls",
            "_model_module_version": "1.5.0",
            "_model_name": "HTMLModel",
            "_view_count": null,
            "_view_module": "@jupyter-widgets/controls",
            "_view_module_version": "1.5.0",
            "_view_name": "HTMLView",
            "description": "",
            "description_tooltip": null,
            "layout": "IPY_MODEL_f465d886a0dd4efb9f5d652658fb7ee4",
            "placeholder": "​",
            "style": "IPY_MODEL_a82c451a637d41609708ffe9c0f2aeb1",
            "value": "vocab.txt: 100%"
          }
        },
        "c8bec085eb284c18af346c753614da9b": {
          "model_module": "@jupyter-widgets/controls",
          "model_name": "FloatProgressModel",
          "model_module_version": "1.5.0",
          "state": {
            "_dom_classes": [],
            "_model_module": "@jupyter-widgets/controls",
            "_model_module_version": "1.5.0",
            "_model_name": "FloatProgressModel",
            "_view_count": null,
            "_view_module": "@jupyter-widgets/controls",
            "_view_module_version": "1.5.0",
            "_view_name": "ProgressView",
            "bar_style": "success",
            "description": "",
            "description_tooltip": null,
            "layout": "IPY_MODEL_d9375aebbea84f35a2968e83a77c7abe",
            "max": 213450,
            "min": 0,
            "orientation": "horizontal",
            "style": "IPY_MODEL_ccb594cad564464c932e9f794cd62867",
            "value": 213450
          }
        },
        "4346695d0f29437ab52b5acec4095b25": {
          "model_module": "@jupyter-widgets/controls",
          "model_name": "HTMLModel",
          "model_module_version": "1.5.0",
          "state": {
            "_dom_classes": [],
            "_model_module": "@jupyter-widgets/controls",
            "_model_module_version": "1.5.0",
            "_model_name": "HTMLModel",
            "_view_count": null,
            "_view_module": "@jupyter-widgets/controls",
            "_view_module_version": "1.5.0",
            "_view_name": "HTMLView",
            "description": "",
            "description_tooltip": null,
            "layout": "IPY_MODEL_52f8a4ac86994dad8769525447e545f6",
            "placeholder": "​",
            "style": "IPY_MODEL_069b39d32b5c43e9a89c70c5d55c2113",
            "value": " 213k/213k [00:00&lt;00:00, 2.30MB/s]"
          }
        },
        "bda5522d4ddb4db19ee4265d60de742b": {
          "model_module": "@jupyter-widgets/base",
          "model_name": "LayoutModel",
          "model_module_version": "1.2.0",
          "state": {
            "_model_module": "@jupyter-widgets/base",
            "_model_module_version": "1.2.0",
            "_model_name": "LayoutModel",
            "_view_count": null,
            "_view_module": "@jupyter-widgets/base",
            "_view_module_version": "1.2.0",
            "_view_name": "LayoutView",
            "align_content": null,
            "align_items": null,
            "align_self": null,
            "border": null,
            "bottom": null,
            "display": null,
            "flex": null,
            "flex_flow": null,
            "grid_area": null,
            "grid_auto_columns": null,
            "grid_auto_flow": null,
            "grid_auto_rows": null,
            "grid_column": null,
            "grid_gap": null,
            "grid_row": null,
            "grid_template_areas": null,
            "grid_template_columns": null,
            "grid_template_rows": null,
            "height": null,
            "justify_content": null,
            "justify_items": null,
            "left": null,
            "margin": null,
            "max_height": null,
            "max_width": null,
            "min_height": null,
            "min_width": null,
            "object_fit": null,
            "object_position": null,
            "order": null,
            "overflow": null,
            "overflow_x": null,
            "overflow_y": null,
            "padding": null,
            "right": null,
            "top": null,
            "visibility": null,
            "width": null
          }
        },
        "f465d886a0dd4efb9f5d652658fb7ee4": {
          "model_module": "@jupyter-widgets/base",
          "model_name": "LayoutModel",
          "model_module_version": "1.2.0",
          "state": {
            "_model_module": "@jupyter-widgets/base",
            "_model_module_version": "1.2.0",
            "_model_name": "LayoutModel",
            "_view_count": null,
            "_view_module": "@jupyter-widgets/base",
            "_view_module_version": "1.2.0",
            "_view_name": "LayoutView",
            "align_content": null,
            "align_items": null,
            "align_self": null,
            "border": null,
            "bottom": null,
            "display": null,
            "flex": null,
            "flex_flow": null,
            "grid_area": null,
            "grid_auto_columns": null,
            "grid_auto_flow": null,
            "grid_auto_rows": null,
            "grid_column": null,
            "grid_gap": null,
            "grid_row": null,
            "grid_template_areas": null,
            "grid_template_columns": null,
            "grid_template_rows": null,
            "height": null,
            "justify_content": null,
            "justify_items": null,
            "left": null,
            "margin": null,
            "max_height": null,
            "max_width": null,
            "min_height": null,
            "min_width": null,
            "object_fit": null,
            "object_position": null,
            "order": null,
            "overflow": null,
            "overflow_x": null,
            "overflow_y": null,
            "padding": null,
            "right": null,
            "top": null,
            "visibility": null,
            "width": null
          }
        },
        "a82c451a637d41609708ffe9c0f2aeb1": {
          "model_module": "@jupyter-widgets/controls",
          "model_name": "DescriptionStyleModel",
          "model_module_version": "1.5.0",
          "state": {
            "_model_module": "@jupyter-widgets/controls",
            "_model_module_version": "1.5.0",
            "_model_name": "DescriptionStyleModel",
            "_view_count": null,
            "_view_module": "@jupyter-widgets/base",
            "_view_module_version": "1.2.0",
            "_view_name": "StyleView",
            "description_width": ""
          }
        },
        "d9375aebbea84f35a2968e83a77c7abe": {
          "model_module": "@jupyter-widgets/base",
          "model_name": "LayoutModel",
          "model_module_version": "1.2.0",
          "state": {
            "_model_module": "@jupyter-widgets/base",
            "_model_module_version": "1.2.0",
            "_model_name": "LayoutModel",
            "_view_count": null,
            "_view_module": "@jupyter-widgets/base",
            "_view_module_version": "1.2.0",
            "_view_name": "LayoutView",
            "align_content": null,
            "align_items": null,
            "align_self": null,
            "border": null,
            "bottom": null,
            "display": null,
            "flex": null,
            "flex_flow": null,
            "grid_area": null,
            "grid_auto_columns": null,
            "grid_auto_flow": null,
            "grid_auto_rows": null,
            "grid_column": null,
            "grid_gap": null,
            "grid_row": null,
            "grid_template_areas": null,
            "grid_template_columns": null,
            "grid_template_rows": null,
            "height": null,
            "justify_content": null,
            "justify_items": null,
            "left": null,
            "margin": null,
            "max_height": null,
            "max_width": null,
            "min_height": null,
            "min_width": null,
            "object_fit": null,
            "object_position": null,
            "order": null,
            "overflow": null,
            "overflow_x": null,
            "overflow_y": null,
            "padding": null,
            "right": null,
            "top": null,
            "visibility": null,
            "width": null
          }
        },
        "ccb594cad564464c932e9f794cd62867": {
          "model_module": "@jupyter-widgets/controls",
          "model_name": "ProgressStyleModel",
          "model_module_version": "1.5.0",
          "state": {
            "_model_module": "@jupyter-widgets/controls",
            "_model_module_version": "1.5.0",
            "_model_name": "ProgressStyleModel",
            "_view_count": null,
            "_view_module": "@jupyter-widgets/base",
            "_view_module_version": "1.2.0",
            "_view_name": "StyleView",
            "bar_color": null,
            "description_width": ""
          }
        },
        "52f8a4ac86994dad8769525447e545f6": {
          "model_module": "@jupyter-widgets/base",
          "model_name": "LayoutModel",
          "model_module_version": "1.2.0",
          "state": {
            "_model_module": "@jupyter-widgets/base",
            "_model_module_version": "1.2.0",
            "_model_name": "LayoutModel",
            "_view_count": null,
            "_view_module": "@jupyter-widgets/base",
            "_view_module_version": "1.2.0",
            "_view_name": "LayoutView",
            "align_content": null,
            "align_items": null,
            "align_self": null,
            "border": null,
            "bottom": null,
            "display": null,
            "flex": null,
            "flex_flow": null,
            "grid_area": null,
            "grid_auto_columns": null,
            "grid_auto_flow": null,
            "grid_auto_rows": null,
            "grid_column": null,
            "grid_gap": null,
            "grid_row": null,
            "grid_template_areas": null,
            "grid_template_columns": null,
            "grid_template_rows": null,
            "height": null,
            "justify_content": null,
            "justify_items": null,
            "left": null,
            "margin": null,
            "max_height": null,
            "max_width": null,
            "min_height": null,
            "min_width": null,
            "object_fit": null,
            "object_position": null,
            "order": null,
            "overflow": null,
            "overflow_x": null,
            "overflow_y": null,
            "padding": null,
            "right": null,
            "top": null,
            "visibility": null,
            "width": null
          }
        },
        "069b39d32b5c43e9a89c70c5d55c2113": {
          "model_module": "@jupyter-widgets/controls",
          "model_name": "DescriptionStyleModel",
          "model_module_version": "1.5.0",
          "state": {
            "_model_module": "@jupyter-widgets/controls",
            "_model_module_version": "1.5.0",
            "_model_name": "DescriptionStyleModel",
            "_view_count": null,
            "_view_module": "@jupyter-widgets/base",
            "_view_module_version": "1.2.0",
            "_view_name": "StyleView",
            "description_width": ""
          }
        },
        "f879899efa854bea9a636b8e611d7b31": {
          "model_module": "@jupyter-widgets/controls",
          "model_name": "HBoxModel",
          "model_module_version": "1.5.0",
          "state": {
            "_dom_classes": [],
            "_model_module": "@jupyter-widgets/controls",
            "_model_module_version": "1.5.0",
            "_model_name": "HBoxModel",
            "_view_count": null,
            "_view_module": "@jupyter-widgets/controls",
            "_view_module_version": "1.5.0",
            "_view_name": "HBoxView",
            "box_style": "",
            "children": [
              "IPY_MODEL_2ef230af034d4743b037b50b1a1d7bfe",
              "IPY_MODEL_ddf00f1c3b93485d8b5d3d1324d4dd5a",
              "IPY_MODEL_a886c42e97004afb9b39bf70924d2790"
            ],
            "layout": "IPY_MODEL_e203994d0eea42b3b8652a05162bba69"
          }
        },
        "2ef230af034d4743b037b50b1a1d7bfe": {
          "model_module": "@jupyter-widgets/controls",
          "model_name": "HTMLModel",
          "model_module_version": "1.5.0",
          "state": {
            "_dom_classes": [],
            "_model_module": "@jupyter-widgets/controls",
            "_model_module_version": "1.5.0",
            "_model_name": "HTMLModel",
            "_view_count": null,
            "_view_module": "@jupyter-widgets/controls",
            "_view_module_version": "1.5.0",
            "_view_name": "HTMLView",
            "description": "",
            "description_tooltip": null,
            "layout": "IPY_MODEL_68fa8954050f489caa128e8cf94554f6",
            "placeholder": "​",
            "style": "IPY_MODEL_e7767b2086d74376be925cdf9a410696",
            "value": "tokenizer.json: 100%"
          }
        },
        "ddf00f1c3b93485d8b5d3d1324d4dd5a": {
          "model_module": "@jupyter-widgets/controls",
          "model_name": "FloatProgressModel",
          "model_module_version": "1.5.0",
          "state": {
            "_dom_classes": [],
            "_model_module": "@jupyter-widgets/controls",
            "_model_module_version": "1.5.0",
            "_model_name": "FloatProgressModel",
            "_view_count": null,
            "_view_module": "@jupyter-widgets/controls",
            "_view_module_version": "1.5.0",
            "_view_name": "ProgressView",
            "bar_style": "success",
            "description": "",
            "description_tooltip": null,
            "layout": "IPY_MODEL_9309a2672ac8447fbf204430ee0ad741",
            "max": 435797,
            "min": 0,
            "orientation": "horizontal",
            "style": "IPY_MODEL_316d26a68b5545a9961fa1e8bbac040f",
            "value": 435797
          }
        },
        "a886c42e97004afb9b39bf70924d2790": {
          "model_module": "@jupyter-widgets/controls",
          "model_name": "HTMLModel",
          "model_module_version": "1.5.0",
          "state": {
            "_dom_classes": [],
            "_model_module": "@jupyter-widgets/controls",
            "_model_module_version": "1.5.0",
            "_model_name": "HTMLModel",
            "_view_count": null,
            "_view_module": "@jupyter-widgets/controls",
            "_view_module_version": "1.5.0",
            "_view_name": "HTMLView",
            "description": "",
            "description_tooltip": null,
            "layout": "IPY_MODEL_7f1195576b974fd79271d8eb5a859080",
            "placeholder": "​",
            "style": "IPY_MODEL_450aaacac8324471a0fbdf7db4b36bb3",
            "value": " 436k/436k [00:00&lt;00:00, 5.25MB/s]"
          }
        },
        "e203994d0eea42b3b8652a05162bba69": {
          "model_module": "@jupyter-widgets/base",
          "model_name": "LayoutModel",
          "model_module_version": "1.2.0",
          "state": {
            "_model_module": "@jupyter-widgets/base",
            "_model_module_version": "1.2.0",
            "_model_name": "LayoutModel",
            "_view_count": null,
            "_view_module": "@jupyter-widgets/base",
            "_view_module_version": "1.2.0",
            "_view_name": "LayoutView",
            "align_content": null,
            "align_items": null,
            "align_self": null,
            "border": null,
            "bottom": null,
            "display": null,
            "flex": null,
            "flex_flow": null,
            "grid_area": null,
            "grid_auto_columns": null,
            "grid_auto_flow": null,
            "grid_auto_rows": null,
            "grid_column": null,
            "grid_gap": null,
            "grid_row": null,
            "grid_template_areas": null,
            "grid_template_columns": null,
            "grid_template_rows": null,
            "height": null,
            "justify_content": null,
            "justify_items": null,
            "left": null,
            "margin": null,
            "max_height": null,
            "max_width": null,
            "min_height": null,
            "min_width": null,
            "object_fit": null,
            "object_position": null,
            "order": null,
            "overflow": null,
            "overflow_x": null,
            "overflow_y": null,
            "padding": null,
            "right": null,
            "top": null,
            "visibility": null,
            "width": null
          }
        },
        "68fa8954050f489caa128e8cf94554f6": {
          "model_module": "@jupyter-widgets/base",
          "model_name": "LayoutModel",
          "model_module_version": "1.2.0",
          "state": {
            "_model_module": "@jupyter-widgets/base",
            "_model_module_version": "1.2.0",
            "_model_name": "LayoutModel",
            "_view_count": null,
            "_view_module": "@jupyter-widgets/base",
            "_view_module_version": "1.2.0",
            "_view_name": "LayoutView",
            "align_content": null,
            "align_items": null,
            "align_self": null,
            "border": null,
            "bottom": null,
            "display": null,
            "flex": null,
            "flex_flow": null,
            "grid_area": null,
            "grid_auto_columns": null,
            "grid_auto_flow": null,
            "grid_auto_rows": null,
            "grid_column": null,
            "grid_gap": null,
            "grid_row": null,
            "grid_template_areas": null,
            "grid_template_columns": null,
            "grid_template_rows": null,
            "height": null,
            "justify_content": null,
            "justify_items": null,
            "left": null,
            "margin": null,
            "max_height": null,
            "max_width": null,
            "min_height": null,
            "min_width": null,
            "object_fit": null,
            "object_position": null,
            "order": null,
            "overflow": null,
            "overflow_x": null,
            "overflow_y": null,
            "padding": null,
            "right": null,
            "top": null,
            "visibility": null,
            "width": null
          }
        },
        "e7767b2086d74376be925cdf9a410696": {
          "model_module": "@jupyter-widgets/controls",
          "model_name": "DescriptionStyleModel",
          "model_module_version": "1.5.0",
          "state": {
            "_model_module": "@jupyter-widgets/controls",
            "_model_module_version": "1.5.0",
            "_model_name": "DescriptionStyleModel",
            "_view_count": null,
            "_view_module": "@jupyter-widgets/base",
            "_view_module_version": "1.2.0",
            "_view_name": "StyleView",
            "description_width": ""
          }
        },
        "9309a2672ac8447fbf204430ee0ad741": {
          "model_module": "@jupyter-widgets/base",
          "model_name": "LayoutModel",
          "model_module_version": "1.2.0",
          "state": {
            "_model_module": "@jupyter-widgets/base",
            "_model_module_version": "1.2.0",
            "_model_name": "LayoutModel",
            "_view_count": null,
            "_view_module": "@jupyter-widgets/base",
            "_view_module_version": "1.2.0",
            "_view_name": "LayoutView",
            "align_content": null,
            "align_items": null,
            "align_self": null,
            "border": null,
            "bottom": null,
            "display": null,
            "flex": null,
            "flex_flow": null,
            "grid_area": null,
            "grid_auto_columns": null,
            "grid_auto_flow": null,
            "grid_auto_rows": null,
            "grid_column": null,
            "grid_gap": null,
            "grid_row": null,
            "grid_template_areas": null,
            "grid_template_columns": null,
            "grid_template_rows": null,
            "height": null,
            "justify_content": null,
            "justify_items": null,
            "left": null,
            "margin": null,
            "max_height": null,
            "max_width": null,
            "min_height": null,
            "min_width": null,
            "object_fit": null,
            "object_position": null,
            "order": null,
            "overflow": null,
            "overflow_x": null,
            "overflow_y": null,
            "padding": null,
            "right": null,
            "top": null,
            "visibility": null,
            "width": null
          }
        },
        "316d26a68b5545a9961fa1e8bbac040f": {
          "model_module": "@jupyter-widgets/controls",
          "model_name": "ProgressStyleModel",
          "model_module_version": "1.5.0",
          "state": {
            "_model_module": "@jupyter-widgets/controls",
            "_model_module_version": "1.5.0",
            "_model_name": "ProgressStyleModel",
            "_view_count": null,
            "_view_module": "@jupyter-widgets/base",
            "_view_module_version": "1.2.0",
            "_view_name": "StyleView",
            "bar_color": null,
            "description_width": ""
          }
        },
        "7f1195576b974fd79271d8eb5a859080": {
          "model_module": "@jupyter-widgets/base",
          "model_name": "LayoutModel",
          "model_module_version": "1.2.0",
          "state": {
            "_model_module": "@jupyter-widgets/base",
            "_model_module_version": "1.2.0",
            "_model_name": "LayoutModel",
            "_view_count": null,
            "_view_module": "@jupyter-widgets/base",
            "_view_module_version": "1.2.0",
            "_view_name": "LayoutView",
            "align_content": null,
            "align_items": null,
            "align_self": null,
            "border": null,
            "bottom": null,
            "display": null,
            "flex": null,
            "flex_flow": null,
            "grid_area": null,
            "grid_auto_columns": null,
            "grid_auto_flow": null,
            "grid_auto_rows": null,
            "grid_column": null,
            "grid_gap": null,
            "grid_row": null,
            "grid_template_areas": null,
            "grid_template_columns": null,
            "grid_template_rows": null,
            "height": null,
            "justify_content": null,
            "justify_items": null,
            "left": null,
            "margin": null,
            "max_height": null,
            "max_width": null,
            "min_height": null,
            "min_width": null,
            "object_fit": null,
            "object_position": null,
            "order": null,
            "overflow": null,
            "overflow_x": null,
            "overflow_y": null,
            "padding": null,
            "right": null,
            "top": null,
            "visibility": null,
            "width": null
          }
        },
        "450aaacac8324471a0fbdf7db4b36bb3": {
          "model_module": "@jupyter-widgets/controls",
          "model_name": "DescriptionStyleModel",
          "model_module_version": "1.5.0",
          "state": {
            "_model_module": "@jupyter-widgets/controls",
            "_model_module_version": "1.5.0",
            "_model_name": "DescriptionStyleModel",
            "_view_count": null,
            "_view_module": "@jupyter-widgets/base",
            "_view_module_version": "1.2.0",
            "_view_name": "StyleView",
            "description_width": ""
          }
        },
        "07d59b34675e411eb5d6bc42ef75b229": {
          "model_module": "@jupyter-widgets/controls",
          "model_name": "HBoxModel",
          "model_module_version": "1.5.0",
          "state": {
            "_dom_classes": [],
            "_model_module": "@jupyter-widgets/controls",
            "_model_module_version": "1.5.0",
            "_model_name": "HBoxModel",
            "_view_count": null,
            "_view_module": "@jupyter-widgets/controls",
            "_view_module_version": "1.5.0",
            "_view_name": "HBoxView",
            "box_style": "",
            "children": [
              "IPY_MODEL_05f82556357c4e029f709363dce37379",
              "IPY_MODEL_29bbdfb3483845d6bb4d093cc666ceca",
              "IPY_MODEL_2aa2d80865fc4613bc3ba81d11978cce"
            ],
            "layout": "IPY_MODEL_b1d0ff50bd49482bb2758ac20d1b815f"
          }
        },
        "05f82556357c4e029f709363dce37379": {
          "model_module": "@jupyter-widgets/controls",
          "model_name": "HTMLModel",
          "model_module_version": "1.5.0",
          "state": {
            "_dom_classes": [],
            "_model_module": "@jupyter-widgets/controls",
            "_model_module_version": "1.5.0",
            "_model_name": "HTMLModel",
            "_view_count": null,
            "_view_module": "@jupyter-widgets/controls",
            "_view_module_version": "1.5.0",
            "_view_name": "HTMLView",
            "description": "",
            "description_tooltip": null,
            "layout": "IPY_MODEL_1bd19af2f35340698d6e02f185dca3d8",
            "placeholder": "​",
            "style": "IPY_MODEL_c90661a9733e4933a2f93f2ba3e513fd",
            "value": "model.safetensors: 100%"
          }
        },
        "29bbdfb3483845d6bb4d093cc666ceca": {
          "model_module": "@jupyter-widgets/controls",
          "model_name": "FloatProgressModel",
          "model_module_version": "1.5.0",
          "state": {
            "_dom_classes": [],
            "_model_module": "@jupyter-widgets/controls",
            "_model_module_version": "1.5.0",
            "_model_name": "FloatProgressModel",
            "_view_count": null,
            "_view_module": "@jupyter-widgets/controls",
            "_view_module_version": "1.5.0",
            "_view_name": "ProgressView",
            "bar_style": "success",
            "description": "",
            "description_tooltip": null,
            "layout": "IPY_MODEL_d37de4fe73b34fb0956a1f3dbcb67ee3",
            "max": 267832558,
            "min": 0,
            "orientation": "horizontal",
            "style": "IPY_MODEL_522dddd420704fb1b7bf9acf8d3365ab",
            "value": 267832558
          }
        },
        "2aa2d80865fc4613bc3ba81d11978cce": {
          "model_module": "@jupyter-widgets/controls",
          "model_name": "HTMLModel",
          "model_module_version": "1.5.0",
          "state": {
            "_dom_classes": [],
            "_model_module": "@jupyter-widgets/controls",
            "_model_module_version": "1.5.0",
            "_model_name": "HTMLModel",
            "_view_count": null,
            "_view_module": "@jupyter-widgets/controls",
            "_view_module_version": "1.5.0",
            "_view_name": "HTMLView",
            "description": "",
            "description_tooltip": null,
            "layout": "IPY_MODEL_7a98b8cd04164f15aed90f74e16b5f2b",
            "placeholder": "​",
            "style": "IPY_MODEL_61a0a153556a4a8f800946588b64cae6",
            "value": " 268M/268M [00:02&lt;00:00, 103MB/s]"
          }
        },
        "b1d0ff50bd49482bb2758ac20d1b815f": {
          "model_module": "@jupyter-widgets/base",
          "model_name": "LayoutModel",
          "model_module_version": "1.2.0",
          "state": {
            "_model_module": "@jupyter-widgets/base",
            "_model_module_version": "1.2.0",
            "_model_name": "LayoutModel",
            "_view_count": null,
            "_view_module": "@jupyter-widgets/base",
            "_view_module_version": "1.2.0",
            "_view_name": "LayoutView",
            "align_content": null,
            "align_items": null,
            "align_self": null,
            "border": null,
            "bottom": null,
            "display": null,
            "flex": null,
            "flex_flow": null,
            "grid_area": null,
            "grid_auto_columns": null,
            "grid_auto_flow": null,
            "grid_auto_rows": null,
            "grid_column": null,
            "grid_gap": null,
            "grid_row": null,
            "grid_template_areas": null,
            "grid_template_columns": null,
            "grid_template_rows": null,
            "height": null,
            "justify_content": null,
            "justify_items": null,
            "left": null,
            "margin": null,
            "max_height": null,
            "max_width": null,
            "min_height": null,
            "min_width": null,
            "object_fit": null,
            "object_position": null,
            "order": null,
            "overflow": null,
            "overflow_x": null,
            "overflow_y": null,
            "padding": null,
            "right": null,
            "top": null,
            "visibility": null,
            "width": null
          }
        },
        "1bd19af2f35340698d6e02f185dca3d8": {
          "model_module": "@jupyter-widgets/base",
          "model_name": "LayoutModel",
          "model_module_version": "1.2.0",
          "state": {
            "_model_module": "@jupyter-widgets/base",
            "_model_module_version": "1.2.0",
            "_model_name": "LayoutModel",
            "_view_count": null,
            "_view_module": "@jupyter-widgets/base",
            "_view_module_version": "1.2.0",
            "_view_name": "LayoutView",
            "align_content": null,
            "align_items": null,
            "align_self": null,
            "border": null,
            "bottom": null,
            "display": null,
            "flex": null,
            "flex_flow": null,
            "grid_area": null,
            "grid_auto_columns": null,
            "grid_auto_flow": null,
            "grid_auto_rows": null,
            "grid_column": null,
            "grid_gap": null,
            "grid_row": null,
            "grid_template_areas": null,
            "grid_template_columns": null,
            "grid_template_rows": null,
            "height": null,
            "justify_content": null,
            "justify_items": null,
            "left": null,
            "margin": null,
            "max_height": null,
            "max_width": null,
            "min_height": null,
            "min_width": null,
            "object_fit": null,
            "object_position": null,
            "order": null,
            "overflow": null,
            "overflow_x": null,
            "overflow_y": null,
            "padding": null,
            "right": null,
            "top": null,
            "visibility": null,
            "width": null
          }
        },
        "c90661a9733e4933a2f93f2ba3e513fd": {
          "model_module": "@jupyter-widgets/controls",
          "model_name": "DescriptionStyleModel",
          "model_module_version": "1.5.0",
          "state": {
            "_model_module": "@jupyter-widgets/controls",
            "_model_module_version": "1.5.0",
            "_model_name": "DescriptionStyleModel",
            "_view_count": null,
            "_view_module": "@jupyter-widgets/base",
            "_view_module_version": "1.2.0",
            "_view_name": "StyleView",
            "description_width": ""
          }
        },
        "d37de4fe73b34fb0956a1f3dbcb67ee3": {
          "model_module": "@jupyter-widgets/base",
          "model_name": "LayoutModel",
          "model_module_version": "1.2.0",
          "state": {
            "_model_module": "@jupyter-widgets/base",
            "_model_module_version": "1.2.0",
            "_model_name": "LayoutModel",
            "_view_count": null,
            "_view_module": "@jupyter-widgets/base",
            "_view_module_version": "1.2.0",
            "_view_name": "LayoutView",
            "align_content": null,
            "align_items": null,
            "align_self": null,
            "border": null,
            "bottom": null,
            "display": null,
            "flex": null,
            "flex_flow": null,
            "grid_area": null,
            "grid_auto_columns": null,
            "grid_auto_flow": null,
            "grid_auto_rows": null,
            "grid_column": null,
            "grid_gap": null,
            "grid_row": null,
            "grid_template_areas": null,
            "grid_template_columns": null,
            "grid_template_rows": null,
            "height": null,
            "justify_content": null,
            "justify_items": null,
            "left": null,
            "margin": null,
            "max_height": null,
            "max_width": null,
            "min_height": null,
            "min_width": null,
            "object_fit": null,
            "object_position": null,
            "order": null,
            "overflow": null,
            "overflow_x": null,
            "overflow_y": null,
            "padding": null,
            "right": null,
            "top": null,
            "visibility": null,
            "width": null
          }
        },
        "522dddd420704fb1b7bf9acf8d3365ab": {
          "model_module": "@jupyter-widgets/controls",
          "model_name": "ProgressStyleModel",
          "model_module_version": "1.5.0",
          "state": {
            "_model_module": "@jupyter-widgets/controls",
            "_model_module_version": "1.5.0",
            "_model_name": "ProgressStyleModel",
            "_view_count": null,
            "_view_module": "@jupyter-widgets/base",
            "_view_module_version": "1.2.0",
            "_view_name": "StyleView",
            "bar_color": null,
            "description_width": ""
          }
        },
        "7a98b8cd04164f15aed90f74e16b5f2b": {
          "model_module": "@jupyter-widgets/base",
          "model_name": "LayoutModel",
          "model_module_version": "1.2.0",
          "state": {
            "_model_module": "@jupyter-widgets/base",
            "_model_module_version": "1.2.0",
            "_model_name": "LayoutModel",
            "_view_count": null,
            "_view_module": "@jupyter-widgets/base",
            "_view_module_version": "1.2.0",
            "_view_name": "LayoutView",
            "align_content": null,
            "align_items": null,
            "align_self": null,
            "border": null,
            "bottom": null,
            "display": null,
            "flex": null,
            "flex_flow": null,
            "grid_area": null,
            "grid_auto_columns": null,
            "grid_auto_flow": null,
            "grid_auto_rows": null,
            "grid_column": null,
            "grid_gap": null,
            "grid_row": null,
            "grid_template_areas": null,
            "grid_template_columns": null,
            "grid_template_rows": null,
            "height": null,
            "justify_content": null,
            "justify_items": null,
            "left": null,
            "margin": null,
            "max_height": null,
            "max_width": null,
            "min_height": null,
            "min_width": null,
            "object_fit": null,
            "object_position": null,
            "order": null,
            "overflow": null,
            "overflow_x": null,
            "overflow_y": null,
            "padding": null,
            "right": null,
            "top": null,
            "visibility": null,
            "width": null
          }
        },
        "61a0a153556a4a8f800946588b64cae6": {
          "model_module": "@jupyter-widgets/controls",
          "model_name": "DescriptionStyleModel",
          "model_module_version": "1.5.0",
          "state": {
            "_model_module": "@jupyter-widgets/controls",
            "_model_module_version": "1.5.0",
            "_model_name": "DescriptionStyleModel",
            "_view_count": null,
            "_view_module": "@jupyter-widgets/base",
            "_view_module_version": "1.2.0",
            "_view_name": "StyleView",
            "description_width": ""
          }
        }
      }
    }
  },
  "cells": [
    {
      "cell_type": "code",
      "execution_count": null,
      "metadata": {
        "id": "rga015Q0pWrx"
      },
      "outputs": [],
      "source": []
    },
    {
      "cell_type": "markdown",
      "source": [
        "This chapter will begin with an end-to-end example where we use a model and a tokenizer together to replicate the pipeline() function introduced in Chapter 1. Next, we’ll discuss the model API: we’ll dive into the model and configuration classes, and show you how to load a model and how it processes numerical inputs to output predictions.![Screenshot 2024-05-10 at 6.52.19 PM.png](data:image/png;base64,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)"
      ],
      "metadata": {
        "id": "8NEUn9F9pbe_"
      }
    },
    {
      "cell_type": "markdown",
      "source": [
        "Then we’ll look at the tokenizer API, which is the other main component of the pipeline() function. Tokenizers take care of the first and last processing steps, handling the conversion from text to numerical inputs for the neural network, and the conversion back to text when it is needed. Finally, we’ll show you how to handle sending multiple sentences through a model in a prepared batch, then wrap it all up with a closer look at the high-level tokenizer() function."
      ],
      "metadata": {
        "id": "T2TQOXsgsDv6"
      }
    },
    {
      "cell_type": "code",
      "source": [
        "from transformers import pipeline\n",
        "classifier=pipeline(\"sentiment-analysis\")\n",
        "classifier(\n",
        "    [\n",
        "        \"I've been waiting for a HuggingFace course my whole life.\",\n",
        "        \"I hate this so much!\",\n",
        "    ]\n",
        ")"
      ],
      "metadata": {
        "colab": {
          "base_uri": "https://localhost:8080/",
          "height": 344,
          "referenced_widgets": [
            "4da4383d6d0b481798c497dcdd7fb707",
            "cdf3b371fcf44f5f8f7cf3073a56efce",
            "72066acca9b64f3f9e5e5ff53736b6d5",
            "7a17d03a6ab14d638dfdfa68b35687bf",
            "7488fa7f78f74e0bad3f0fc2bee76629",
            "97b2724883e8482b91f4b9dea96621b6",
            "6a56a499fab84af1bb9072f77e6443f5",
            "13ad5fc7af914bc3807dab84b5039a1e",
            "93d12c6e5e2d4203883b9a0862c6459e",
            "f162577a6efe4972900ee6afb7652120",
            "225070bf15a54682a7d0c1acf9d71f22",
            "3963e43295bb48efa27e566cd3f4efd7",
            "9b3af55961714ff5b5b811eafb4205e3",
            "032c91e4c7dc4c8e9b6a2396c51947e8",
            "dabdbce121a04c2199cc09ac2719585c",
            "e35ae53caaae442b8d474f150edc1b6f",
            "424a50f45ff04c6f99f7cda4c514b018",
            "28e4ebd741554ea8ae2b068a376649d8",
            "2c7351f7642b4bb5bdaae6f53fa45bba",
            "e319c8c24adf4adc81bef10da6b6af34",
            "1c434c9337104b1881c841b5709b81ea",
            "a20b67f94eef42d5804193625bf29b3c",
            "c6fb0ce10e5749fd80190dcd1af559da",
            "c670551407c74bcba1bd990dab285447",
            "2248d3e638324de583de4e943dd344cd",
            "b9f48a37dbe849aca10837121ed3bad2",
            "ba879b085b1d48eb8ce071e9e13d2f0d",
            "fe7cee6489e9488aa3f4e75b6470e6a3",
            "0999c2d143374f399f7f51c7ea79ebdc",
            "325890ee640c491293f46ea0c5dc40b4",
            "b593fc4643ff4e0bbfd19cb5a3362511",
            "fe89500f9b9e4670b2aed09a39ce2d46",
            "e12bb80479894e4186394055d03e6b69",
            "33e7990f5f9a4382bfb85b831b0630bb",
            "3385886199234adab7241c5cb63a982f",
            "36623e39ed2d4dd0a60577e2875ff9f8",
            "ca2dac33158246d3b8586561a1a74e8e",
            "d215a1a3fe024144a2f79e1c049b560d",
            "72db41422575496497d729220f571969",
            "de83329e02e54d9584311e69aea76a15",
            "b88fdfceea5742049d7507989351c456",
            "d92f2dcbd0c14aa784618f97abe90c87",
            "323ffcc8ba784642967931d73ddd5df6",
            "bd5496c674bf4926b7d0f7cb476a7869"
          ]
        },
        "id": "pdesj2BBr2cP",
        "outputId": "99bef4d3-2812-47cf-d3cc-e5725c50e77a"
      },
      "execution_count": null,
      "outputs": [
        {
          "output_type": "stream",
          "name": "stderr",
          "text": [
            "No model was supplied, defaulted to distilbert/distilbert-base-uncased-finetuned-sst-2-english and revision af0f99b (https://huggingface.co/distilbert/distilbert-base-uncased-finetuned-sst-2-english).\n",
            "Using a pipeline without specifying a model name and revision in production is not recommended.\n",
            "/usr/local/lib/python3.10/dist-packages/huggingface_hub/utils/_token.py:88: UserWarning: \n",
            "The secret `HF_TOKEN` does not exist in your Colab secrets.\n",
            "To authenticate with the Hugging Face Hub, create a token in your settings tab (https://huggingface.co/settings/tokens), set it as secret in your Google Colab and restart your session.\n",
            "You will be able to reuse this secret in all of your notebooks.\n",
            "Please note that authentication is recommended but still optional to access public models or datasets.\n",
            "  warnings.warn(\n"
          ]
        },
        {
          "output_type": "display_data",
          "data": {
            "text/plain": [
              "config.json:   0%|          | 0.00/629 [00:00<?, ?B/s]"
            ],
            "application/vnd.jupyter.widget-view+json": {
              "version_major": 2,
              "version_minor": 0,
              "model_id": "4da4383d6d0b481798c497dcdd7fb707"
            }
          },
          "metadata": {}
        },
        {
          "output_type": "display_data",
          "data": {
            "text/plain": [
              "model.safetensors:   0%|          | 0.00/268M [00:00<?, ?B/s]"
            ],
            "application/vnd.jupyter.widget-view+json": {
              "version_major": 2,
              "version_minor": 0,
              "model_id": "3963e43295bb48efa27e566cd3f4efd7"
            }
          },
          "metadata": {}
        },
        {
          "output_type": "display_data",
          "data": {
            "text/plain": [
              "tokenizer_config.json:   0%|          | 0.00/48.0 [00:00<?, ?B/s]"
            ],
            "application/vnd.jupyter.widget-view+json": {
              "version_major": 2,
              "version_minor": 0,
              "model_id": "c6fb0ce10e5749fd80190dcd1af559da"
            }
          },
          "metadata": {}
        },
        {
          "output_type": "display_data",
          "data": {
            "text/plain": [
              "vocab.txt:   0%|          | 0.00/232k [00:00<?, ?B/s]"
            ],
            "application/vnd.jupyter.widget-view+json": {
              "version_major": 2,
              "version_minor": 0,
              "model_id": "33e7990f5f9a4382bfb85b831b0630bb"
            }
          },
          "metadata": {}
        },
        {
          "output_type": "execute_result",
          "data": {
            "text/plain": [
              "[{'label': 'POSITIVE', 'score': 0.9598048329353333},\n",
              " {'label': 'NEGATIVE', 'score': 0.9994558691978455}]"
            ]
          },
          "metadata": {},
          "execution_count": 1
        }
      ]
    },
    {
      "cell_type": "markdown",
      "source": [
        "this pipeline groups together three steps: preprocessing, passing the inputs through the model, and postprocessing:\n",
        "\n"
      ],
      "metadata": {
        "id": "kowaxkWRtDgm"
      }
    },
    {
      "cell_type": "markdown",
      "source": [
        "![Screenshot 2024-05-10 at 6.52.19 PM.png](data:image/png;base64,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)"
      ],
      "metadata": {
        "id": "LerOYSVjJQik"
      }
    },
    {
      "cell_type": "markdown",
      "source": [
        "for preprocessing the data (to fed the data to model) we use tokenizer .Tokenizer coverts the words into tensors so the model can understand them.\n",
        "\n",
        "Tokenizers basically preprocess the data so that the model can understand"
      ],
      "metadata": {
        "id": "1fP2m0eEuIYl"
      }
    },
    {
      "cell_type": "markdown",
      "source": [
        "Preprocessing with a tokenizer\n",
        "===============================\n",
        "Like other neural networks, Transformer models can’t process raw text directly, so the first step of our pipeline is to convert the text inputs into numbers that the model can make sense of. To do this we use a tokenizer, which will be responsible for:\n",
        "\n",
        "Splitting the input into words, subwords, or symbols (like punctuation) that are called tokens\n",
        "\n",
        "Mapping each token to an integer\n",
        "\n",
        "Adding additional inputs that may be useful to the model\n",
        "\n",
        "we need to preprocess the data according the model we use to do this we use AutoTokenizer class and its from_pretrained() method. using the name of model it will automatically fetch the model tokenizer"
      ],
      "metadata": {
        "id": "bFfPsyh-H7Ec"
      }
    },
    {
      "cell_type": "markdown",
      "source": [],
      "metadata": {
        "id": "5Fx5gL6_H25Y"
      }
    },
    {
      "cell_type": "code",
      "source": [
        "from transformers import AutoTokenizer\n",
        "\n",
        "modelname=\"distilbert-base-uncased-finetuned-sst-2-english\"\n",
        "tokenizer=AutoTokenizer.from_pretrained(modelname)"
      ],
      "metadata": {
        "colab": {
          "base_uri": "https://localhost:8080/",
          "height": 81,
          "referenced_widgets": [
            "ac2154453fdf4e149fac0df3200c7cad",
            "13da03a025b74de0908aa7a59c0985e6",
            "504c63acd1624e4b9ee2fb1a95965b1f",
            "8a981fed5c45455d88e1931964ac6300",
            "44c12281ce4e4fbc9840389616c31ea3",
            "41a0e9f40ea1481c93344173c30e9d40",
            "a28d24b905ff47a7a123354e0cbc14e7",
            "8d2998b7f96d4f9297a9052a3448d84d",
            "2e9de259855a4a1ea18a1952e4be7f13",
            "b908c1f93a3141ba911130c1c82d6697",
            "d3d8ee3b0e1846cfb9617279e788e502",
            "b0e0e4c64d05428e9a6c39c8c571b907",
            "854bde875316468bb4509a5dbc0d87fb",
            "a4f34e788b22483fade746af7fd826e5",
            "b6da285ee911436cacfec0c37b294dfa",
            "b1f1c4de853345ccbc6713bb9cbf9840",
            "df0debe7f19b406d9da706892787fa1a",
            "390b9f17b5cc496a80fb19a70f16a9e3",
            "dfefda12e73d4fa8b0528c4f56759891",
            "80d92f01a3544ff5b4eccdbd06e81761",
            "699eae810c3247b39efe1cead0e69852",
            "d38976a6a7524d4a93d1569c3183c102"
          ]
        },
        "id": "AVVE--_Ntu7P",
        "outputId": "af6e08ba-3bcd-4a73-b1f0-ce7165c630b5"
      },
      "execution_count": null,
      "outputs": [
        {
          "output_type": "display_data",
          "data": {
            "text/plain": [
              "tokenizer_config.json:   0%|          | 0.00/48.0 [00:00<?, ?B/s]"
            ],
            "application/vnd.jupyter.widget-view+json": {
              "version_major": 2,
              "version_minor": 0,
              "model_id": "ac2154453fdf4e149fac0df3200c7cad"
            }
          },
          "metadata": {}
        },
        {
          "output_type": "display_data",
          "data": {
            "text/plain": [
              "vocab.txt:   0%|          | 0.00/232k [00:00<?, ?B/s]"
            ],
            "application/vnd.jupyter.widget-view+json": {
              "version_major": 2,
              "version_minor": 0,
              "model_id": "b0e0e4c64d05428e9a6c39c8c571b907"
            }
          },
          "metadata": {}
        }
      ]
    },
    {
      "cell_type": "markdown",
      "source": [
        "once we have the tokenizer we can give the input and tokenizer will generate a dictionary(tensors) we can feed to our model."
      ],
      "metadata": {
        "id": "-VXlK0bUvtzW"
      }
    },
    {
      "cell_type": "code",
      "source": [
        "raw_inputs = [\n",
        "    \"I've been waiting for a HuggingFace course my whole life.\",\n",
        "    \"I hate this so much!\",\n",
        "]\n",
        "\n",
        "inputs=tokenizer(raw_inputs,padding=True, truncation=True, return_tensors=\"pt\")\n",
        "print(inputs)"
      ],
      "metadata": {
        "colab": {
          "base_uri": "https://localhost:8080/"
        },
        "id": "IdCYT_2Yvn4F",
        "outputId": "52041c28-8dcc-4665-a953-0d2cf3387396"
      },
      "execution_count": null,
      "outputs": [
        {
          "output_type": "stream",
          "name": "stdout",
          "text": [
            "{'input_ids': tensor([[  101,  1045,  1005,  2310,  2042,  3403,  2005,  1037, 17662, 12172,\n",
            "          2607,  2026,  2878,  2166,  1012,   102],\n",
            "        [  101,  1045,  5223,  2023,  2061,  2172,   999,   102,     0,     0,\n",
            "             0,     0,     0,     0,     0,     0]]), 'attention_mask': tensor([[1, 1, 1, 1, 1, 1, 1, 1, 1, 1, 1, 1, 1, 1, 1, 1],\n",
            "        [1, 1, 1, 1, 1, 1, 1, 1, 0, 0, 0, 0, 0, 0, 0, 0]])}\n"
          ]
        }
      ]
    },
    {
      "cell_type": "markdown",
      "source": [
        "\n",
        "Downloading and Going through the model:\n",
        "========================================\n",
        "We can download our pretrained model the same way we did with our tokenizer. 🤗 Transformers provides an AutoModel class which also has a from_pretrained() method:\n",
        "\n",
        "\n"
      ],
      "metadata": {
        "id": "m02j86Ipwzgv"
      }
    },
    {
      "cell_type": "code",
      "source": [
        "from transformers import AutoModel\n",
        "modelname=\"distilbert-base-uncased-finetuned-sst-2-english\"\n",
        "model=AutoModel.from_pretrained(modelname)"
      ],
      "metadata": {
        "id": "2S19AApuwMcN"
      },
      "execution_count": null,
      "outputs": []
    },
    {
      "cell_type": "code",
      "source": [
        "outputs = model(**inputs)\n",
        "print(outputs.last_hidden_state.shape)"
      ],
      "metadata": {
        "id": "jVyvuYixxSJM",
        "colab": {
          "base_uri": "https://localhost:8080/"
        },
        "outputId": "05303457-6d9f-4c13-f97e-cea1de38f9d8"
      },
      "execution_count": null,
      "outputs": [
        {
          "output_type": "stream",
          "name": "stdout",
          "text": [
            "torch.Size([2, 16, 768])\n"
          ]
        }
      ]
    },
    {
      "cell_type": "markdown",
      "source": [
        "Model heads: Making sense out of numbers\n",
        "=========================================\n"
      ],
      "metadata": {
        "id": "u8UMlZ8DGnM4"
      }
    },
    {
      "cell_type": "markdown",
      "source": [
        "The model heads take the high-dimensional vector of hidden states as input and project them onto a different dimension.\n",
        "\n",
        "The output of the Transformer model(in the image Embeddings,layers and hidden states) is sent directly to the model head to be processed"
      ],
      "metadata": {
        "id": "JSOyQ3zEKWj3"
      }
    },
    {
      "cell_type": "markdown",
      "source": [
        "![Screenshot 2024-05-12 at 7.21.31 PM.png](data:image/png;base64,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)\n",
        "\n"
      ],
      "metadata": {
        "id": "gQ55vwaLujl6"
      }
    },
    {
      "cell_type": "markdown",
      "source": [
        "In this diagram, the model is represented by its embeddings layer and the subsequent layers. The embeddings layer converts each input ID in the tokenized input into a vector that represents the associated token. The subsequent layers manipulate those vectors using the attention mechanism to produce the final representation of the sentences.\n",
        "\n",
        "There are many different architectures available in 🤗 Transformers, with each one designed around tackling a specific task. Here is a non-exhaustive list:\n",
        "\n",
        "*Model (retrieve the hidden states)\n",
        "\n",
        "*ForCausalLM\n",
        "\n",
        "*ForMaskedLM\n",
        "\n",
        "*ForMultipleChoice\n",
        "\n",
        "*ForQuestionAnswering\n",
        "\n",
        "*ForSequenceClassification\n",
        "\n",
        "*ForTokenClassification\n",
        "\n",
        "and others 🤗"
      ],
      "metadata": {
        "id": "9VzO7WxKKvns"
      }
    },
    {
      "cell_type": "markdown",
      "source": [
        "** For our example, we will need a model with a sequence classification head (to be able to classify the sentences as positive or negative). So, we won’t actually use the AutoModel class, but AutoModelForSequenceClassification**"
      ],
      "metadata": {
        "id": "fghcui2TLM3P"
      }
    },
    {
      "cell_type": "code",
      "source": [
        "from transformers import AutoModelForSequenceClassification\n",
        "checkpoint = \"distilbert-base-uncased-finetuned-sst-2-english\"\n",
        "model = AutoModelForSequenceClassification.from_pretrained(checkpoint)\n",
        "outputs = model(**inputs)"
      ],
      "metadata": {
        "id": "pU_aK-MWHfsQ"
      },
      "execution_count": null,
      "outputs": []
    },
    {
      "cell_type": "code",
      "source": [
        "print(outputs.logits.shape)"
      ],
      "metadata": {
        "colab": {
          "base_uri": "https://localhost:8080/"
        },
        "id": "3wNZScnoLoE4",
        "outputId": "cb78d2b4-fba2-4c38-e137-0ace2d393719"
      },
      "execution_count": null,
      "outputs": [
        {
          "output_type": "stream",
          "name": "stdout",
          "text": [
            "torch.Size([2, 2])\n"
          ]
        }
      ]
    },
    {
      "cell_type": "markdown",
      "source": [
        "Postprocessing the output:\n",
        "=========================="
      ],
      "metadata": {
        "id": "2OA2vVohMLKZ"
      }
    },
    {
      "cell_type": "code",
      "source": [
        "print(outputs.logits)"
      ],
      "metadata": {
        "colab": {
          "base_uri": "https://localhost:8080/"
        },
        "id": "oJPsWTiuMKGL",
        "outputId": "e9c6d913-ed43-4894-c59e-228c9d784099"
      },
      "execution_count": null,
      "outputs": [
        {
          "output_type": "stream",
          "name": "stdout",
          "text": [
            "tensor([[-1.5607,  1.6123],\n",
            "        [ 4.1692, -3.3464]], grad_fn=<AddmmBackward0>)\n"
          ]
        }
      ]
    },
    {
      "cell_type": "markdown",
      "source": [
        "Our model predicted [-1.5607, 1.6123] for the first sentence and [ 4.1692, -3.3464] for the second one. Those are not probabilities but logits, the raw, unnormalized scores outputted by the last layer of the model. To be converted to probabilities, they need to go through a SoftMax layer"
      ],
      "metadata": {
        "id": "YyKLTXXQMU0X"
      }
    },
    {
      "cell_type": "code",
      "source": [
        "import torch\n",
        "\n",
        "predictions = torch.nn.functional.softmax(outputs.logits, dim=-1)\n",
        "print(predictions)"
      ],
      "metadata": {
        "colab": {
          "base_uri": "https://localhost:8080/"
        },
        "id": "Q-5vC0ivMD81",
        "outputId": "8fd551e5-984e-419c-e7f9-9729c29b1048"
      },
      "execution_count": null,
      "outputs": [
        {
          "output_type": "stream",
          "name": "stdout",
          "text": [
            "tensor([[4.0195e-02, 9.5980e-01],\n",
            "        [9.9946e-01, 5.4418e-04]], grad_fn=<SoftmaxBackward0>)\n"
          ]
        }
      ]
    },
    {
      "cell_type": "markdown",
      "source": [
        "To get the labels corresponding to each position, we can inspect the id2label attribute of the model config (more on this in the next section):\n",
        "\n",
        "Copied\n"
      ],
      "metadata": {
        "id": "_Z5ajlI7Mf7l"
      }
    },
    {
      "cell_type": "code",
      "source": [
        "model.config.id2label"
      ],
      "metadata": {
        "colab": {
          "base_uri": "https://localhost:8080/"
        },
        "id": "IrrpXvaVMfKx",
        "outputId": "77f35063-ea4b-4a4d-b51e-5b4e4a4c7308"
      },
      "execution_count": null,
      "outputs": [
        {
          "output_type": "execute_result",
          "data": {
            "text/plain": [
              "{0: 'NEGATIVE', 1: 'POSITIVE'}"
            ]
          },
          "metadata": {},
          "execution_count": 12
        }
      ]
    },
    {
      "cell_type": "markdown",
      "source": [
        "Models:\n",
        "========\n",
        "In this section we’ll take a closer look at creating and using a model. We’ll use the AutoModel class, which is handy when you want to instantiate any model from a checkpoint.\n",
        "\n",
        "The AutoModel class and all of its relatives are actually simple wrappers over the wide variety of models available in the library. It’s a clever wrapper as it can automatically guess the appropriate model architecture for your checkpoint, and then instantiates a model with this architecture.\n",
        "\n",
        "However, if you know the type of model you want to use, you can use the class that defines its architecture directly. Let’s take a look at how this works with a BERT model."
      ],
      "metadata": {
        "id": "gH-XhRqgNb4S"
      }
    },
    {
      "cell_type": "markdown",
      "source": [
        "Creating a Transformer:\n",
        "======================="
      ],
      "metadata": {
        "id": "TATVIIMmRFQ5"
      }
    },
    {
      "cell_type": "code",
      "source": [
        "from transformers import BertModel,BertConfig\n",
        "#building the config\n",
        "config=BertConfig()\n",
        "#Building the model from config\n",
        "model=BertModel(config)"
      ],
      "metadata": {
        "id": "JXWGUrrZMap6"
      },
      "execution_count": null,
      "outputs": []
    },
    {
      "cell_type": "markdown",
      "source": [
        "The configuration contains many attributes that are used to build the model:"
      ],
      "metadata": {
        "id": "mc1T6mcrOUPr"
      }
    },
    {
      "cell_type": "code",
      "source": [
        "print(config)"
      ],
      "metadata": {
        "colab": {
          "base_uri": "https://localhost:8080/"
        },
        "id": "Rb2E0cwtONcH",
        "outputId": "582a95fb-e086-4c22-bc6b-37c577d73451"
      },
      "execution_count": null,
      "outputs": [
        {
          "output_type": "stream",
          "name": "stdout",
          "text": [
            "BertConfig {\n",
            "  \"attention_probs_dropout_prob\": 0.1,\n",
            "  \"classifier_dropout\": null,\n",
            "  \"hidden_act\": \"gelu\",\n",
            "  \"hidden_dropout_prob\": 0.1,\n",
            "  \"hidden_size\": 768,\n",
            "  \"initializer_range\": 0.02,\n",
            "  \"intermediate_size\": 3072,\n",
            "  \"layer_norm_eps\": 1e-12,\n",
            "  \"max_position_embeddings\": 512,\n",
            "  \"model_type\": \"bert\",\n",
            "  \"num_attention_heads\": 12,\n",
            "  \"num_hidden_layers\": 12,\n",
            "  \"pad_token_id\": 0,\n",
            "  \"position_embedding_type\": \"absolute\",\n",
            "  \"transformers_version\": \"4.40.2\",\n",
            "  \"type_vocab_size\": 2,\n",
            "  \"use_cache\": true,\n",
            "  \"vocab_size\": 30522\n",
            "}\n",
            "\n"
          ]
        }
      ]
    },
    {
      "cell_type": "markdown",
      "source": [
        "While we haven’t seen what all of these attributes do yet, you should recognize some of them: the hidden_size attribute defines the size of the hidden_states vector, and num_hidden_layers defines the number of layers the Transformer model has."
      ],
      "metadata": {
        "id": "r4d_bU2CRPsU"
      }
    },
    {
      "cell_type": "markdown",
      "source": [
        "Different loading methods:\n",
        "========================="
      ],
      "metadata": {
        "id": "k4HYjW7aTd6L"
      }
    },
    {
      "cell_type": "code",
      "source": [
        "from transformers import BertConfig, BertModel\n",
        "\n",
        "config = BertConfig()\n",
        "model = BertModel(config)"
      ],
      "metadata": {
        "id": "UY-pLiJfTjRY"
      },
      "execution_count": null,
      "outputs": []
    },
    {
      "cell_type": "markdown",
      "source": [
        "The model can be used in this state, but it will output gibberish; it needs to be trained first. We could train the model from scratch on the task at hand, but as you saw in Chapter 1, this would require a long time and a lot of data, and it would have a non-negligible environmental impact. To avoid unnecessary and duplicated effort, it’s imperative to be able to share and reuse models that have already been trained.\n",
        "\n",
        "Loading a Transformer model that is already trained is simple — we can do this using the from_pretrained() method:"
      ],
      "metadata": {
        "id": "eXiKdQhbTrVO"
      }
    },
    {
      "cell_type": "code",
      "source": [
        "from transformers import BertModel\n",
        "model=BertModel.from_pretrained(\"bert-base-cased\")\n"
      ],
      "metadata": {
        "colab": {
          "base_uri": "https://localhost:8080/",
          "height": 81,
          "referenced_widgets": [
            "9beaf1b4a2f948ee97ac52f1d2e59aff",
            "5d4fd4be94474c689e099db05b415391",
            "82493b3b017f4e96a91994a2746321aa",
            "e0c0dcddb558406a85b14cd3c47f36d9",
            "8d45b5248bc746c6ad5d7a1cb8b28bec",
            "e35e2700bb5c458c95f411dc89d57da7",
            "9a306ed3fbe3441fbc6e8148d5b992a0",
            "431991e6c4d240dcb844a1294d385bad",
            "5e65710390d047138a7ab528229b60f7",
            "7cfd73d6ab1249c3a03f7e3e1a614f30",
            "891a78229dad457ea35845786b5d857c",
            "400f3cea732a40c7bd36ecb50326c80f",
            "cba1ba72f0a74cd6bc94cd3e433e65f8",
            "586589e4b82b42a79b9da0fb6be476d1",
            "759e015ae5ac4777a8c98c590182f42c",
            "73f5d22428bb46e0950cafb6ecffc965",
            "991be2f02843403e9f5687677b024585",
            "8d83b696bc8644ca94bcce0375cc75b7",
            "86babc1dceb540ee9611953c626779b4",
            "e0cfa833ddf64a43ab0e6d219ebf9989",
            "f5915985e32d45139c93c1dcba0a0178",
            "dee2d3069c504324811ed27131a7c68c"
          ]
        },
        "id": "gy6SPsGoTkDZ",
        "outputId": "3431196b-291b-4aac-99aa-07e8dde3ee9c"
      },
      "execution_count": null,
      "outputs": [
        {
          "output_type": "display_data",
          "data": {
            "text/plain": [
              "config.json:   0%|          | 0.00/570 [00:00<?, ?B/s]"
            ],
            "application/vnd.jupyter.widget-view+json": {
              "version_major": 2,
              "version_minor": 0,
              "model_id": "9beaf1b4a2f948ee97ac52f1d2e59aff"
            }
          },
          "metadata": {}
        },
        {
          "output_type": "display_data",
          "data": {
            "text/plain": [
              "model.safetensors:   0%|          | 0.00/436M [00:00<?, ?B/s]"
            ],
            "application/vnd.jupyter.widget-view+json": {
              "version_major": 2,
              "version_minor": 0,
              "model_id": "400f3cea732a40c7bd36ecb50326c80f"
            }
          },
          "metadata": {}
        }
      ]
    },
    {
      "cell_type": "markdown",
      "source": [
        "As you saw earlier, we could replace BertModel with the equivalent AutoModel class. We’ll do this from now on as this produces checkpoint-agnostic code; if your code works for one checkpoint, it should work seamlessly with another. This applies even if the architecture is different, as long as the checkpoint was trained for a similar task.\n",
        "\n",
        "In the code sample above we didn’t use BertConfig, and instead loaded a pretrained model via the bert-base-cased identifier. This is a model checkpoint that was trained by the authors of BERT themselves; you can find more details about it in its model card.\n",
        "\n",
        "This model is now initialized with all the weights of the checkpoint. It can be used directly for inference on the tasks it was trained on, and it can also be fine-tuned on a new task. By training with pretrained weights rather than from scratch, we can quickly achieve good results.\n",
        "\n"
      ],
      "metadata": {
        "id": "UCkBPZbwUDgc"
      }
    },
    {
      "cell_type": "markdown",
      "source": [
        "Saving methods(for model):\n",
        "===========================\n",
        "Saving a model is as easy as loading one — we use the save_pretrained() method, which is analogous to the from_pretrained() method:"
      ],
      "metadata": {
        "id": "W7PpQ8nxU31N"
      }
    },
    {
      "cell_type": "code",
      "source": [
        "model.save_pretrained(\"directory_on_my_computer\")"
      ],
      "metadata": {
        "id": "mgzhmESOUBqf"
      },
      "execution_count": null,
      "outputs": []
    },
    {
      "cell_type": "markdown",
      "source": [
        "Using a Transformer model for inference:\n",
        "==========================================\n",
        "\n",
        "Now that you know how to load and save a model, let’s try using it to make some predictions. Transformer models can only process numbers — numbers that the tokenizer generates. But before we discuss tokenizers, let’s explore what inputs the model accepts.\n",
        "\n",
        "Tokenizers can take care of casting the inputs to the appropriate framework’s tensors, but to help you understand what’s going on, we’ll take a quick look at what must be done before sending the inputs to the model.\n",
        "\n",
        "Let’s say we have a couple of sequences:"
      ],
      "metadata": {
        "id": "LJo9kdD6VV7T"
      }
    },
    {
      "cell_type": "code",
      "source": [
        "sequences = [\"Hello!\", \"Cool.\", \"Nice!\"]"
      ],
      "metadata": {
        "id": "jSKw-_kRVBZy"
      },
      "execution_count": null,
      "outputs": []
    },
    {
      "cell_type": "markdown",
      "source": [
        "The tokenizer converts these to vocabulary indices which are typically called input IDs. Each sequence is now a list of numbers! The resulting output is:"
      ],
      "metadata": {
        "id": "e_5TQwXyWTTx"
      }
    },
    {
      "cell_type": "code",
      "source": [
        "encoded_sequences = [\n",
        "    [101, 7592, 999, 102],\n",
        "    [101, 4658, 1012, 102],\n",
        "    [101, 3835, 999, 102],\n",
        "]"
      ],
      "metadata": {
        "id": "zbuSeMarWQHo"
      },
      "execution_count": null,
      "outputs": []
    },
    {
      "cell_type": "markdown",
      "source": [
        "This is a list of encoded sequences: a list of lists. Tensors only accept rectangular shapes (think matrices). This “array” is already of rectangular shape, so converting it to a tensor is easy:\n",
        "\n"
      ],
      "metadata": {
        "id": "UCyGKR3TWbFf"
      }
    },
    {
      "cell_type": "code",
      "source": [
        "import torch\n",
        "\n",
        "model_inputs = torch.tensor(encoded_sequences)"
      ],
      "metadata": {
        "id": "PVB3BRelWVyw"
      },
      "execution_count": null,
      "outputs": []
    },
    {
      "cell_type": "markdown",
      "source": [
        "Using the tensors as inputs to the model:\n",
        "==========================================\n",
        "Making use of the tensors with the model is extremely simple — we just call the model with the inputs:"
      ],
      "metadata": {
        "id": "FuAqPcjIWlsb"
      }
    },
    {
      "cell_type": "code",
      "source": [
        "output = model(model_inputs)"
      ],
      "metadata": {
        "id": "Q1eTDba6Wg1E"
      },
      "execution_count": null,
      "outputs": []
    },
    {
      "cell_type": "markdown",
      "source": [
        "While the model accepts a lot of different arguments, only the input IDs are necessary. We’ll explain what the other arguments do and when they are required later, but first we need to take a closer look at the tokenizers that build the inputs that a Transformer model can understand"
      ],
      "metadata": {
        "id": "oW0uRJzrWwY-"
      }
    },
    {
      "cell_type": "markdown",
      "source": [
        "Tokenizers:\n",
        "============\n",
        "\n",
        "Tokenizers are one of the core components of the NLP pipeline. They serve one purpose: to translate text into data that can be processed by the model. Models can only process numbers, so tokenizers need to convert our text inputs to numerical data. In this section, we’ll explore exactly what happens in the tokenization pipeline.\n",
        "\n",
        "There are lot of methods but we use subword tokenization for Tokenization !"
      ],
      "metadata": {
        "id": "gfZSM4vjXirc"
      }
    },
    {
      "cell_type": "markdown",
      "source": [
        "Subword tokenization algorithms rely on the principle that frequently used words should not be split into smaller subwords, but rare words should be decomposed into meaningful subwords."
      ],
      "metadata": {
        "id": "JWBCnClgZXPR"
      }
    },
    {
      "cell_type": "markdown",
      "source": [
        "For instance, “annoyingly” might be considered a rare word and could be decomposed into “annoying” and “ly”. These are both likely to appear more frequently as standalone subwords, while at the same time the meaning of “annoyingly” is kept by the composite meaning of “annoying” and “ly”.\n",
        "\n",
        "Here is an example showing how a subword tokenization algorithm would tokenize the sequence “Let’s do tokenization!“:\n",
        "\n",
        "\n",
        "\n",
        "\n"
      ],
      "metadata": {
        "id": "9IlIAKMcZc67"
      }
    },
    {
      "cell_type": "markdown",
      "source": [
        " **Unsurprisingly, there are many more techniques out there. To name a few:**\n",
        "\n",
        "**Byte-level BPE, as used in GPT-2**\n",
        "\n",
        "**WordPiece, as used in BERT**\n",
        "\n",
        "**SentencePiece or Unigram, as used in several multilingual models**\n",
        "\n",
        "**You should now have sufficient knowledge of how tokenizers work to get started with the API**"
      ],
      "metadata": {
        "id": "9xJ_2JjyajmH"
      }
    },
    {
      "cell_type": "markdown",
      "source": [
        "Loading and saving(tokenizer):\n",
        "==============================\n",
        "Loading and saving tokenizers is as simple as it is with models. Actually, it’s based on the same two methods: **from_pretrained() and save_pretrained()**. These methods will load or save the algorithm used by the tokenizer"
      ],
      "metadata": {
        "id": "8x3uyx_jbRFY"
      }
    },
    {
      "cell_type": "markdown",
      "source": [
        "Loading the BERT tokenizer trained with the same checkpoint as BERT is done the same way as loading the model, except we use the BertTokenizer class:"
      ],
      "metadata": {
        "id": "1HiOAMgUbhGG"
      }
    },
    {
      "cell_type": "code",
      "source": [
        "from transformers import BertTokenizer\n",
        "\n",
        "tokenizer = BertTokenizer.from_pretrained(\"bert-base-cased\")"
      ],
      "metadata": {
        "colab": {
          "base_uri": "https://localhost:8080/",
          "height": 113,
          "referenced_widgets": [
            "7d140feb1a574f87af6e482ddb0aeef3",
            "0f6570ffebff4b809003fc165d81e415",
            "08c9de11e8b845c8897bc45873bbe32d",
            "88f3010c9d18458db2867251608ea400",
            "6ab90169f8a045a98d99caa4c7737ae7",
            "6d702b1830a44e46a11825a477db6350",
            "7ade8c02a1834b3bb9d6d1551caa9f5e",
            "2cfb61201b064498b1ed4c4309080dfe",
            "d5dace7cb2fa4be8990e1ba7c776244f",
            "42b5ce0883964b31a782eb699671c7ec",
            "aca37633538d4c4782fb0831eeba53d5",
            "c2e0117cf15e49628fde5a6e468e4b69",
            "b833f46060e74a07a40fa96160af3732",
            "c8bec085eb284c18af346c753614da9b",
            "4346695d0f29437ab52b5acec4095b25",
            "bda5522d4ddb4db19ee4265d60de742b",
            "f465d886a0dd4efb9f5d652658fb7ee4",
            "a82c451a637d41609708ffe9c0f2aeb1",
            "d9375aebbea84f35a2968e83a77c7abe",
            "ccb594cad564464c932e9f794cd62867",
            "52f8a4ac86994dad8769525447e545f6",
            "069b39d32b5c43e9a89c70c5d55c2113",
            "f879899efa854bea9a636b8e611d7b31",
            "2ef230af034d4743b037b50b1a1d7bfe",
            "ddf00f1c3b93485d8b5d3d1324d4dd5a",
            "a886c42e97004afb9b39bf70924d2790",
            "e203994d0eea42b3b8652a05162bba69",
            "68fa8954050f489caa128e8cf94554f6",
            "e7767b2086d74376be925cdf9a410696",
            "9309a2672ac8447fbf204430ee0ad741",
            "316d26a68b5545a9961fa1e8bbac040f",
            "7f1195576b974fd79271d8eb5a859080",
            "450aaacac8324471a0fbdf7db4b36bb3"
          ]
        },
        "id": "3X3MiEfiaMth",
        "outputId": "777fe169-25ea-4af2-ff29-eb439ffa2692"
      },
      "execution_count": null,
      "outputs": [
        {
          "output_type": "display_data",
          "data": {
            "text/plain": [
              "tokenizer_config.json:   0%|          | 0.00/49.0 [00:00<?, ?B/s]"
            ],
            "application/vnd.jupyter.widget-view+json": {
              "version_major": 2,
              "version_minor": 0,
              "model_id": "7d140feb1a574f87af6e482ddb0aeef3"
            }
          },
          "metadata": {}
        },
        {
          "output_type": "display_data",
          "data": {
            "text/plain": [
              "vocab.txt:   0%|          | 0.00/213k [00:00<?, ?B/s]"
            ],
            "application/vnd.jupyter.widget-view+json": {
              "version_major": 2,
              "version_minor": 0,
              "model_id": "c2e0117cf15e49628fde5a6e468e4b69"
            }
          },
          "metadata": {}
        },
        {
          "output_type": "display_data",
          "data": {
            "text/plain": [
              "tokenizer.json:   0%|          | 0.00/436k [00:00<?, ?B/s]"
            ],
            "application/vnd.jupyter.widget-view+json": {
              "version_major": 2,
              "version_minor": 0,
              "model_id": "f879899efa854bea9a636b8e611d7b31"
            }
          },
          "metadata": {}
        }
      ]
    },
    {
      "cell_type": "markdown",
      "source": [
        "Similar to AutoModel, the AutoTokenizer class will grab the proper tokenizer class in the library based on the checkpoint name, and can be used directly with any checkpoint:"
      ],
      "metadata": {
        "id": "6iLXwYb-bpri"
      }
    },
    {
      "cell_type": "code",
      "source": [
        "from transformers import AutoTokenizer\n",
        "\n",
        "tokenizer = AutoTokenizer.from_pretrained(\"bert-base-cased\")"
      ],
      "metadata": {
        "id": "27ZkTKiZZcBf"
      },
      "execution_count": null,
      "outputs": []
    },
    {
      "cell_type": "code",
      "source": [
        "tokenizer(\"Using a Transformer network is simple\")"
      ],
      "metadata": {
        "colab": {
          "base_uri": "https://localhost:8080/"
        },
        "id": "xFqjuxFGbyvC",
        "outputId": "e52d2a1b-43d9-4d7a-9b34-8a8893d616da"
      },
      "execution_count": null,
      "outputs": [
        {
          "output_type": "execute_result",
          "data": {
            "text/plain": [
              "{'input_ids': [101, 7993, 170, 13809, 23763, 2443, 1110, 3014, 102], 'token_type_ids': [0, 0, 0, 0, 0, 0, 0, 0, 0], 'attention_mask': [1, 1, 1, 1, 1, 1, 1, 1, 1]}"
            ]
          },
          "metadata": {},
          "execution_count": 28
        }
      ]
    },
    {
      "cell_type": "code",
      "source": [
        "tokenizer.save_pretrained(\"directory_on_my_computer\")"
      ],
      "metadata": {
        "colab": {
          "base_uri": "https://localhost:8080/"
        },
        "id": "0lED9nmRbzqK",
        "outputId": "252e3a3d-dd2f-4895-943d-84c3bd9eb785"
      },
      "execution_count": null,
      "outputs": [
        {
          "output_type": "execute_result",
          "data": {
            "text/plain": [
              "('directory_on_my_computer/tokenizer_config.json',\n",
              " 'directory_on_my_computer/special_tokens_map.json',\n",
              " 'directory_on_my_computer/vocab.txt',\n",
              " 'directory_on_my_computer/added_tokens.json',\n",
              " 'directory_on_my_computer/tokenizer.json')"
            ]
          },
          "metadata": {},
          "execution_count": 29
        }
      ]
    },
    {
      "cell_type": "markdown",
      "source": [
        "We’ll talk more about token_type_ids in Chapter 3, and we’ll explain the attention_mask key a little later. First, let’s see how the input_ids are generated. To do this, we’ll need to look at the intermediate methods of the tokenizer."
      ],
      "metadata": {
        "id": "1fXz7pOFb7u2"
      }
    },
    {
      "cell_type": "markdown",
      "source": [
        "**Encoding**\n",
        "\n",
        "\n",
        "\n",
        "Translating text to numbers is known as encoding. Encoding is done in a two-step process: the tokenization, followed by the conversion to input IDs.\n",
        "\n",
        "As we’ve seen, the first step is to split the text into words (or parts of words, punctuation symbols, etc.), usually called tokens. There are multiple rules that can govern that process, which is why we need to instantiate the tokenizer using the name of the model, to make sure we use the same rules that were used when the model was pretrained.\n",
        "\n",
        "The second step is to convert those tokens into numbers, so we can build a tensor out of them and feed them to the model. To do this, the tokenizer has a vocabulary, which is the part we download when we instantiate it with the from_pretrained() method. Again, we need to use the same vocabulary used when the model was pretrained.\n",
        "\n",
        "To get a better understanding of the two steps, we’ll explore them separately. Note that we will use some methods that perform parts of the tokenization pipeline separately to show you the intermediate results of those steps, but in practice, you should call the tokenizer directly on your inputs"
      ],
      "metadata": {
        "id": "jcEKddvTcDTr"
      }
    },
    {
      "cell_type": "markdown",
      "source": [
        "Tokenization:\n",
        "==============\n",
        "The tokenization process is done by the tokenize() method of the tokenizer:"
      ],
      "metadata": {
        "id": "uvlDQkTfcqi5"
      }
    },
    {
      "cell_type": "code",
      "source": [
        "from transformers import AutoTokenizer\n",
        "\n",
        "tokenizer = AutoTokenizer.from_pretrained(\"bert-base-cased\")\n",
        "\n",
        "sequence = \"Using a Transformer network is simple\"\n",
        "tokens = tokenizer.tokenize(sequence)\n",
        "\n",
        "print(tokens)"
      ],
      "metadata": {
        "colab": {
          "base_uri": "https://localhost:8080/"
        },
        "id": "IaKY_5dQb2uc",
        "outputId": "cc9042a9-a8fd-4a33-9e43-d012ac6a3bdf"
      },
      "execution_count": null,
      "outputs": [
        {
          "output_type": "stream",
          "name": "stdout",
          "text": [
            "['Using', 'a', 'Trans', '##former', 'network', 'is', 'simple']\n"
          ]
        }
      ]
    },
    {
      "cell_type": "markdown",
      "source": [
        "**From tokens to input IDs**\n",
        "\n",
        "The conversion to input IDs is handled by the convert_tokens_to_ids() tokenizer method:"
      ],
      "metadata": {
        "id": "EEYgOSLNc1Ea"
      }
    },
    {
      "cell_type": "code",
      "source": [
        "ids = tokenizer.convert_tokens_to_ids(tokens)\n",
        "\n",
        "print(ids)"
      ],
      "metadata": {
        "colab": {
          "base_uri": "https://localhost:8080/"
        },
        "id": "sRnMVFVEcvuC",
        "outputId": "5b04b3de-a647-419c-c384-2ae778373d60"
      },
      "execution_count": null,
      "outputs": [
        {
          "output_type": "stream",
          "name": "stdout",
          "text": [
            "[7993, 170, 13809, 23763, 2443, 1110, 3014]\n"
          ]
        }
      ]
    },
    {
      "cell_type": "markdown",
      "source": [
        "Decoding:\n",
        "=========\n",
        "\n",
        "Decoding is going the other way around: from vocabulary indices, we want to get a string. This can be done with the decode() method as follows:"
      ],
      "metadata": {
        "id": "nHnmB_ohdFqz"
      }
    },
    {
      "cell_type": "code",
      "source": [
        "decoded_string = tokenizer.decode([7993, 170, 11303, 1200, 2443, 1110, 3014])\n",
        "print(decoded_string)"
      ],
      "metadata": {
        "colab": {
          "base_uri": "https://localhost:8080/"
        },
        "id": "t3Z4hU0Kc_zu",
        "outputId": "91fad9f0-1565-47b2-beb5-571f6c3133b6"
      },
      "execution_count": null,
      "outputs": [
        {
          "output_type": "stream",
          "name": "stdout",
          "text": [
            "Using a transformer network is simple\n"
          ]
        }
      ]
    },
    {
      "cell_type": "markdown",
      "source": [
        "Note that the decode method not only converts the indices back to tokens, but also groups together the tokens that were part of the same words to produce a readable sentence. This behavior will be extremely useful when we use models that predict new text"
      ],
      "metadata": {
        "id": "2LIQtrYSddrb"
      }
    },
    {
      "cell_type": "markdown",
      "source": [
        "**How do we handle multiple sequences?**\n",
        "**How do we handle multiple sequences of different lengths?\n",
        "Are vocabulary indices the only inputs that allow a model to work well?\n",
        "Is there such a thing as too long a sequence?\n",
        "Let’s see what kinds of problems these questions pose, and how we can solve them using the 🤗 Transformers API.**"
      ],
      "metadata": {
        "id": "Hb4_u2-QeY10"
      }
    },
    {
      "cell_type": "markdown",
      "source": [
        "**Model expects a batch of inputs**\n",
        "In the previous exercise you saw how sequences get translated into lists of numbers. Let’s convert this list of numbers to a tensor and send it to the model:"
      ],
      "metadata": {
        "id": "NWrnASUPe37w"
      }
    },
    {
      "cell_type": "code",
      "source": [
        "from transformers import AutoTokenizer, AutoModelForSequenceClassification\n",
        "\n",
        "checkpoint = \"distilbert-base-uncased-finetuned-sst-2-english\"\n",
        "tokenizer = AutoTokenizer.from_pretrained(checkpoint)\n",
        "model = AutoModelForSequenceClassification.from_pretrained(checkpoint)\n",
        "\n",
        "sequence = \"I've been waiting for a HuggingFace course my whole life.\"\n",
        "\n",
        "tokens = tokenizer.tokenize(sequence)\n",
        "ids = tokenizer.convert_tokens_to_ids(tokens)\n",
        "input_ids = torch.tensor(ids)\n",
        "# This line will fail.\n",
        "model(input_ids)"
      ],
      "metadata": {
        "colab": {
          "base_uri": "https://localhost:8080/",
          "height": 329
        },
        "id": "FuXl39uAdNWp",
        "outputId": "c03fa9b8-1837-45cb-ed29-8908c01cac9b"
      },
      "execution_count": null,
      "outputs": [
        {
          "output_type": "error",
          "ename": "IndexError",
          "evalue": "too many indices for tensor of dimension 1",
          "traceback": [
            "\u001b[0;31m---------------------------------------------------------------------------\u001b[0m",
            "\u001b[0;31mIndexError\u001b[0m                                Traceback (most recent call last)",
            "\u001b[0;32m<ipython-input-34-43bb3ab357ae>\u001b[0m in \u001b[0;36m<cell line: 13>\u001b[0;34m()\u001b[0m\n\u001b[1;32m     11\u001b[0m \u001b[0minput_ids\u001b[0m \u001b[0;34m=\u001b[0m \u001b[0mtorch\u001b[0m\u001b[0;34m.\u001b[0m\u001b[0mtensor\u001b[0m\u001b[0;34m(\u001b[0m\u001b[0mids\u001b[0m\u001b[0;34m)\u001b[0m\u001b[0;34m\u001b[0m\u001b[0;34m\u001b[0m\u001b[0m\n\u001b[1;32m     12\u001b[0m \u001b[0;31m# This line will fail.\u001b[0m\u001b[0;34m\u001b[0m\u001b[0;34m\u001b[0m\u001b[0m\n\u001b[0;32m---> 13\u001b[0;31m \u001b[0mmodel\u001b[0m\u001b[0;34m(\u001b[0m\u001b[0minput_ids\u001b[0m\u001b[0;34m)\u001b[0m\u001b[0;34m\u001b[0m\u001b[0;34m\u001b[0m\u001b[0m\n\u001b[0m",
            "\u001b[0;32m/usr/local/lib/python3.10/dist-packages/torch/nn/modules/module.py\u001b[0m in \u001b[0;36m_wrapped_call_impl\u001b[0;34m(self, *args, **kwargs)\u001b[0m\n\u001b[1;32m   1509\u001b[0m             \u001b[0;32mreturn\u001b[0m \u001b[0mself\u001b[0m\u001b[0;34m.\u001b[0m\u001b[0m_compiled_call_impl\u001b[0m\u001b[0;34m(\u001b[0m\u001b[0;34m*\u001b[0m\u001b[0margs\u001b[0m\u001b[0;34m,\u001b[0m \u001b[0;34m**\u001b[0m\u001b[0mkwargs\u001b[0m\u001b[0;34m)\u001b[0m  \u001b[0;31m# type: ignore[misc]\u001b[0m\u001b[0;34m\u001b[0m\u001b[0;34m\u001b[0m\u001b[0m\n\u001b[1;32m   1510\u001b[0m         \u001b[0;32melse\u001b[0m\u001b[0;34m:\u001b[0m\u001b[0;34m\u001b[0m\u001b[0;34m\u001b[0m\u001b[0m\n\u001b[0;32m-> 1511\u001b[0;31m             \u001b[0;32mreturn\u001b[0m \u001b[0mself\u001b[0m\u001b[0;34m.\u001b[0m\u001b[0m_call_impl\u001b[0m\u001b[0;34m(\u001b[0m\u001b[0;34m*\u001b[0m\u001b[0margs\u001b[0m\u001b[0;34m,\u001b[0m \u001b[0;34m**\u001b[0m\u001b[0mkwargs\u001b[0m\u001b[0;34m)\u001b[0m\u001b[0;34m\u001b[0m\u001b[0;34m\u001b[0m\u001b[0m\n\u001b[0m\u001b[1;32m   1512\u001b[0m \u001b[0;34m\u001b[0m\u001b[0m\n\u001b[1;32m   1513\u001b[0m     \u001b[0;32mdef\u001b[0m \u001b[0m_call_impl\u001b[0m\u001b[0;34m(\u001b[0m\u001b[0mself\u001b[0m\u001b[0;34m,\u001b[0m \u001b[0;34m*\u001b[0m\u001b[0margs\u001b[0m\u001b[0;34m,\u001b[0m \u001b[0;34m**\u001b[0m\u001b[0mkwargs\u001b[0m\u001b[0;34m)\u001b[0m\u001b[0;34m:\u001b[0m\u001b[0;34m\u001b[0m\u001b[0;34m\u001b[0m\u001b[0m\n",
            "\u001b[0;32m/usr/local/lib/python3.10/dist-packages/torch/nn/modules/module.py\u001b[0m in \u001b[0;36m_call_impl\u001b[0;34m(self, *args, **kwargs)\u001b[0m\n\u001b[1;32m   1518\u001b[0m                 \u001b[0;32mor\u001b[0m \u001b[0m_global_backward_pre_hooks\u001b[0m \u001b[0;32mor\u001b[0m \u001b[0m_global_backward_hooks\u001b[0m\u001b[0;34m\u001b[0m\u001b[0;34m\u001b[0m\u001b[0m\n\u001b[1;32m   1519\u001b[0m                 or _global_forward_hooks or _global_forward_pre_hooks):\n\u001b[0;32m-> 1520\u001b[0;31m             \u001b[0;32mreturn\u001b[0m \u001b[0mforward_call\u001b[0m\u001b[0;34m(\u001b[0m\u001b[0;34m*\u001b[0m\u001b[0margs\u001b[0m\u001b[0;34m,\u001b[0m \u001b[0;34m**\u001b[0m\u001b[0mkwargs\u001b[0m\u001b[0;34m)\u001b[0m\u001b[0;34m\u001b[0m\u001b[0;34m\u001b[0m\u001b[0m\n\u001b[0m\u001b[1;32m   1521\u001b[0m \u001b[0;34m\u001b[0m\u001b[0m\n\u001b[1;32m   1522\u001b[0m         \u001b[0;32mtry\u001b[0m\u001b[0;34m:\u001b[0m\u001b[0;34m\u001b[0m\u001b[0;34m\u001b[0m\u001b[0m\n",
            "\u001b[0;32m/usr/local/lib/python3.10/dist-packages/transformers/models/distilbert/modeling_distilbert.py\u001b[0m in \u001b[0;36mforward\u001b[0;34m(self, input_ids, attention_mask, head_mask, inputs_embeds, labels, output_attentions, output_hidden_states, return_dict)\u001b[0m\n\u001b[1;32m    992\u001b[0m         \u001b[0mreturn_dict\u001b[0m \u001b[0;34m=\u001b[0m \u001b[0mreturn_dict\u001b[0m \u001b[0;32mif\u001b[0m \u001b[0mreturn_dict\u001b[0m \u001b[0;32mis\u001b[0m \u001b[0;32mnot\u001b[0m \u001b[0;32mNone\u001b[0m \u001b[0;32melse\u001b[0m \u001b[0mself\u001b[0m\u001b[0;34m.\u001b[0m\u001b[0mconfig\u001b[0m\u001b[0;34m.\u001b[0m\u001b[0muse_return_dict\u001b[0m\u001b[0;34m\u001b[0m\u001b[0;34m\u001b[0m\u001b[0m\n\u001b[1;32m    993\u001b[0m \u001b[0;34m\u001b[0m\u001b[0m\n\u001b[0;32m--> 994\u001b[0;31m         distilbert_output = self.distilbert(\n\u001b[0m\u001b[1;32m    995\u001b[0m             \u001b[0minput_ids\u001b[0m\u001b[0;34m=\u001b[0m\u001b[0minput_ids\u001b[0m\u001b[0;34m,\u001b[0m\u001b[0;34m\u001b[0m\u001b[0;34m\u001b[0m\u001b[0m\n\u001b[1;32m    996\u001b[0m             \u001b[0mattention_mask\u001b[0m\u001b[0;34m=\u001b[0m\u001b[0mattention_mask\u001b[0m\u001b[0;34m,\u001b[0m\u001b[0;34m\u001b[0m\u001b[0;34m\u001b[0m\u001b[0m\n",
            "\u001b[0;32m/usr/local/lib/python3.10/dist-packages/torch/nn/modules/module.py\u001b[0m in \u001b[0;36m_wrapped_call_impl\u001b[0;34m(self, *args, **kwargs)\u001b[0m\n\u001b[1;32m   1509\u001b[0m             \u001b[0;32mreturn\u001b[0m \u001b[0mself\u001b[0m\u001b[0;34m.\u001b[0m\u001b[0m_compiled_call_impl\u001b[0m\u001b[0;34m(\u001b[0m\u001b[0;34m*\u001b[0m\u001b[0margs\u001b[0m\u001b[0;34m,\u001b[0m \u001b[0;34m**\u001b[0m\u001b[0mkwargs\u001b[0m\u001b[0;34m)\u001b[0m  \u001b[0;31m# type: ignore[misc]\u001b[0m\u001b[0;34m\u001b[0m\u001b[0;34m\u001b[0m\u001b[0m\n\u001b[1;32m   1510\u001b[0m         \u001b[0;32melse\u001b[0m\u001b[0;34m:\u001b[0m\u001b[0;34m\u001b[0m\u001b[0;34m\u001b[0m\u001b[0m\n\u001b[0;32m-> 1511\u001b[0;31m             \u001b[0;32mreturn\u001b[0m \u001b[0mself\u001b[0m\u001b[0;34m.\u001b[0m\u001b[0m_call_impl\u001b[0m\u001b[0;34m(\u001b[0m\u001b[0;34m*\u001b[0m\u001b[0margs\u001b[0m\u001b[0;34m,\u001b[0m \u001b[0;34m**\u001b[0m\u001b[0mkwargs\u001b[0m\u001b[0;34m)\u001b[0m\u001b[0;34m\u001b[0m\u001b[0;34m\u001b[0m\u001b[0m\n\u001b[0m\u001b[1;32m   1512\u001b[0m \u001b[0;34m\u001b[0m\u001b[0m\n\u001b[1;32m   1513\u001b[0m     \u001b[0;32mdef\u001b[0m \u001b[0m_call_impl\u001b[0m\u001b[0;34m(\u001b[0m\u001b[0mself\u001b[0m\u001b[0;34m,\u001b[0m \u001b[0;34m*\u001b[0m\u001b[0margs\u001b[0m\u001b[0;34m,\u001b[0m \u001b[0;34m**\u001b[0m\u001b[0mkwargs\u001b[0m\u001b[0;34m)\u001b[0m\u001b[0;34m:\u001b[0m\u001b[0;34m\u001b[0m\u001b[0;34m\u001b[0m\u001b[0m\n",
            "\u001b[0;32m/usr/local/lib/python3.10/dist-packages/torch/nn/modules/module.py\u001b[0m in \u001b[0;36m_call_impl\u001b[0;34m(self, *args, **kwargs)\u001b[0m\n\u001b[1;32m   1518\u001b[0m                 \u001b[0;32mor\u001b[0m \u001b[0m_global_backward_pre_hooks\u001b[0m \u001b[0;32mor\u001b[0m \u001b[0m_global_backward_hooks\u001b[0m\u001b[0;34m\u001b[0m\u001b[0;34m\u001b[0m\u001b[0m\n\u001b[1;32m   1519\u001b[0m                 or _global_forward_hooks or _global_forward_pre_hooks):\n\u001b[0;32m-> 1520\u001b[0;31m             \u001b[0;32mreturn\u001b[0m \u001b[0mforward_call\u001b[0m\u001b[0;34m(\u001b[0m\u001b[0;34m*\u001b[0m\u001b[0margs\u001b[0m\u001b[0;34m,\u001b[0m \u001b[0;34m**\u001b[0m\u001b[0mkwargs\u001b[0m\u001b[0;34m)\u001b[0m\u001b[0;34m\u001b[0m\u001b[0;34m\u001b[0m\u001b[0m\n\u001b[0m\u001b[1;32m   1521\u001b[0m \u001b[0;34m\u001b[0m\u001b[0m\n\u001b[1;32m   1522\u001b[0m         \u001b[0;32mtry\u001b[0m\u001b[0;34m:\u001b[0m\u001b[0;34m\u001b[0m\u001b[0;34m\u001b[0m\u001b[0m\n",
            "\u001b[0;32m/usr/local/lib/python3.10/dist-packages/transformers/models/distilbert/modeling_distilbert.py\u001b[0m in \u001b[0;36mforward\u001b[0;34m(self, input_ids, attention_mask, head_mask, inputs_embeds, output_attentions, output_hidden_states, return_dict)\u001b[0m\n\u001b[1;32m    792\u001b[0m             \u001b[0;32mraise\u001b[0m \u001b[0mValueError\u001b[0m\u001b[0;34m(\u001b[0m\u001b[0;34m\"You cannot specify both input_ids and inputs_embeds at the same time\"\u001b[0m\u001b[0;34m)\u001b[0m\u001b[0;34m\u001b[0m\u001b[0;34m\u001b[0m\u001b[0m\n\u001b[1;32m    793\u001b[0m         \u001b[0;32melif\u001b[0m \u001b[0minput_ids\u001b[0m \u001b[0;32mis\u001b[0m \u001b[0;32mnot\u001b[0m \u001b[0;32mNone\u001b[0m\u001b[0;34m:\u001b[0m\u001b[0;34m\u001b[0m\u001b[0;34m\u001b[0m\u001b[0m\n\u001b[0;32m--> 794\u001b[0;31m             \u001b[0mself\u001b[0m\u001b[0;34m.\u001b[0m\u001b[0mwarn_if_padding_and_no_attention_mask\u001b[0m\u001b[0;34m(\u001b[0m\u001b[0minput_ids\u001b[0m\u001b[0;34m,\u001b[0m \u001b[0mattention_mask\u001b[0m\u001b[0;34m)\u001b[0m\u001b[0;34m\u001b[0m\u001b[0;34m\u001b[0m\u001b[0m\n\u001b[0m\u001b[1;32m    795\u001b[0m             \u001b[0minput_shape\u001b[0m \u001b[0;34m=\u001b[0m \u001b[0minput_ids\u001b[0m\u001b[0;34m.\u001b[0m\u001b[0msize\u001b[0m\u001b[0;34m(\u001b[0m\u001b[0;34m)\u001b[0m\u001b[0;34m\u001b[0m\u001b[0;34m\u001b[0m\u001b[0m\n\u001b[1;32m    796\u001b[0m         \u001b[0;32melif\u001b[0m \u001b[0minputs_embeds\u001b[0m \u001b[0;32mis\u001b[0m \u001b[0;32mnot\u001b[0m \u001b[0;32mNone\u001b[0m\u001b[0;34m:\u001b[0m\u001b[0;34m\u001b[0m\u001b[0;34m\u001b[0m\u001b[0m\n",
            "\u001b[0;32m/usr/local/lib/python3.10/dist-packages/transformers/modeling_utils.py\u001b[0m in \u001b[0;36mwarn_if_padding_and_no_attention_mask\u001b[0;34m(self, input_ids, attention_mask)\u001b[0m\n\u001b[1;32m   4345\u001b[0m \u001b[0;34m\u001b[0m\u001b[0m\n\u001b[1;32m   4346\u001b[0m         \u001b[0;31m# Check only the first and last input IDs to reduce overhead.\u001b[0m\u001b[0;34m\u001b[0m\u001b[0;34m\u001b[0m\u001b[0m\n\u001b[0;32m-> 4347\u001b[0;31m         \u001b[0;32mif\u001b[0m \u001b[0mself\u001b[0m\u001b[0;34m.\u001b[0m\u001b[0mconfig\u001b[0m\u001b[0;34m.\u001b[0m\u001b[0mpad_token_id\u001b[0m \u001b[0;32min\u001b[0m \u001b[0minput_ids\u001b[0m\u001b[0;34m[\u001b[0m\u001b[0;34m:\u001b[0m\u001b[0;34m,\u001b[0m \u001b[0;34m[\u001b[0m\u001b[0;34m-\u001b[0m\u001b[0;36m1\u001b[0m\u001b[0;34m,\u001b[0m \u001b[0;36m0\u001b[0m\u001b[0;34m]\u001b[0m\u001b[0;34m]\u001b[0m\u001b[0;34m:\u001b[0m\u001b[0;34m\u001b[0m\u001b[0;34m\u001b[0m\u001b[0m\n\u001b[0m\u001b[1;32m   4348\u001b[0m             warn_string = (\n\u001b[1;32m   4349\u001b[0m                 \u001b[0;34m\"We strongly recommend passing in an `attention_mask` since your input_ids may be padded. See \"\u001b[0m\u001b[0;34m\u001b[0m\u001b[0;34m\u001b[0m\u001b[0m\n",
            "\u001b[0;31mIndexError\u001b[0m: too many indices for tensor of dimension 1"
          ]
        }
      ]
    },
    {
      "cell_type": "markdown",
      "source": [
        "Hypothesis:\n",
        "\n",
        "The error is caused by the input tensor input_ids being one-dimensional. The DistilBertForSequenceClassification model expects a two-dimensional input tensor of shape (batch_size, sequence_length). The user has provided a one-dimensional tensor of shape (sequence_length).\n",
        "\n"
      ],
      "metadata": {
        "id": "MmmYVC8FjvMH"
      }
    },
    {
      "cell_type": "code",
      "source": [
        "#this is the best practice\n",
        "tokenized_inputs = tokenizer(sequence, return_tensors=\"pt\")\n",
        "print(tokenized_inputs[\"input_ids\"])"
      ],
      "metadata": {
        "colab": {
          "base_uri": "https://localhost:8080/"
        },
        "id": "X6DfkGlUe7su",
        "outputId": "a2bd1335-597a-452b-eab7-d237c4d12a25"
      },
      "execution_count": null,
      "outputs": [
        {
          "output_type": "stream",
          "name": "stdout",
          "text": [
            "tensor([[  101,  1045,  1005,  2310,  2042,  3403,  2005,  1037, 17662, 12172,\n",
            "          2607,  2026,  2878,  2166,  1012,   102]])\n"
          ]
        }
      ]
    },
    {
      "cell_type": "markdown",
      "source": [
        "Let’s try again and add a new dimension:"
      ],
      "metadata": {
        "id": "qoRMwxAekH4r"
      }
    },
    {
      "cell_type": "code",
      "source": [
        "import torch\n",
        "from transformers import AutoTokenizer, AutoModelForSequenceClassification\n",
        "\n",
        "checkpoint = \"distilbert-base-uncased-finetuned-sst-2-english\"\n",
        "tokenizer = AutoTokenizer.from_pretrained(checkpoint)\n",
        "model = AutoModelForSequenceClassification.from_pretrained(checkpoint)\n",
        "\n",
        "sequence = \"I've been waiting for a HuggingFace course my whole life.\"\n",
        "\n",
        "tokens = tokenizer.tokenize(sequence)\n",
        "ids = tokenizer.convert_tokens_to_ids(tokens)\n",
        "\n",
        "input_ids = torch.tensor([ids])\n",
        "print(\"Input IDs:\", input_ids)\n",
        "\n",
        "output = model(input_ids)\n",
        "print(\"Logits:\", output.logits)"
      ],
      "metadata": {
        "colab": {
          "base_uri": "https://localhost:8080/"
        },
        "id": "mGyXsCcRkAoX",
        "outputId": "8f39f84f-a303-49ca-8fb0-1f03f709ce4d"
      },
      "execution_count": null,
      "outputs": [
        {
          "output_type": "stream",
          "name": "stdout",
          "text": [
            "Input IDs: tensor([[ 1045,  1005,  2310,  2042,  3403,  2005,  1037, 17662, 12172,  2607,\n",
            "          2026,  2878,  2166,  1012]])\n",
            "Logits: tensor([[-2.7276,  2.8789]], grad_fn=<AddmmBackward0>)\n"
          ]
        }
      ]
    },
    {
      "cell_type": "markdown",
      "source": [
        "**Batching is the act of sending multiple sentences through the model, all at once. If you only have one sentence, you can just build a batch with a single sequence:**"
      ],
      "metadata": {
        "id": "4W9MegT_nanV"
      }
    },
    {
      "cell_type": "code",
      "source": [
        "batched_ids = [ids, ids]"
      ],
      "metadata": {
        "id": "bwND-9Y6kMLk"
      },
      "execution_count": null,
      "outputs": []
    },
    {
      "cell_type": "markdown",
      "source": [
        "Batching allows the model to work when you feed it multiple sentences. Using multiple sequences is just as simple as building a batch with a single sequence. There’s a second issue, though. When you’re trying to batch together two (or more) sentences, they might be of different lengths. If you’ve ever worked with tensors before, you know that they need to be of rectangular shape, so you won’t be able to convert the list of input IDs into a tensor directly. To work around this problem, we usually pad the inputs."
      ],
      "metadata": {
        "id": "VtI92wGSnmAc"
      }
    },
    {
      "cell_type": "markdown",
      "source": [
        "**Padding the inputs**\n",
        "\n",
        "we are proving the batched_ids ourselves\n",
        "\n",
        "The following list of lists cannot be converted to a tensor:"
      ],
      "metadata": {
        "id": "aumr2F__nvOM"
      }
    },
    {
      "cell_type": "code",
      "source": [
        "batched_ids = [\n",
        "    [200, 200, 200],\n",
        "    [200, 200]\n",
        "]"
      ],
      "metadata": {
        "id": "xDxZ3UdvnhVN"
      },
      "execution_count": null,
      "outputs": []
    },
    {
      "cell_type": "markdown",
      "source": [
        "In order to work around this, we’ll use padding to make our tensors have a rectangular shape. Padding makes sure all our sentences have the same length by adding a special word called the padding token to the sentences with fewer values. For example, if you have 10 sentences with 10 words and 1 sentence with 20 words, padding will ensure all the sentences have 20 words. In our example, the resulting tensor looks like this:"
      ],
      "metadata": {
        "id": "KvGI22lqo8oP"
      }
    },
    {
      "cell_type": "code",
      "source": [
        "padding_id = 100\n",
        "\n",
        "batched_ids = [\n",
        "    [200, 200, 200],\n",
        "    [200, 200, padding_id],\n",
        "]"
      ],
      "metadata": {
        "id": "ELhyJWYToz4f"
      },
      "execution_count": null,
      "outputs": []
    },
    {
      "cell_type": "markdown",
      "source": [
        "The padding token ID can be found in tokenizer.pad_token_id. Let’s use it and send our two sentences through the model individually and batched together:"
      ],
      "metadata": {
        "id": "2E9Ir9W7phaf"
      }
    },
    {
      "cell_type": "code",
      "source": [
        "model = AutoModelForSequenceClassification.from_pretrained(checkpoint)\n",
        "\n",
        "sequence1_ids = [[200, 200, 200]]\n",
        "sequence2_ids = [[200, 200]]\n",
        "batched_ids = [\n",
        "    [200, 200, 200],\n",
        "    [200, 200, tokenizer.pad_token_id],\n",
        "]\n",
        "\n",
        "print(model(torch.tensor(sequence1_ids)).logits)\n",
        "print(model(torch.tensor(sequence2_ids)).logits)\n",
        "print(model(torch.tensor(batched_ids)).logits)"
      ],
      "metadata": {
        "colab": {
          "base_uri": "https://localhost:8080/"
        },
        "id": "K4B45y8UpA8r",
        "outputId": "4f262a9e-fa53-4090-eedb-0ed45a83b5ea"
      },
      "execution_count": null,
      "outputs": [
        {
          "output_type": "stream",
          "name": "stderr",
          "text": [
            "We strongly recommend passing in an `attention_mask` since your input_ids may be padded. See https://huggingface.co/docs/transformers/troubleshooting#incorrect-output-when-padding-tokens-arent-masked.\n"
          ]
        },
        {
          "output_type": "stream",
          "name": "stdout",
          "text": [
            "tensor([[ 1.5694, -1.3895]], grad_fn=<AddmmBackward0>)\n",
            "tensor([[ 0.5803, -0.4125]], grad_fn=<AddmmBackward0>)\n",
            "tensor([[ 1.5694, -1.3895],\n",
            "        [ 1.3374, -1.2163]], grad_fn=<AddmmBackward0>)\n"
          ]
        }
      ]
    },
    {
      "cell_type": "markdown",
      "source": [
        "There’s something wrong with the logits in our batched predictions: the second row should be the same as the logits for the second sentence, but we’ve got completely different values!\n",
        "\n",
        "This is because the key feature of Transformer models is attention layers that contextualize each token. These will take into account the padding tokens since they attend to all of the tokens of a sequence. To get the same result when passing individual sentences of different lengths through the model or when passing a batch with the same sentences and padding applied, we need to tell those attention layers to ignore the padding tokens. This is done by using an attention mask."
      ],
      "metadata": {
        "id": "-bq6mhCutSej"
      }
    },
    {
      "cell_type": "markdown",
      "source": [
        "Attention masks:\n",
        "================="
      ],
      "metadata": {
        "id": "Fss3NcQwxvI6"
      }
    },
    {
      "cell_type": "markdown",
      "source": [
        "Attention masks are tensors with the exact same shape as the input IDs tensor, filled with 0s and 1s: 1s indicate the corresponding tokens should be attended to, and 0s indicate the corresponding tokens should not be attended to (i.e., they should be ignored by the attention layers of the model)."
      ],
      "metadata": {
        "id": "iLuLIur3x1Lm"
      }
    },
    {
      "cell_type": "markdown",
      "source": [
        "Let’s complete the previous example with an attention mask:"
      ],
      "metadata": {
        "id": "47dPBsQwx56r"
      }
    },
    {
      "cell_type": "code",
      "source": [
        "batched_ids = [\n",
        "    [200, 200, 200],\n",
        "    [200, 200, tokenizer.pad_token_id],\n",
        "]\n",
        "\n",
        "attention_mask = [\n",
        "    [1, 1, 1],\n",
        "    [1, 1, 0],\n",
        "]\n",
        "\n",
        "outputs = model(torch.tensor(batched_ids), attention_mask=torch.tensor(attention_mask))\n",
        "print(outputs.logits)"
      ],
      "metadata": {
        "colab": {
          "base_uri": "https://localhost:8080/"
        },
        "id": "OgwRAN4GqFSg",
        "outputId": "d3eeb84b-acc6-4d16-9b35-787656b813d2"
      },
      "execution_count": null,
      "outputs": [
        {
          "output_type": "stream",
          "name": "stdout",
          "text": [
            "tensor([[ 1.5694, -1.3895],\n",
            "        [ 0.5803, -0.4125]], grad_fn=<AddmmBackward0>)\n"
          ]
        }
      ]
    },
    {
      "cell_type": "markdown",
      "source": [
        "Now we get the same logits for the second sentence in the batch.\n",
        "\n",
        "Notice how the last value of the second sequence is a padding ID, which is a 0 value in the attention mask."
      ],
      "metadata": {
        "id": "k_U2rfmDyAfF"
      }
    },
    {
      "cell_type": "code",
      "source": [],
      "metadata": {
        "id": "O7irHY0Sx5KD"
      },
      "execution_count": null,
      "outputs": []
    },
    {
      "cell_type": "markdown",
      "source": [
        "**putting all the above content together**"
      ],
      "metadata": {
        "id": "CDADJumRnhOl"
      }
    },
    {
      "cell_type": "markdown",
      "source": [
        "When you call your tokenizer directly on the sentence, you get back inputs that are ready to pass through your model:"
      ],
      "metadata": {
        "id": "P-Owq5zenrs7"
      }
    },
    {
      "cell_type": "code",
      "source": [
        "from transformers import AutoTokenizer\n",
        "\n",
        "checkpoint = \"distilbert-base-uncased-finetuned-sst-2-english\"\n",
        "tokenizer = AutoTokenizer.from_pretrained(checkpoint)\n",
        "\n",
        "sequence = \"I've been waiting for a HuggingFace course my whole life.\"\n",
        "\n",
        "model_inputs = tokenizer(sequence)\n",
        "print(model_inputs)"
      ],
      "metadata": {
        "colab": {
          "base_uri": "https://localhost:8080/"
        },
        "id": "J_D4a0j_nmVR",
        "outputId": "7a8613a3-f418-4189-eaa8-d04f691e49c9"
      },
      "execution_count": null,
      "outputs": [
        {
          "output_type": "stream",
          "name": "stdout",
          "text": [
            "{'input_ids': [101, 1045, 1005, 2310, 2042, 3403, 2005, 1037, 17662, 12172, 2607, 2026, 2878, 2166, 1012, 102], 'attention_mask': [1, 1, 1, 1, 1, 1, 1, 1, 1, 1, 1, 1, 1, 1, 1, 1]}\n"
          ]
        }
      ]
    },
    {
      "cell_type": "code",
      "source": [
        "sequences = [\"I've been waiting for a HuggingFace course my whole life.\", \"So have I!\"]\n",
        "\n",
        "model_inputs1 = tokenizer(sequences)\n",
        "\n",
        "print(model_inputs1)"
      ],
      "metadata": {
        "colab": {
          "base_uri": "https://localhost:8080/"
        },
        "id": "fi-HuMU1nxoM",
        "outputId": "8f4e8289-9d28-443a-9e90-cfe267611c9e"
      },
      "execution_count": null,
      "outputs": [
        {
          "output_type": "stream",
          "name": "stdout",
          "text": [
            "{'input_ids': [[101, 1045, 1005, 2310, 2042, 3403, 2005, 1037, 17662, 12172, 2607, 2026, 2878, 2166, 1012, 102], [101, 2061, 2031, 1045, 999, 102]], 'attention_mask': [[1, 1, 1, 1, 1, 1, 1, 1, 1, 1, 1, 1, 1, 1, 1, 1], [1, 1, 1, 1, 1, 1]]}\n"
          ]
        }
      ]
    },
    {
      "cell_type": "markdown",
      "source": [
        "padding according to several objectives"
      ],
      "metadata": {
        "id": "7S2B6aHuoXHm"
      }
    },
    {
      "cell_type": "code",
      "source": [
        "# Will pad the sequences up to the maximum sequence length\n",
        "model_inputs = tokenizer(sequences, padding=\"longest\")\n",
        "\n",
        "# Will pad the sequences up to the model max length\n",
        "# (512 for BERT or DistilBERT)\n",
        "model_inputs = tokenizer(sequences, padding=\"max_length\")\n",
        "\n",
        "# Will pad the sequences up to the specified max length\n",
        "model_inputs = tokenizer(sequences, padding=\"max_length\", max_length=8)"
      ],
      "metadata": {
        "id": "xivTk6y_oCZx"
      },
      "execution_count": null,
      "outputs": []
    },
    {
      "cell_type": "markdown",
      "source": [
        "truncation of sequences"
      ],
      "metadata": {
        "id": "ZLgj1WmLotZN"
      }
    },
    {
      "cell_type": "code",
      "source": [
        "sequences = [\"I've been waiting for a HuggingFace course my whole life.\", \"So have I!\"]\n",
        "\n",
        "# Will truncate the sequences that are longer than the model max length\n",
        "# (512 for BERT or DistilBERT)\n",
        "model_inputs = tokenizer(sequences, truncation=True)\n",
        "\n",
        "# Will truncate the sequences that are longer than the specified max length\n",
        "model_inputs = tokenizer(sequences, max_length=8, truncation=True)"
      ],
      "metadata": {
        "id": "GJhi9MMYoat2"
      },
      "execution_count": null,
      "outputs": []
    },
    {
      "cell_type": "markdown",
      "source": [
        "the tokenizer can handle conversion of tensors to  that can be directly sent to model.this ca be done using this."
      ],
      "metadata": {
        "id": "COTfpTwto-aw"
      }
    },
    {
      "cell_type": "code",
      "source": [
        "sequences = [\"I've been waiting for a HuggingFace course my whole life.\", \"So have I!\"]\n",
        "\n",
        "# Returns PyTorch tensors\n",
        "model_inputs = tokenizer(sequences, padding=True, return_tensors=\"pt\")\n",
        "\n",
        "# Returns TensorFlow tensors\n",
        "model_inputs = tokenizer(sequences, padding=True, return_tensors=\"tf\")\n",
        "\n",
        "# Returns NumPy arrays\n",
        "model_inputs = tokenizer(sequences, padding=True, return_tensors=\"np\")"
      ],
      "metadata": {
        "id": "z5L_-0OtovsE"
      },
      "execution_count": null,
      "outputs": []
    },
    {
      "cell_type": "markdown",
      "source": [
        "**Special tokens**"
      ],
      "metadata": {
        "id": "arhe7KMxpayL"
      }
    },
    {
      "cell_type": "markdown",
      "source": [
        "If we take a look at the input IDs returned by the tokenizer, we will see they are a tiny bit different from what we had earlier:"
      ],
      "metadata": {
        "id": "ZQ3HUs3qrf7G"
      }
    },
    {
      "cell_type": "code",
      "source": [
        "sequence = \"I've been waiting for a HuggingFace course my whole life.\"\n",
        "\n",
        "model_inputs = tokenizer(sequence)\n",
        "print(model_inputs[\"input_ids\"])\n",
        "\n",
        "tokens = tokenizer.tokenize(sequence)\n",
        "ids = tokenizer.convert_tokens_to_ids(tokens)\n",
        "print(ids)"
      ],
      "metadata": {
        "colab": {
          "base_uri": "https://localhost:8080/"
        },
        "id": "i8T1pyAlpOuw",
        "outputId": "75bfbba7-f29d-45e2-b5a0-dd423b1d687d"
      },
      "execution_count": null,
      "outputs": [
        {
          "output_type": "stream",
          "name": "stdout",
          "text": [
            "[101, 1045, 1005, 2310, 2042, 3403, 2005, 1037, 17662, 12172, 2607, 2026, 2878, 2166, 1012, 102]\n",
            "[1045, 1005, 2310, 2042, 3403, 2005, 1037, 17662, 12172, 2607, 2026, 2878, 2166, 1012]\n"
          ]
        }
      ]
    },
    {
      "cell_type": "markdown",
      "source": [
        "One token ID was added at the beginning, and one at the end. Let’s decode the two sequences of IDs above to see"
      ],
      "metadata": {
        "id": "K_HLLDj6r8XK"
      }
    },
    {
      "cell_type": "code",
      "source": [
        "print(tokenizer.decode(model_inputs[\"input_ids\"]))\n",
        "print(tokenizer.decode(ids))"
      ],
      "metadata": {
        "colab": {
          "base_uri": "https://localhost:8080/"
        },
        "id": "4C0w2ZybrlqW",
        "outputId": "0c164732-b394-4230-c5de-86f34c6314a6"
      },
      "execution_count": null,
      "outputs": [
        {
          "output_type": "stream",
          "name": "stdout",
          "text": [
            "[CLS] i've been waiting for a huggingface course my whole life. [SEP]\n",
            "i've been waiting for a huggingface course my whole life.\n"
          ]
        }
      ]
    },
    {
      "cell_type": "markdown",
      "source": [
        "The tokenizer added the special word [CLS] at the beginning and the special word [SEP] at the end. This is because the model was pretrained with those, so to get the same results for inference we need to add them as well. Note that some models don’t add special words, or add different ones; models may also add these special words only at the beginning, or only at the end. In any case, the tokenizer knows which ones are expected and will deal with this for you."
      ],
      "metadata": {
        "id": "9LZH5fJwtMXd"
      }
    },
    {
      "cell_type": "markdown",
      "source": [
        "**Wrapping up: From tokenizer to model**"
      ],
      "metadata": {
        "id": "YskKMX2htPv3"
      }
    },
    {
      "cell_type": "markdown",
      "source": [
        "Now that we’ve seen all the individual steps the tokenizer object uses when applied on texts, let’s see one final time how it can handle multiple sequences (padding!), very long sequences (truncation!), and multiple types of tensors with its main API:\n"
      ],
      "metadata": {
        "id": "pzDcrE87tVVl"
      }
    },
    {
      "cell_type": "code",
      "source": [
        "import torch\n",
        "from transformers import AutoTokenizer, AutoModelForSequenceClassification\n",
        "\n",
        "checkpoint = \"distilbert-base-uncased-finetuned-sst-2-english\"\n",
        "tokenizer = AutoTokenizer.from_pretrained(checkpoint)\n",
        "model = AutoModelForSequenceClassification.from_pretrained(checkpoint)\n",
        "sequences = [\"I've been waiting for a HuggingFace course my whole life.\", \"So have I!\"]\n",
        "\n",
        "tokens = tokenizer(sequences, padding=True, truncation=True, return_tensors=\"pt\")\n",
        "output = model(**tokens)"
      ],
      "metadata": {
        "colab": {
          "base_uri": "https://localhost:8080/",
          "height": 49,
          "referenced_widgets": [
            "07d59b34675e411eb5d6bc42ef75b229",
            "05f82556357c4e029f709363dce37379",
            "29bbdfb3483845d6bb4d093cc666ceca",
            "2aa2d80865fc4613bc3ba81d11978cce",
            "b1d0ff50bd49482bb2758ac20d1b815f",
            "1bd19af2f35340698d6e02f185dca3d8",
            "c90661a9733e4933a2f93f2ba3e513fd",
            "d37de4fe73b34fb0956a1f3dbcb67ee3",
            "522dddd420704fb1b7bf9acf8d3365ab",
            "7a98b8cd04164f15aed90f74e16b5f2b",
            "61a0a153556a4a8f800946588b64cae6"
          ]
        },
        "id": "SToSaDTMr_rA",
        "outputId": "5aa29381-644d-41bd-f220-96e6469b4d38"
      },
      "execution_count": null,
      "outputs": [
        {
          "output_type": "display_data",
          "data": {
            "text/plain": [
              "model.safetensors:   0%|          | 0.00/268M [00:00<?, ?B/s]"
            ],
            "application/vnd.jupyter.widget-view+json": {
              "version_major": 2,
              "version_minor": 0,
              "model_id": "07d59b34675e411eb5d6bc42ef75b229"
            }
          },
          "metadata": {}
        }
      ]
    },
    {
      "cell_type": "code",
      "source": [],
      "metadata": {
        "id": "WArvw-BxteFN"
      },
      "execution_count": null,
      "outputs": []
    }
  ]
}